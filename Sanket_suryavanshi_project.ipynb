{
  "cells": [
    {
      "cell_type": "markdown",
      "metadata": {
        "id": "view-in-github",
        "colab_type": "text"
      },
      "source": [
        "<a href=\"https://colab.research.google.com/github/sankets96/Credit-card-fraud/blob/main/Sanket_suryavanshi_project.ipynb\" target=\"_parent\"><img src=\"https://colab.research.google.com/assets/colab-badge.svg\" alt=\"Open In Colab\"/></a>"
      ]
    },
    {
      "cell_type": "code",
      "execution_count": null,
      "metadata": {
        "id": "9__DOY7pTXQI"
      },
      "outputs": [],
      "source": [
        "import numpy as np\n",
        "import pandas as pd\n",
        "import matplotlib.pyplot as plt\n",
        "import seaborn as sns"
      ]
    },
    {
      "cell_type": "markdown",
      "metadata": {
        "id": "rLDBfsGhmV5W"
      },
      "source": [
        "**Stock price forcasting using data yahoo finanace**"
      ]
    },
    {
      "cell_type": "code",
      "execution_count": null,
      "metadata": {
        "colab": {
          "base_uri": "https://localhost:8080/"
        },
        "id": "Mmi73rq5l0eS",
        "outputId": "005a1b63-3150-4831-97ef-81484f80f16b"
      },
      "outputs": [
        {
          "name": "stdout",
          "output_type": "stream",
          "text": [
            "Collecting yfinance\n",
            "  Downloading yfinance-0.1.70-py2.py3-none-any.whl (26 kB)\n",
            "Requirement already satisfied: pandas>=0.24.0 in /usr/local/lib/python3.7/dist-packages (from yfinance) (1.3.5)\n",
            "Collecting requests>=2.26\n",
            "  Downloading requests-2.27.1-py2.py3-none-any.whl (63 kB)\n",
            "\u001b[K     |████████████████████████████████| 63 kB 1.2 MB/s \n",
            "\u001b[?25hRequirement already satisfied: numpy>=1.15 in /usr/local/lib/python3.7/dist-packages (from yfinance) (1.21.5)\n",
            "Requirement already satisfied: multitasking>=0.0.7 in /usr/local/lib/python3.7/dist-packages (from yfinance) (0.0.10)\n",
            "Collecting lxml>=4.5.1\n",
            "  Downloading lxml-4.8.0-cp37-cp37m-manylinux_2_17_x86_64.manylinux2014_x86_64.manylinux_2_24_x86_64.whl (6.4 MB)\n",
            "\u001b[K     |████████████████████████████████| 6.4 MB 6.7 MB/s \n",
            "\u001b[?25hRequirement already satisfied: python-dateutil>=2.7.3 in /usr/local/lib/python3.7/dist-packages (from pandas>=0.24.0->yfinance) (2.8.2)\n",
            "Requirement already satisfied: pytz>=2017.3 in /usr/local/lib/python3.7/dist-packages (from pandas>=0.24.0->yfinance) (2018.9)\n",
            "Requirement already satisfied: six>=1.5 in /usr/local/lib/python3.7/dist-packages (from python-dateutil>=2.7.3->pandas>=0.24.0->yfinance) (1.15.0)\n",
            "Requirement already satisfied: urllib3<1.27,>=1.21.1 in /usr/local/lib/python3.7/dist-packages (from requests>=2.26->yfinance) (1.24.3)\n",
            "Requirement already satisfied: idna<4,>=2.5 in /usr/local/lib/python3.7/dist-packages (from requests>=2.26->yfinance) (2.10)\n",
            "Requirement already satisfied: charset-normalizer~=2.0.0 in /usr/local/lib/python3.7/dist-packages (from requests>=2.26->yfinance) (2.0.12)\n",
            "Requirement already satisfied: certifi>=2017.4.17 in /usr/local/lib/python3.7/dist-packages (from requests>=2.26->yfinance) (2021.10.8)\n",
            "Installing collected packages: requests, lxml, yfinance\n",
            "  Attempting uninstall: requests\n",
            "    Found existing installation: requests 2.23.0\n",
            "    Uninstalling requests-2.23.0:\n",
            "      Successfully uninstalled requests-2.23.0\n",
            "  Attempting uninstall: lxml\n",
            "    Found existing installation: lxml 4.2.6\n",
            "    Uninstalling lxml-4.2.6:\n",
            "      Successfully uninstalled lxml-4.2.6\n",
            "\u001b[31mERROR: pip's dependency resolver does not currently take into account all the packages that are installed. This behaviour is the source of the following dependency conflicts.\n",
            "google-colab 1.0.0 requires requests~=2.23.0, but you have requests 2.27.1 which is incompatible.\n",
            "datascience 0.10.6 requires folium==0.2.1, but you have folium 0.8.3 which is incompatible.\u001b[0m\n",
            "Successfully installed lxml-4.8.0 requests-2.27.1 yfinance-0.1.70\n",
            "Collecting yahoofinancials\n",
            "  Downloading yahoofinancials-1.6.tar.gz (27 kB)\n",
            "Requirement already satisfied: beautifulsoup4 in /usr/local/lib/python3.7/dist-packages (from yahoofinancials) (4.6.3)\n",
            "Requirement already satisfied: pytz in /usr/local/lib/python3.7/dist-packages (from yahoofinancials) (2018.9)\n",
            "Building wheels for collected packages: yahoofinancials\n",
            "  Building wheel for yahoofinancials (setup.py) ... \u001b[?25l\u001b[?25hdone\n",
            "  Created wheel for yahoofinancials: filename=yahoofinancials-1.6-py3-none-any.whl size=15192 sha256=75001621ec320104e1fa8a0c90b68cbf6b3f583258150ef0d04a7dd5ddf9a5d6\n",
            "  Stored in directory: /root/.cache/pip/wheels/4b/63/46/e7110bfee88685fe69e338d1b14d1748921862aa57b6705b60\n",
            "Successfully built yahoofinancials\n",
            "Installing collected packages: yahoofinancials\n",
            "Successfully installed yahoofinancials-1.6\n"
          ]
        }
      ],
      "source": [
        "!pip install yfinance\n",
        "!pip install yahoofinancials\n",
        "import yfinance as yf\n",
        "from yahoofinancials import YahooFinancials"
      ]
    },
    {
      "cell_type": "markdown",
      "metadata": {
        "id": "XfS8x8WJmoV8"
      },
      "source": [
        "**Collecting data**"
      ]
    },
    {
      "cell_type": "code",
      "execution_count": null,
      "metadata": {
        "colab": {
          "base_uri": "https://localhost:8080/",
          "height": 394
        },
        "id": "p6ThJ8DoTqPw",
        "outputId": "203fc85e-079b-4c5b-dd93-4aaf9062cfda"
      },
      "outputs": [
        {
          "data": {
            "text/html": [
              "\n",
              "  <div id=\"df-000034c3-c78c-4ce1-b45f-b1a71804da1b\">\n",
              "    <div class=\"colab-df-container\">\n",
              "      <div>\n",
              "<style scoped>\n",
              "    .dataframe tbody tr th:only-of-type {\n",
              "        vertical-align: middle;\n",
              "    }\n",
              "\n",
              "    .dataframe tbody tr th {\n",
              "        vertical-align: top;\n",
              "    }\n",
              "\n",
              "    .dataframe thead th {\n",
              "        text-align: right;\n",
              "    }\n",
              "</style>\n",
              "<table border=\"1\" class=\"dataframe\">\n",
              "  <thead>\n",
              "    <tr style=\"text-align: right;\">\n",
              "      <th></th>\n",
              "      <th>Open</th>\n",
              "      <th>High</th>\n",
              "      <th>Low</th>\n",
              "      <th>Close</th>\n",
              "      <th>Adj Close</th>\n",
              "      <th>Volume</th>\n",
              "    </tr>\n",
              "    <tr>\n",
              "      <th>Date</th>\n",
              "      <th></th>\n",
              "      <th></th>\n",
              "      <th></th>\n",
              "      <th></th>\n",
              "      <th></th>\n",
              "      <th></th>\n",
              "    </tr>\n",
              "  </thead>\n",
              "  <tbody>\n",
              "    <tr>\n",
              "      <th>2019-01-02</th>\n",
              "      <td>38.722500</td>\n",
              "      <td>39.712502</td>\n",
              "      <td>38.557499</td>\n",
              "      <td>39.480000</td>\n",
              "      <td>38.277523</td>\n",
              "      <td>148158800</td>\n",
              "    </tr>\n",
              "    <tr>\n",
              "      <th>2019-01-03</th>\n",
              "      <td>35.994999</td>\n",
              "      <td>36.430000</td>\n",
              "      <td>35.500000</td>\n",
              "      <td>35.547501</td>\n",
              "      <td>34.464802</td>\n",
              "      <td>365248800</td>\n",
              "    </tr>\n",
              "    <tr>\n",
              "      <th>2019-01-04</th>\n",
              "      <td>36.132500</td>\n",
              "      <td>37.137501</td>\n",
              "      <td>35.950001</td>\n",
              "      <td>37.064999</td>\n",
              "      <td>35.936085</td>\n",
              "      <td>234428400</td>\n",
              "    </tr>\n",
              "    <tr>\n",
              "      <th>2019-01-07</th>\n",
              "      <td>37.174999</td>\n",
              "      <td>37.207500</td>\n",
              "      <td>36.474998</td>\n",
              "      <td>36.982498</td>\n",
              "      <td>35.856094</td>\n",
              "      <td>219111200</td>\n",
              "    </tr>\n",
              "    <tr>\n",
              "      <th>2019-01-08</th>\n",
              "      <td>37.389999</td>\n",
              "      <td>37.955002</td>\n",
              "      <td>37.130001</td>\n",
              "      <td>37.687500</td>\n",
              "      <td>36.539619</td>\n",
              "      <td>164101200</td>\n",
              "    </tr>\n",
              "    <tr>\n",
              "      <th>2019-01-09</th>\n",
              "      <td>37.822498</td>\n",
              "      <td>38.632500</td>\n",
              "      <td>37.407501</td>\n",
              "      <td>38.327499</td>\n",
              "      <td>37.160126</td>\n",
              "      <td>180396400</td>\n",
              "    </tr>\n",
              "    <tr>\n",
              "      <th>2019-01-10</th>\n",
              "      <td>38.125000</td>\n",
              "      <td>38.492500</td>\n",
              "      <td>37.715000</td>\n",
              "      <td>38.450001</td>\n",
              "      <td>37.278900</td>\n",
              "      <td>143122800</td>\n",
              "    </tr>\n",
              "    <tr>\n",
              "      <th>2019-01-11</th>\n",
              "      <td>38.220001</td>\n",
              "      <td>38.424999</td>\n",
              "      <td>37.877499</td>\n",
              "      <td>38.072498</td>\n",
              "      <td>36.912895</td>\n",
              "      <td>108092800</td>\n",
              "    </tr>\n",
              "    <tr>\n",
              "      <th>2019-01-14</th>\n",
              "      <td>37.712502</td>\n",
              "      <td>37.817501</td>\n",
              "      <td>37.305000</td>\n",
              "      <td>37.500000</td>\n",
              "      <td>36.357834</td>\n",
              "      <td>129756800</td>\n",
              "    </tr>\n",
              "    <tr>\n",
              "      <th>2019-01-15</th>\n",
              "      <td>37.567501</td>\n",
              "      <td>38.347500</td>\n",
              "      <td>37.512501</td>\n",
              "      <td>38.267502</td>\n",
              "      <td>37.101955</td>\n",
              "      <td>114843600</td>\n",
              "    </tr>\n",
              "  </tbody>\n",
              "</table>\n",
              "</div>\n",
              "      <button class=\"colab-df-convert\" onclick=\"convertToInteractive('df-000034c3-c78c-4ce1-b45f-b1a71804da1b')\"\n",
              "              title=\"Convert this dataframe to an interactive table.\"\n",
              "              style=\"display:none;\">\n",
              "        \n",
              "  <svg xmlns=\"http://www.w3.org/2000/svg\" height=\"24px\"viewBox=\"0 0 24 24\"\n",
              "       width=\"24px\">\n",
              "    <path d=\"M0 0h24v24H0V0z\" fill=\"none\"/>\n",
              "    <path d=\"M18.56 5.44l.94 2.06.94-2.06 2.06-.94-2.06-.94-.94-2.06-.94 2.06-2.06.94zm-11 1L8.5 8.5l.94-2.06 2.06-.94-2.06-.94L8.5 2.5l-.94 2.06-2.06.94zm10 10l.94 2.06.94-2.06 2.06-.94-2.06-.94-.94-2.06-.94 2.06-2.06.94z\"/><path d=\"M17.41 7.96l-1.37-1.37c-.4-.4-.92-.59-1.43-.59-.52 0-1.04.2-1.43.59L10.3 9.45l-7.72 7.72c-.78.78-.78 2.05 0 2.83L4 21.41c.39.39.9.59 1.41.59.51 0 1.02-.2 1.41-.59l7.78-7.78 2.81-2.81c.8-.78.8-2.07 0-2.86zM5.41 20L4 18.59l7.72-7.72 1.47 1.35L5.41 20z\"/>\n",
              "  </svg>\n",
              "      </button>\n",
              "      \n",
              "  <style>\n",
              "    .colab-df-container {\n",
              "      display:flex;\n",
              "      flex-wrap:wrap;\n",
              "      gap: 12px;\n",
              "    }\n",
              "\n",
              "    .colab-df-convert {\n",
              "      background-color: #E8F0FE;\n",
              "      border: none;\n",
              "      border-radius: 50%;\n",
              "      cursor: pointer;\n",
              "      display: none;\n",
              "      fill: #1967D2;\n",
              "      height: 32px;\n",
              "      padding: 0 0 0 0;\n",
              "      width: 32px;\n",
              "    }\n",
              "\n",
              "    .colab-df-convert:hover {\n",
              "      background-color: #E2EBFA;\n",
              "      box-shadow: 0px 1px 2px rgba(60, 64, 67, 0.3), 0px 1px 3px 1px rgba(60, 64, 67, 0.15);\n",
              "      fill: #174EA6;\n",
              "    }\n",
              "\n",
              "    [theme=dark] .colab-df-convert {\n",
              "      background-color: #3B4455;\n",
              "      fill: #D2E3FC;\n",
              "    }\n",
              "\n",
              "    [theme=dark] .colab-df-convert:hover {\n",
              "      background-color: #434B5C;\n",
              "      box-shadow: 0px 1px 3px 1px rgba(0, 0, 0, 0.15);\n",
              "      filter: drop-shadow(0px 1px 2px rgba(0, 0, 0, 0.3));\n",
              "      fill: #FFFFFF;\n",
              "    }\n",
              "  </style>\n",
              "\n",
              "      <script>\n",
              "        const buttonEl =\n",
              "          document.querySelector('#df-000034c3-c78c-4ce1-b45f-b1a71804da1b button.colab-df-convert');\n",
              "        buttonEl.style.display =\n",
              "          google.colab.kernel.accessAllowed ? 'block' : 'none';\n",
              "\n",
              "        async function convertToInteractive(key) {\n",
              "          const element = document.querySelector('#df-000034c3-c78c-4ce1-b45f-b1a71804da1b');\n",
              "          const dataTable =\n",
              "            await google.colab.kernel.invokeFunction('convertToInteractive',\n",
              "                                                     [key], {});\n",
              "          if (!dataTable) return;\n",
              "\n",
              "          const docLinkHtml = 'Like what you see? Visit the ' +\n",
              "            '<a target=\"_blank\" href=https://colab.research.google.com/notebooks/data_table.ipynb>data table notebook</a>'\n",
              "            + ' to learn more about interactive tables.';\n",
              "          element.innerHTML = '';\n",
              "          dataTable['output_type'] = 'display_data';\n",
              "          await google.colab.output.renderOutput(dataTable, element);\n",
              "          const docLink = document.createElement('div');\n",
              "          docLink.innerHTML = docLinkHtml;\n",
              "          element.appendChild(docLink);\n",
              "        }\n",
              "      </script>\n",
              "    </div>\n",
              "  </div>\n",
              "  "
            ],
            "text/plain": [
              "                 Open       High        Low      Close  Adj Close     Volume\n",
              "Date                                                                        \n",
              "2019-01-02  38.722500  39.712502  38.557499  39.480000  38.277523  148158800\n",
              "2019-01-03  35.994999  36.430000  35.500000  35.547501  34.464802  365248800\n",
              "2019-01-04  36.132500  37.137501  35.950001  37.064999  35.936085  234428400\n",
              "2019-01-07  37.174999  37.207500  36.474998  36.982498  35.856094  219111200\n",
              "2019-01-08  37.389999  37.955002  37.130001  37.687500  36.539619  164101200\n",
              "2019-01-09  37.822498  38.632500  37.407501  38.327499  37.160126  180396400\n",
              "2019-01-10  38.125000  38.492500  37.715000  38.450001  37.278900  143122800\n",
              "2019-01-11  38.220001  38.424999  37.877499  38.072498  36.912895  108092800\n",
              "2019-01-14  37.712502  37.817501  37.305000  37.500000  36.357834  129756800\n",
              "2019-01-15  37.567501  38.347500  37.512501  38.267502  37.101955  114843600"
            ]
          },
          "execution_count": 3,
          "metadata": {},
          "output_type": "execute_result"
        }
      ],
      "source": [
        "stock = yf.download('AAPL',start='2019-01-01',end='2021-06-12',progress=False)\n",
        "stock.head(10)\n"
      ]
    },
    {
      "cell_type": "code",
      "execution_count": null,
      "metadata": {
        "colab": {
          "base_uri": "https://localhost:8080/"
        },
        "id": "t46zKZF4XRd0",
        "outputId": "3180f01f-1d29-49ff-96bf-a3de8dfd9c7d"
      },
      "outputs": [
        {
          "name": "stdout",
          "output_type": "stream",
          "text": [
            "<class 'pandas.core.frame.DataFrame'>\n",
            "DatetimeIndex: 616 entries, 2019-01-02 to 2021-06-11\n",
            "Data columns (total 6 columns):\n",
            " #   Column     Non-Null Count  Dtype  \n",
            "---  ------     --------------  -----  \n",
            " 0   Open       616 non-null    float64\n",
            " 1   High       616 non-null    float64\n",
            " 2   Low        616 non-null    float64\n",
            " 3   Close      616 non-null    float64\n",
            " 4   Adj Close  616 non-null    float64\n",
            " 5   Volume     616 non-null    int64  \n",
            "dtypes: float64(5), int64(1)\n",
            "memory usage: 33.7 KB\n"
          ]
        }
      ],
      "source": [
        "stock.info()"
      ]
    },
    {
      "cell_type": "code",
      "execution_count": null,
      "metadata": {
        "colab": {
          "base_uri": "https://localhost:8080/",
          "height": 300
        },
        "id": "J6zxfJE0Xh4Q",
        "outputId": "3aedc707-cbb5-4874-9642-ffa35aa4480a"
      },
      "outputs": [
        {
          "data": {
            "text/html": [
              "\n",
              "  <div id=\"df-deaacfdf-a83f-41d1-a4a9-981a17383656\">\n",
              "    <div class=\"colab-df-container\">\n",
              "      <div>\n",
              "<style scoped>\n",
              "    .dataframe tbody tr th:only-of-type {\n",
              "        vertical-align: middle;\n",
              "    }\n",
              "\n",
              "    .dataframe tbody tr th {\n",
              "        vertical-align: top;\n",
              "    }\n",
              "\n",
              "    .dataframe thead th {\n",
              "        text-align: right;\n",
              "    }\n",
              "</style>\n",
              "<table border=\"1\" class=\"dataframe\">\n",
              "  <thead>\n",
              "    <tr style=\"text-align: right;\">\n",
              "      <th></th>\n",
              "      <th>Open</th>\n",
              "      <th>High</th>\n",
              "      <th>Low</th>\n",
              "      <th>Close</th>\n",
              "      <th>Adj Close</th>\n",
              "      <th>Volume</th>\n",
              "    </tr>\n",
              "  </thead>\n",
              "  <tbody>\n",
              "    <tr>\n",
              "      <th>count</th>\n",
              "      <td>616.000000</td>\n",
              "      <td>616.000000</td>\n",
              "      <td>616.000000</td>\n",
              "      <td>616.000000</td>\n",
              "      <td>616.000000</td>\n",
              "      <td>6.160000e+02</td>\n",
              "    </tr>\n",
              "    <tr>\n",
              "      <th>mean</th>\n",
              "      <td>83.573527</td>\n",
              "      <td>84.583336</td>\n",
              "      <td>82.568896</td>\n",
              "      <td>83.617735</td>\n",
              "      <td>82.605857</td>\n",
              "      <td>1.283287e+08</td>\n",
              "    </tr>\n",
              "    <tr>\n",
              "      <th>std</th>\n",
              "      <td>32.665202</td>\n",
              "      <td>33.028827</td>\n",
              "      <td>32.103761</td>\n",
              "      <td>32.547876</td>\n",
              "      <td>32.656127</td>\n",
              "      <td>5.941233e+07</td>\n",
              "    </tr>\n",
              "    <tr>\n",
              "      <th>min</th>\n",
              "      <td>35.994999</td>\n",
              "      <td>36.430000</td>\n",
              "      <td>35.500000</td>\n",
              "      <td>35.547501</td>\n",
              "      <td>34.464802</td>\n",
              "      <td>4.544800e+07</td>\n",
              "    </tr>\n",
              "    <tr>\n",
              "      <th>25%</th>\n",
              "      <td>52.110626</td>\n",
              "      <td>52.360000</td>\n",
              "      <td>51.743126</td>\n",
              "      <td>52.155624</td>\n",
              "      <td>50.927447</td>\n",
              "      <td>8.861022e+07</td>\n",
              "    </tr>\n",
              "    <tr>\n",
              "      <th>50%</th>\n",
              "      <td>75.176250</td>\n",
              "      <td>76.077499</td>\n",
              "      <td>74.543751</td>\n",
              "      <td>75.741249</td>\n",
              "      <td>74.626060</td>\n",
              "      <td>1.119740e+08</td>\n",
              "    </tr>\n",
              "    <tr>\n",
              "      <th>75%</th>\n",
              "      <td>118.947498</td>\n",
              "      <td>120.439999</td>\n",
              "      <td>116.824999</td>\n",
              "      <td>119.022497</td>\n",
              "      <td>117.939245</td>\n",
              "      <td>1.481690e+08</td>\n",
              "    </tr>\n",
              "    <tr>\n",
              "      <th>max</th>\n",
              "      <td>143.600006</td>\n",
              "      <td>145.089996</td>\n",
              "      <td>141.369995</td>\n",
              "      <td>143.160004</td>\n",
              "      <td>142.101822</td>\n",
              "      <td>4.265100e+08</td>\n",
              "    </tr>\n",
              "  </tbody>\n",
              "</table>\n",
              "</div>\n",
              "      <button class=\"colab-df-convert\" onclick=\"convertToInteractive('df-deaacfdf-a83f-41d1-a4a9-981a17383656')\"\n",
              "              title=\"Convert this dataframe to an interactive table.\"\n",
              "              style=\"display:none;\">\n",
              "        \n",
              "  <svg xmlns=\"http://www.w3.org/2000/svg\" height=\"24px\"viewBox=\"0 0 24 24\"\n",
              "       width=\"24px\">\n",
              "    <path d=\"M0 0h24v24H0V0z\" fill=\"none\"/>\n",
              "    <path d=\"M18.56 5.44l.94 2.06.94-2.06 2.06-.94-2.06-.94-.94-2.06-.94 2.06-2.06.94zm-11 1L8.5 8.5l.94-2.06 2.06-.94-2.06-.94L8.5 2.5l-.94 2.06-2.06.94zm10 10l.94 2.06.94-2.06 2.06-.94-2.06-.94-.94-2.06-.94 2.06-2.06.94z\"/><path d=\"M17.41 7.96l-1.37-1.37c-.4-.4-.92-.59-1.43-.59-.52 0-1.04.2-1.43.59L10.3 9.45l-7.72 7.72c-.78.78-.78 2.05 0 2.83L4 21.41c.39.39.9.59 1.41.59.51 0 1.02-.2 1.41-.59l7.78-7.78 2.81-2.81c.8-.78.8-2.07 0-2.86zM5.41 20L4 18.59l7.72-7.72 1.47 1.35L5.41 20z\"/>\n",
              "  </svg>\n",
              "      </button>\n",
              "      \n",
              "  <style>\n",
              "    .colab-df-container {\n",
              "      display:flex;\n",
              "      flex-wrap:wrap;\n",
              "      gap: 12px;\n",
              "    }\n",
              "\n",
              "    .colab-df-convert {\n",
              "      background-color: #E8F0FE;\n",
              "      border: none;\n",
              "      border-radius: 50%;\n",
              "      cursor: pointer;\n",
              "      display: none;\n",
              "      fill: #1967D2;\n",
              "      height: 32px;\n",
              "      padding: 0 0 0 0;\n",
              "      width: 32px;\n",
              "    }\n",
              "\n",
              "    .colab-df-convert:hover {\n",
              "      background-color: #E2EBFA;\n",
              "      box-shadow: 0px 1px 2px rgba(60, 64, 67, 0.3), 0px 1px 3px 1px rgba(60, 64, 67, 0.15);\n",
              "      fill: #174EA6;\n",
              "    }\n",
              "\n",
              "    [theme=dark] .colab-df-convert {\n",
              "      background-color: #3B4455;\n",
              "      fill: #D2E3FC;\n",
              "    }\n",
              "\n",
              "    [theme=dark] .colab-df-convert:hover {\n",
              "      background-color: #434B5C;\n",
              "      box-shadow: 0px 1px 3px 1px rgba(0, 0, 0, 0.15);\n",
              "      filter: drop-shadow(0px 1px 2px rgba(0, 0, 0, 0.3));\n",
              "      fill: #FFFFFF;\n",
              "    }\n",
              "  </style>\n",
              "\n",
              "      <script>\n",
              "        const buttonEl =\n",
              "          document.querySelector('#df-deaacfdf-a83f-41d1-a4a9-981a17383656 button.colab-df-convert');\n",
              "        buttonEl.style.display =\n",
              "          google.colab.kernel.accessAllowed ? 'block' : 'none';\n",
              "\n",
              "        async function convertToInteractive(key) {\n",
              "          const element = document.querySelector('#df-deaacfdf-a83f-41d1-a4a9-981a17383656');\n",
              "          const dataTable =\n",
              "            await google.colab.kernel.invokeFunction('convertToInteractive',\n",
              "                                                     [key], {});\n",
              "          if (!dataTable) return;\n",
              "\n",
              "          const docLinkHtml = 'Like what you see? Visit the ' +\n",
              "            '<a target=\"_blank\" href=https://colab.research.google.com/notebooks/data_table.ipynb>data table notebook</a>'\n",
              "            + ' to learn more about interactive tables.';\n",
              "          element.innerHTML = '';\n",
              "          dataTable['output_type'] = 'display_data';\n",
              "          await google.colab.output.renderOutput(dataTable, element);\n",
              "          const docLink = document.createElement('div');\n",
              "          docLink.innerHTML = docLinkHtml;\n",
              "          element.appendChild(docLink);\n",
              "        }\n",
              "      </script>\n",
              "    </div>\n",
              "  </div>\n",
              "  "
            ],
            "text/plain": [
              "             Open        High         Low       Close   Adj Close  \\\n",
              "count  616.000000  616.000000  616.000000  616.000000  616.000000   \n",
              "mean    83.573527   84.583336   82.568896   83.617735   82.605857   \n",
              "std     32.665202   33.028827   32.103761   32.547876   32.656127   \n",
              "min     35.994999   36.430000   35.500000   35.547501   34.464802   \n",
              "25%     52.110626   52.360000   51.743126   52.155624   50.927447   \n",
              "50%     75.176250   76.077499   74.543751   75.741249   74.626060   \n",
              "75%    118.947498  120.439999  116.824999  119.022497  117.939245   \n",
              "max    143.600006  145.089996  141.369995  143.160004  142.101822   \n",
              "\n",
              "             Volume  \n",
              "count  6.160000e+02  \n",
              "mean   1.283287e+08  \n",
              "std    5.941233e+07  \n",
              "min    4.544800e+07  \n",
              "25%    8.861022e+07  \n",
              "50%    1.119740e+08  \n",
              "75%    1.481690e+08  \n",
              "max    4.265100e+08  "
            ]
          },
          "execution_count": 5,
          "metadata": {},
          "output_type": "execute_result"
        }
      ],
      "source": [
        "stock.describe()"
      ]
    },
    {
      "cell_type": "code",
      "execution_count": null,
      "metadata": {
        "id": "3YZS69AhXlr3"
      },
      "outputs": [],
      "source": [
        "df = stock.copy()   #for copy datset"
      ]
    },
    {
      "cell_type": "markdown",
      "metadata": {
        "id": "7mBJSQl3Yxw1"
      },
      "source": [
        "Data preperation"
      ]
    },
    {
      "cell_type": "code",
      "execution_count": null,
      "metadata": {
        "colab": {
          "base_uri": "https://localhost:8080/"
        },
        "id": "jDxr5kKFYz7H",
        "outputId": "67af3dc5-49da-4db5-fdee-d5ade10dda24"
      },
      "outputs": [
        {
          "data": {
            "text/plain": [
              "Open         0\n",
              "High         0\n",
              "Low          0\n",
              "Close        0\n",
              "Adj Close    0\n",
              "Volume       0\n",
              "dtype: int64"
            ]
          },
          "execution_count": 7,
          "metadata": {},
          "output_type": "execute_result"
        }
      ],
      "source": [
        "stock.isnull().sum()"
      ]
    },
    {
      "cell_type": "markdown",
      "metadata": {
        "id": "cMJXWYaBZGju"
      },
      "source": [
        "Data is porperly cling next step to visualising"
      ]
    },
    {
      "cell_type": "code",
      "execution_count": null,
      "metadata": {
        "colab": {
          "base_uri": "https://localhost:8080/"
        },
        "id": "ZHK0w_1VZBBH",
        "outputId": "5d402da9-f785-461b-bcc8-bda1ad34ca86"
      },
      "outputs": [
        {
          "name": "stdout",
          "output_type": "stream",
          "text": [
            "Requirement already satisfied: plotly in /usr/local/lib/python3.7/dist-packages (5.5.0)\n",
            "Requirement already satisfied: tenacity>=6.2.0 in /usr/local/lib/python3.7/dist-packages (from plotly) (8.0.1)\n",
            "Requirement already satisfied: six in /usr/local/lib/python3.7/dist-packages (from plotly) (1.15.0)\n"
          ]
        }
      ],
      "source": [
        "#candlestick Charts\n",
        "!pip install plotly\n"
      ]
    },
    {
      "cell_type": "code",
      "execution_count": null,
      "metadata": {
        "id": "43DSidDdZgMJ"
      },
      "outputs": [],
      "source": [
        "import plotly.graph_objects as go "
      ]
    },
    {
      "cell_type": "code",
      "execution_count": null,
      "metadata": {
        "id": "vrXVUD4_em-O"
      },
      "outputs": [],
      "source": [
        "stock =stock.reset_index()\n",
        "for i in ['Open','High','Close','Low'] :\n",
        "  stock[i] = stock[i].astype('float64')"
      ]
    },
    {
      "cell_type": "code",
      "execution_count": null,
      "metadata": {
        "colab": {
          "base_uri": "https://localhost:8080/",
          "height": 206
        },
        "id": "TXYCIJZOGm5E",
        "outputId": "6bb1ead1-997e-4025-e3a2-97ca3a6c7902"
      },
      "outputs": [
        {
          "data": {
            "text/html": [
              "\n",
              "  <div id=\"df-60a40664-3de0-4b6f-abb0-bd77cde4f91a\">\n",
              "    <div class=\"colab-df-container\">\n",
              "      <div>\n",
              "<style scoped>\n",
              "    .dataframe tbody tr th:only-of-type {\n",
              "        vertical-align: middle;\n",
              "    }\n",
              "\n",
              "    .dataframe tbody tr th {\n",
              "        vertical-align: top;\n",
              "    }\n",
              "\n",
              "    .dataframe thead th {\n",
              "        text-align: right;\n",
              "    }\n",
              "</style>\n",
              "<table border=\"1\" class=\"dataframe\">\n",
              "  <thead>\n",
              "    <tr style=\"text-align: right;\">\n",
              "      <th></th>\n",
              "      <th>Date</th>\n",
              "      <th>Open</th>\n",
              "      <th>High</th>\n",
              "      <th>Low</th>\n",
              "      <th>Close</th>\n",
              "      <th>Adj Close</th>\n",
              "      <th>Volume</th>\n",
              "    </tr>\n",
              "  </thead>\n",
              "  <tbody>\n",
              "    <tr>\n",
              "      <th>0</th>\n",
              "      <td>2019-01-02</td>\n",
              "      <td>38.722500</td>\n",
              "      <td>39.712502</td>\n",
              "      <td>38.557499</td>\n",
              "      <td>39.480000</td>\n",
              "      <td>38.277523</td>\n",
              "      <td>148158800</td>\n",
              "    </tr>\n",
              "    <tr>\n",
              "      <th>1</th>\n",
              "      <td>2019-01-03</td>\n",
              "      <td>35.994999</td>\n",
              "      <td>36.430000</td>\n",
              "      <td>35.500000</td>\n",
              "      <td>35.547501</td>\n",
              "      <td>34.464802</td>\n",
              "      <td>365248800</td>\n",
              "    </tr>\n",
              "    <tr>\n",
              "      <th>2</th>\n",
              "      <td>2019-01-04</td>\n",
              "      <td>36.132500</td>\n",
              "      <td>37.137501</td>\n",
              "      <td>35.950001</td>\n",
              "      <td>37.064999</td>\n",
              "      <td>35.936085</td>\n",
              "      <td>234428400</td>\n",
              "    </tr>\n",
              "    <tr>\n",
              "      <th>3</th>\n",
              "      <td>2019-01-07</td>\n",
              "      <td>37.174999</td>\n",
              "      <td>37.207500</td>\n",
              "      <td>36.474998</td>\n",
              "      <td>36.982498</td>\n",
              "      <td>35.856094</td>\n",
              "      <td>219111200</td>\n",
              "    </tr>\n",
              "    <tr>\n",
              "      <th>4</th>\n",
              "      <td>2019-01-08</td>\n",
              "      <td>37.389999</td>\n",
              "      <td>37.955002</td>\n",
              "      <td>37.130001</td>\n",
              "      <td>37.687500</td>\n",
              "      <td>36.539619</td>\n",
              "      <td>164101200</td>\n",
              "    </tr>\n",
              "  </tbody>\n",
              "</table>\n",
              "</div>\n",
              "      <button class=\"colab-df-convert\" onclick=\"convertToInteractive('df-60a40664-3de0-4b6f-abb0-bd77cde4f91a')\"\n",
              "              title=\"Convert this dataframe to an interactive table.\"\n",
              "              style=\"display:none;\">\n",
              "        \n",
              "  <svg xmlns=\"http://www.w3.org/2000/svg\" height=\"24px\"viewBox=\"0 0 24 24\"\n",
              "       width=\"24px\">\n",
              "    <path d=\"M0 0h24v24H0V0z\" fill=\"none\"/>\n",
              "    <path d=\"M18.56 5.44l.94 2.06.94-2.06 2.06-.94-2.06-.94-.94-2.06-.94 2.06-2.06.94zm-11 1L8.5 8.5l.94-2.06 2.06-.94-2.06-.94L8.5 2.5l-.94 2.06-2.06.94zm10 10l.94 2.06.94-2.06 2.06-.94-2.06-.94-.94-2.06-.94 2.06-2.06.94z\"/><path d=\"M17.41 7.96l-1.37-1.37c-.4-.4-.92-.59-1.43-.59-.52 0-1.04.2-1.43.59L10.3 9.45l-7.72 7.72c-.78.78-.78 2.05 0 2.83L4 21.41c.39.39.9.59 1.41.59.51 0 1.02-.2 1.41-.59l7.78-7.78 2.81-2.81c.8-.78.8-2.07 0-2.86zM5.41 20L4 18.59l7.72-7.72 1.47 1.35L5.41 20z\"/>\n",
              "  </svg>\n",
              "      </button>\n",
              "      \n",
              "  <style>\n",
              "    .colab-df-container {\n",
              "      display:flex;\n",
              "      flex-wrap:wrap;\n",
              "      gap: 12px;\n",
              "    }\n",
              "\n",
              "    .colab-df-convert {\n",
              "      background-color: #E8F0FE;\n",
              "      border: none;\n",
              "      border-radius: 50%;\n",
              "      cursor: pointer;\n",
              "      display: none;\n",
              "      fill: #1967D2;\n",
              "      height: 32px;\n",
              "      padding: 0 0 0 0;\n",
              "      width: 32px;\n",
              "    }\n",
              "\n",
              "    .colab-df-convert:hover {\n",
              "      background-color: #E2EBFA;\n",
              "      box-shadow: 0px 1px 2px rgba(60, 64, 67, 0.3), 0px 1px 3px 1px rgba(60, 64, 67, 0.15);\n",
              "      fill: #174EA6;\n",
              "    }\n",
              "\n",
              "    [theme=dark] .colab-df-convert {\n",
              "      background-color: #3B4455;\n",
              "      fill: #D2E3FC;\n",
              "    }\n",
              "\n",
              "    [theme=dark] .colab-df-convert:hover {\n",
              "      background-color: #434B5C;\n",
              "      box-shadow: 0px 1px 3px 1px rgba(0, 0, 0, 0.15);\n",
              "      filter: drop-shadow(0px 1px 2px rgba(0, 0, 0, 0.3));\n",
              "      fill: #FFFFFF;\n",
              "    }\n",
              "  </style>\n",
              "\n",
              "      <script>\n",
              "        const buttonEl =\n",
              "          document.querySelector('#df-60a40664-3de0-4b6f-abb0-bd77cde4f91a button.colab-df-convert');\n",
              "        buttonEl.style.display =\n",
              "          google.colab.kernel.accessAllowed ? 'block' : 'none';\n",
              "\n",
              "        async function convertToInteractive(key) {\n",
              "          const element = document.querySelector('#df-60a40664-3de0-4b6f-abb0-bd77cde4f91a');\n",
              "          const dataTable =\n",
              "            await google.colab.kernel.invokeFunction('convertToInteractive',\n",
              "                                                     [key], {});\n",
              "          if (!dataTable) return;\n",
              "\n",
              "          const docLinkHtml = 'Like what you see? Visit the ' +\n",
              "            '<a target=\"_blank\" href=https://colab.research.google.com/notebooks/data_table.ipynb>data table notebook</a>'\n",
              "            + ' to learn more about interactive tables.';\n",
              "          element.innerHTML = '';\n",
              "          dataTable['output_type'] = 'display_data';\n",
              "          await google.colab.output.renderOutput(dataTable, element);\n",
              "          const docLink = document.createElement('div');\n",
              "          docLink.innerHTML = docLinkHtml;\n",
              "          element.appendChild(docLink);\n",
              "        }\n",
              "      </script>\n",
              "    </div>\n",
              "  </div>\n",
              "  "
            ],
            "text/plain": [
              "        Date       Open       High        Low      Close  Adj Close     Volume\n",
              "0 2019-01-02  38.722500  39.712502  38.557499  39.480000  38.277523  148158800\n",
              "1 2019-01-03  35.994999  36.430000  35.500000  35.547501  34.464802  365248800\n",
              "2 2019-01-04  36.132500  37.137501  35.950001  37.064999  35.936085  234428400\n",
              "3 2019-01-07  37.174999  37.207500  36.474998  36.982498  35.856094  219111200\n",
              "4 2019-01-08  37.389999  37.955002  37.130001  37.687500  36.539619  164101200"
            ]
          },
          "execution_count": 11,
          "metadata": {},
          "output_type": "execute_result"
        }
      ],
      "source": [
        "stock.head()"
      ]
    },
    {
      "cell_type": "markdown",
      "metadata": {
        "id": "OpibQNibueH0"
      },
      "source": [
        "**Data visualaizationt**"
      ]
    },
    {
      "cell_type": "markdown",
      "metadata": {
        "id": "m6pOE9Ash8ld"
      },
      "source": [
        "**Candlestick chart**"
      ]
    },
    {
      "cell_type": "code",
      "execution_count": null,
      "metadata": {
        "colab": {
          "base_uri": "https://localhost:8080/",
          "height": 559
        },
        "id": "9TKziDrBe7YV",
        "outputId": "11e1d459-0924-4cc7-ee5e-ad3d4abf2388"
      },
      "outputs": [
        {
          "data": {
            "text/html": [
              "<html>\n",
              "<head><meta charset=\"utf-8\" /></head>\n",
              "<body>\n",
              "    <div>            <script src=\"https://cdnjs.cloudflare.com/ajax/libs/mathjax/2.7.5/MathJax.js?config=TeX-AMS-MML_SVG\"></script><script type=\"text/javascript\">if (window.MathJax) {MathJax.Hub.Config({SVG: {font: \"STIX-Web\"}});}</script>                <script type=\"text/javascript\">window.PlotlyConfig = {MathJaxConfig: 'local'};</script>\n",
              "        <script src=\"https://cdn.plot.ly/plotly-2.8.3.min.js\"></script>                <div id=\"de2f9cc3-cae2-4fcf-8a38-748995712fdf\" class=\"plotly-graph-div\" style=\"height:525px; width:100%;\"></div>            <script type=\"text/javascript\">                                    window.PLOTLYENV=window.PLOTLYENV || {};                                    if (document.getElementById(\"de2f9cc3-cae2-4fcf-8a38-748995712fdf\")) {                    Plotly.newPlot(                        \"de2f9cc3-cae2-4fcf-8a38-748995712fdf\",                        [{\"close\":[39.47999954223633,35.54750061035156,37.064998626708984,36.98249816894531,37.6875,38.32749938964844,38.45000076293945,38.0724983215332,37.5,38.26750183105469,38.73500061035156,38.96500015258789,39.20500183105469,38.32500076293945,38.47999954223633,38.17499923706055,39.439998626708984,39.07500076293945,38.66999816894531,41.3125,41.61000061035156,41.630001068115234,42.8125,43.54499816894531,43.560001373291016,42.73500061035156,42.602500915527344,42.35749816894531,42.72249984741211,42.54499816894531,42.70000076293945,42.60499954223633,42.73249816894531,43.00749969482422,42.76499938964844,43.24250030517578,43.557498931884766,43.58250045776367,43.717498779296875,43.287498474121094,43.74250030517578,43.962501525878906,43.88249969482422,43.630001068115234,43.125,43.227500915527344,44.724998474121094,45.227500915527344,45.4275016784668,45.932498931884766,46.529998779296875,47.005001068115234,46.63249969482422,47.040000915527344,48.772499084472656,47.76250076293945,47.185001373291016,46.6974983215332,47.11750030517578,47.18000030517578,47.48749923706055,47.810001373291016,48.505001068115234,48.837501525878906,48.92250061035156,49.25,50.025001525878906,49.875,50.154998779296875,49.73749923706055,49.717498779296875,49.807498931884766,49.8125,50.782501220703125,50.96500015258789,51.13249969482422,51.869998931884766,51.790000915527344,51.31999969482422,51.07500076293945,51.15250015258789,50.16749954223633,52.630001068115234,52.287498474121094,52.9375,52.119998931884766,50.71500015258789,50.724998474121094,50.18000030517578,49.29499816894531,46.43000030517578,47.165000915527344,47.72999954223633,47.52000045776367,47.25,45.772499084472656,46.650001525878906,45.69499969482422,44.915000915527344,44.74250030517578,44.557498931884766,44.345001220703125,44.57500076293945,43.76750183105469,43.32500076293945,44.90999984741211,45.6349983215332,46.30500030517578,47.537498474121094,48.14500045776367,48.70249938964844,48.54750061035156,48.537498474121094,48.185001373291016,48.47249984741211,49.61249923706055,49.467498779296875,49.8650016784668,49.69499969482422,49.64500045776367,48.89250183105469,49.95000076293945,49.935001373291016,49.47999954223633,50.38750076293945,50.682498931884766,51.102500915527344,51.057498931884766,50.005001068115234,50.310001373291016,50.807498931884766,50.4375,50.82500076293945,51.3025016784668,51.125,50.837501525878906,51.415000915527344,50.647499084472656,51.80500030517578,52.209999084472656,52.16749954223633,51.755001068115234,51.935001373291016,52.41999816894531,52.19499969482422,53.2599983215332,52.10749816894531,51.005001068115234,48.334999084472656,49.25,49.7599983215332,50.85749816894531,50.247501373291016,50.119998931884766,52.24250030517578,50.6875,50.435001373291016,51.625,52.587501525878906,52.59000015258789,53.15999984741211,53.1150016784668,50.65999984741211,51.622501373291016,51.040000915527344,51.38249969482422,52.252498626708984,52.185001373291016,51.42499923706055,52.29750061035156,53.31999969482422,53.314998626708984,53.54249954223633,54.17499923706055,55.897499084472656,55.772499084472656,54.6875,54.974998474121094,55.17499923706055,55.692501068115234,55.2400016784668,54.432498931884766,54.68000030517578,54.41999816894531,55.25749969482422,54.97249984741211,54.70500183105469,55.99250030517578,56.147499084472656,54.7400016784668,55.20500183105469,56.752498626708984,56.76499938964844,56.099998474121094,56.75749969482422,57.522499084472656,59.0525016784668,58.967498779296875,58.83000183105469,58.592498779296875,58.81999969482422,59.102500915527344,60.127498626708984,59.9900016784668,60.79499816894531,60.89500045776367,61.64500045776367,62.26250076293945,60.8224983215332,60.814998626708984,62.189998626708984,63.95500183105469,64.375,64.28250122070312,64.30999755859375,64.85749816894531,65.03500366210938,65.55000305175781,65.48999786376953,66.11750030517578,65.66000366210938,66.44000244140625,66.7750015258789,66.57250213623047,65.79750061035156,65.50250244140625,65.44499969482422,66.59249877929688,66.07250213623047,66.95999908447266,66.8125,66.04000091552734,64.86250305175781,65.43499755859375,66.3949966430664,67.67749786376953,66.7300033569336,67.12000274658203,67.69249725341797,67.86499786376953,68.7874984741211,69.96499633789062,70.10250091552734,69.93499755859375,70.00499725341797,69.86000061035156,71.0,71.06749725341797,72.47750091552734,72.44999694824219,72.87999725341797,73.4124984741211,75.0875015258789,74.35749816894531,74.94999694824219,74.59750366210938,75.79750061035156,77.40750122070312,77.5824966430664,79.23999786376953,78.16999816894531,77.83499908447266,78.80999755859375,79.68250274658203,79.14250183105469,79.42500305175781,79.80750274658203,79.57749938964844,77.23750305175781,79.42250061035156,81.08499908447266,80.96749877929688,77.37750244140625,77.16500091552734,79.7125015258789,80.36250305175781,81.30249786376953,80.00749969482422,80.38749694824219,79.90249633789062,81.80000305175781,81.21749877929688,81.23750305175781,79.75,80.90499877929688,80.07499694824219,78.26249694824219,74.54499816894531,72.0199966430664,73.1624984741211,68.37999725341797,68.33999633789062,74.70249938964844,72.33000183105469,75.68499755859375,73.2300033569336,72.25749969482422,66.5425033569336,71.33499908447266,68.85749816894531,62.057498931884766,69.49250030517578,60.5525016784668,63.21500015258789,61.66749954223633,61.19499969482422,57.310001373291016,56.092498779296875,61.720001220703125,61.380001068115234,64.61000061035156,61.935001373291016,63.70249938964844,63.5724983215332,60.227500915527344,61.23249816894531,60.352500915527344,65.61750030517578,64.85749816894531,66.51750183105469,66.99749755859375,68.3125,71.76249694824219,71.10749816894531,71.67250061035156,70.69999694824219,69.23249816894531,67.09249877929688,69.0250015258789,68.75749969482422,70.74250030517578,70.7925033569336,69.6449966430664,71.93250274658203,73.44999694824219,72.26750183105469,73.29000091552734,74.38999938964844,75.15750122070312,75.93499755859375,77.53250122070312,78.75250244140625,77.85250091552734,76.9124984741211,77.38500213623047,76.92749786376953,78.73999786376953,78.28500366210938,79.80750274658203,79.2125015258789,79.72250366210938,79.18250274658203,79.52749633789062,79.5625,79.48500061035156,80.4625015258789,80.83499908447266,81.27999877929688,80.58000183105469,82.875,83.36499786376953,85.99749755859375,88.20999908447266,83.9749984741211,84.69999694824219,85.74749755859375,88.0199966430664,87.89749908447266,87.93250274658203,87.43000030517578,89.71749877929688,91.63249969482422,90.01499938964844,91.20999908447266,88.40750122070312,90.44499969482422,91.19999694824219,91.02749633789062,91.02749633789062,93.4625015258789,93.17250061035156,95.34249877929688,95.75250244140625,95.91999816894531,95.47750091552734,97.05750274658203,97.7249984741211,96.52249908447266,96.32749938964844,98.35749816894531,97.0,97.27249908447266,92.84500122070312,92.61499786376953,94.80999755859375,93.25250244140625,95.04000091552734,96.19000244140625,106.26000213623047,108.9375,109.66500091552734,110.0625,113.90249633789062,111.11250305175781,112.72750091552734,109.375,113.01000213623047,115.01000213623047,114.90750122070312,114.60749816894531,115.5625,115.7074966430664,118.2750015258789,124.37000274658203,125.85749816894531,124.82499694824219,126.52249908447266,125.01000213623047,124.80750274658203,129.0399932861328,134.17999267578125,131.39999389648438,120.87999725341797,120.95999908447266,112.81999969482422,117.31999969482422,113.48999786376953,112.0,115.36000061035156,115.54000091552734,112.12999725341797,110.33999633789062,106.83999633789062,110.08000183105469,111.80999755859375,107.12000274658203,108.22000122070312,112.27999877929688,114.95999908447266,114.08999633789062,115.80999755859375,116.79000091552734,113.0199966430664,116.5,113.16000366210938,115.08000183105469,114.97000122070312,116.97000122070312,124.4000015258789,121.0999984741211,121.19000244140625,120.70999908447266,119.0199966430664,115.9800033569336,117.51000213623047,116.87000274658203,115.75,115.04000091552734,115.05000305175781,116.5999984741211,111.19999694824219,115.31999969482422,108.86000061035156,108.7699966430664,110.44000244140625,114.94999694824219,119.02999877929688,118.69000244140625,116.31999969482422,115.97000122070312,119.48999786376953,119.20999908447266,119.26000213623047,120.30000305175781,119.38999938964844,118.02999877929688,118.63999938964844,117.33999633789062,113.8499984741211,115.16999816894531,116.02999877929688,116.58999633789062,119.05000305175781,122.72000122070312,123.08000183105469,122.94000244140625,122.25,123.75,124.37999725341797,121.77999877929688,123.23999786376953,122.41000366210938,121.77999877929688,127.87999725341797,127.80999755859375,128.6999969482422,126.66000366210938,128.22999572753906,131.8800048828125,130.9600067138672,131.97000122070312,136.69000244140625,134.8699951171875,133.72000122070312,132.69000244140625,129.41000366210938,131.00999450683594,126.5999984741211,130.9199981689453,132.0500030517578,128.97999572753906,128.8000030517578,130.88999938964844,128.91000366210938,127.13999938964844,127.83000183105469,132.02999877929688,136.8699951171875,139.07000732421875,142.9199981689453,143.16000366210938,142.05999755859375,137.08999633789062,131.9600067138672,134.13999938964844,134.99000549316406,133.94000244140625,137.38999938964844,136.75999450683594,136.91000366210938,136.00999450683594,135.38999938964844,135.1300048828125,135.3699951171875,133.19000244140625,130.83999633789062,129.7100067138672,129.8699951171875,126.0,125.86000061035156,125.3499984741211,120.98999786376953,121.26000213623047,127.79000091552734,125.12000274658203,122.05999755859375,120.12999725341797,121.41999816894531,116.36000061035156,121.08999633789062,119.9800033569336,121.95999908447266,121.02999877929688,123.98999786376953,125.56999969482422,124.76000213623047,120.52999877929688,119.98999786376953,123.38999938964844,122.54000091552734,120.08999633789062,120.58999633789062,121.20999908447266,121.38999938964844,119.9000015258789,122.1500015258789,123.0,125.9000015258789,126.20999908447266,127.9000015258789,130.36000061035156,133.0,131.24000549316406,134.42999267578125,132.02999877929688,134.5,134.16000366210938,134.83999633789062,133.11000061035156,133.5,131.94000244140625,134.32000732421875,134.72000122070312,134.38999938964844,133.5800018310547,133.47999572753906,131.4600067138672,132.5399932861328,127.8499984741211,128.10000610351562,129.74000549316406,130.2100067138672,126.8499984741211,125.91000366210938,122.7699966430664,124.97000122070312,127.44999694824219,126.2699966430664,124.8499984741211,124.69000244140625,127.30999755859375,125.43000030517578,127.0999984741211,126.9000015258789,126.8499984741211,125.27999877929688,124.61000061035156,124.27999877929688,125.05999755859375,123.54000091552734,125.88999938964844,125.9000015258789,126.73999786376953,127.12999725341797,126.11000061035156,127.3499984741211],\"high\":[39.712501525878906,36.43000030517578,37.13750076293945,37.20750045776367,37.95500183105469,38.63249969482422,38.49250030517578,38.42499923706055,37.817501068115234,38.34749984741211,38.970001220703125,39.415000915527344,39.470001220703125,39.182498931884766,38.78499984741211,38.619998931884766,39.532501220703125,39.08250045776367,39.532501220703125,41.537498474121094,42.25,42.244998931884766,42.915000915527344,43.77000045776367,43.89250183105469,43.48500061035156,42.665000915527344,42.8025016784668,42.75,43.119998931884766,42.814998626708984,42.92499923706055,42.86000061035156,43.33000183105469,43.092498779296875,43.25,43.967498779296875,43.82500076293945,43.75,43.727500915527344,43.787498474121094,44.4375,44.0,43.872501373291016,43.61000061035156,43.26750183105469,44.779998779296875,45.66749954223633,45.82500076293945,46.025001525878906,46.83250045776367,47.09749984741211,47.247501373291016,47.372501373291016,49.08250045776367,49.42250061035156,47.994998931884766,48.220001220703125,47.439998626708984,47.38999938964844,47.52000045776367,47.91999816894531,48.6150016784668,49.125,49.092498779296875,49.275001525878906,50.057498931884766,50.712501525878906,50.185001373291016,50.25,50.03499984741211,49.962501525878906,50.342498779296875,50.845001220703125,51.037498474121094,51.23500061035156,51.9375,52.119998931884766,51.939998626708984,51.25,51.49250030517578,50.849998474121094,53.82749938964844,53.162498474121094,52.959999084472656,52.209999084472656,51.85499954223633,51.334999084472656,50.41999816894531,49.712501525878906,47.369998931884766,47.42499923706055,47.9375,48.11750030517578,47.724998474121094,46.087501525878906,47.0,46.4275016784668,45.1349983215332,45.53499984741211,45.147499084472656,44.837501525878906,44.807498931884766,44.497501373291016,44.47999954223633,44.95750045776367,46.247501373291016,46.36750030517578,47.97999954223633,48.842498779296875,49.0,48.99250030517578,49.1974983215332,48.397499084472656,48.7400016784668,50.0724983215332,49.970001220703125,50.15250015258789,50.212501525878906,50.040000915527344,49.814998626708984,50.247501373291016,50.39250183105469,49.875,51.122501373291016,50.782501220703125,51.11000061035156,51.27000045776367,50.349998474121094,50.377498626708984,50.932498931884766,51.09749984741211,51.0,51.467498779296875,51.52750015258789,51.272499084472656,51.470001220703125,51.625,51.807498931884766,52.227500915527344,52.287498474121094,52.310001373291016,52.432498931884766,52.65999984741211,52.540000915527344,55.342498779296875,54.50749969482422,51.60749816894531,49.662498474121094,49.51750183105469,49.88999938964844,50.88249969482422,50.689998626708984,50.51250076293945,53.03499984741211,51.61000061035156,51.28499984741211,51.790000915527344,53.182498931884766,53.337501525878906,53.412498474121094,53.61000061035156,53.01250076293945,51.79750061035156,52.13750076293945,51.43000030517578,52.33000183105469,52.61249923706055,51.744998931884766,52.369998931884766,53.49250030517578,53.60499954223633,54.11000061035156,54.19499969482422,55.9275016784668,56.60499954223633,55.1974983215332,55.032501220703125,55.20500183105469,55.712501525878906,55.939998626708984,55.63999938964844,54.959999084472656,55.622501373291016,55.375,55.23500061035156,55.2400016784668,56.14500045776367,57.05500030517578,55.89500045776367,55.2400016784668,56.872501373291016,57.48249816894531,57.01499938964844,56.9474983215332,57.61000061035156,59.40999984741211,59.532501220703125,59.412498474121094,58.810001373291016,59.037498474121094,59.39500045776367,60.247501373291016,60.54999923706055,60.810001373291016,61.20000076293945,61.682498931884766,62.3125,62.4375,61.32500076293945,62.29249954223633,63.98249816894531,64.4625015258789,64.54750061035156,64.37249755859375,65.0875015258789,65.11000061035156,65.61750030517578,65.69750213623047,66.19499969482422,66.22000122070312,66.44499969482422,66.85749816894531,67.0,66.5199966430664,66.00250244140625,65.79499816894531,66.61000061035156,66.79000091552734,66.99500274658203,67.0,67.0625,64.88249969482422,65.82749938964844,66.47250366210938,67.75,67.69999694824219,67.51750183105469,67.7750015258789,68.13999938964844,68.82499694824219,70.19750213623047,70.44249725341797,70.4749984741211,70.29499816894531,70.6624984741211,71.0625,71.22250366210938,72.49500274658203,73.49250030517578,73.17250061035156,73.41999816894531,75.1500015258789,75.1449966430664,74.98999786376953,75.2249984741211,76.11000061035156,77.60749816894531,78.1675033569336,79.26750183105469,79.39250183105469,78.875,78.92500305175781,79.68499755859375,79.75499725341797,79.99749755859375,79.88999938964844,80.8324966430664,77.94249725341797,79.5999984741211,81.9625015258789,81.02249908447266,80.66999816894531,78.37249755859375,79.91000366210938,81.19000244140625,81.30500030517578,80.8499984741211,80.38749694824219,80.9749984741211,81.80500030517578,81.55500030517578,81.49500274658203,79.9375,81.14250183105469,81.1624984741211,80.11250305175781,76.04499816894531,75.63249969482422,74.47000122070312,71.5,69.60250091552734,75.36000061035156,76.0,75.8499984741211,74.88749694824219,72.70500183105469,69.52249908447266,71.61000061035156,70.30500030517578,67.5,69.9800033569336,64.7699966430664,64.40249633789062,62.5,63.209999084472656,62.95750045776367,57.125,61.92250061035156,64.5625,64.66999816894531,63.967498779296875,63.880001068115234,65.62249755859375,62.18000030517578,61.287498474121094,61.42499923706055,65.77749633789062,67.92500305175781,66.84249877929688,67.51750183105469,68.42500305175781,72.0625,71.5824966430664,72.05000305175781,71.73750305175781,70.41999816894531,69.3125,69.4749984741211,70.4375,70.75250244140625,71.13500213623047,71.4574966430664,72.4175033569336,73.63249969482422,74.75,73.42250061035156,75.25,75.80999755859375,76.2925033569336,77.5875015258789,79.26249694824219,79.92250061035156,78.98750305175781,77.44750213623047,76.9749984741211,79.125,79.62999725341797,79.87999725341797,80.22250366210938,79.80750274658203,81.05999755859375,79.67749786376953,80.86000061035156,80.2874984741211,80.5875015258789,80.86000061035156,81.55000305175781,81.40499877929688,82.9375,83.4000015258789,86.40249633789062,88.69249725341797,87.76499938964844,86.94999694824219,86.41999816894531,88.30000305175781,88.8499984741211,88.36250305175781,89.13999938964844,89.86499786376953,93.09500122070312,92.19750213623047,91.25,91.33000183105469,90.5425033569336,91.49500274658203,91.83999633789062,92.61750030517578,93.94499969482422,94.65499877929688,95.375,96.31749725341797,95.9800033569336,99.95500183105469,97.25499725341797,99.24749755859375,97.40499877929688,97.14749908447266,98.5,99.25,97.9749984741211,97.07749938964844,92.97000122070312,94.90499877929688,94.55000305175781,95.2300033569336,96.29750061035156,106.41500091552734,111.63749694824219,110.79000091552734,110.39250183105469,114.4124984741211,113.67500305175781,113.7750015258789,112.48249816894531,113.2750015258789,116.0425033569336,115.0,116.0875015258789,116.0,117.1624984741211,118.39250183105469,124.86750030517578,128.78500366210938,125.18000030517578,126.99250030517578,127.48500061035156,126.44249725341797,131.0,134.8000030517578,137.97999572753906,128.83999633789062,123.69999694824219,118.98999786376953,119.13999938964844,120.5,115.2300033569336,115.93000030517578,118.83000183105469,116.0,112.19999694824219,110.87999725341797,110.19000244140625,112.86000061035156,112.11000061035156,110.25,112.44000244140625,115.31999969482422,115.30999755859375,117.26000213623047,117.72000122070312,115.37000274658203,116.6500015258789,116.12000274658203,115.55000305175781,116.4000015258789,117.0,125.18000030517578,125.38999938964844,123.02999877929688,121.19999694824219,121.55000305175781,120.41999816894531,118.9800033569336,118.70999908447266,118.04000091552734,116.55000305175781,116.55000305175781,117.27999877929688,115.43000030517578,116.93000030517578,111.98999786376953,110.68000030517578,111.48999786376953,115.58999633789062,119.62000274658203,119.19999694824219,121.98999786376953,117.58999633789062,119.62999725341797,120.52999877929688,119.66999816894531,120.98999786376953,120.66999816894531,119.81999969482422,119.05999755859375,118.7699966430664,117.62000274658203,115.8499984741211,116.75,117.48999786376953,120.97000122070312,123.47000122070312,123.37000274658203,123.77999877929688,122.86000061035156,124.56999969482422,124.9800033569336,125.94999694824219,123.87000274658203,122.76000213623047,123.3499984741211,127.9000015258789,128.3699951171875,129.5800018310547,129.10000610351562,128.30999755859375,134.41000366210938,132.42999267578125,133.4600067138672,137.33999633789062,138.7899932861328,135.99000549316406,134.74000549316406,133.61000061035156,131.74000549316406,131.0500030517578,131.6300048828125,132.6300048828125,130.1699981689453,129.69000244140625,131.4499969482422,131.0,130.22000122070312,128.7100067138672,132.49000549316406,139.6699981689453,139.85000610351562,145.08999633789062,144.3000030517578,144.3000030517578,141.99000549316406,136.74000549316406,135.3800048828125,136.30999755859375,135.77000427246094,137.39999389648438,137.4199981689453,136.9600067138672,137.8800048828125,136.99000549316406,136.38999938964844,135.52999877929688,136.00999450683594,132.22000122070312,130.0,130.7100067138672,129.72000122070312,126.70999908447266,125.55999755859375,126.45999908447266,124.8499984741211,127.93000030517578,128.72000122070312,125.70999908447266,123.5999984741211,121.94000244140625,121.0,122.05999755859375,122.16999816894531,123.20999908447266,121.16999816894531,124.0,127.22000122070312,125.86000061035156,123.18000030517578,121.43000030517578,123.87000274658203,124.23999786376953,122.9000015258789,121.66000366210938,121.4800033569336,122.58000183105469,120.4000015258789,123.5199966430664,124.18000030517578,126.16000366210938,127.12999725341797,127.91999816894531,130.38999938964844,133.0399932861328,132.85000610351562,134.66000366210938,135.0,135.0,134.6699981689453,135.47000122070312,135.52999877929688,133.75,134.14999389648438,135.1199951171875,135.05999755859375,135.41000366210938,135.02000427246094,137.07000732421875,133.55999755859375,134.07000732421875,131.49000549316406,130.4499969482422,129.75,131.25999450683594,129.5399932861328,126.2699966430664,124.63999938964844,126.1500015258789,127.88999938964844,126.93000030517578,126.98999786376953,124.91999816894531,127.72000122070312,128.0,127.94000244140625,128.32000732421875,127.38999938964844,127.63999938964844,125.80000305175781,125.3499984741211,125.23999786376953,124.8499984741211,126.16000366210938,126.31999969482422,128.4600067138672,127.75,128.19000244140625,127.44000244140625],\"low\":[38.557498931884766,35.5,35.95000076293945,36.474998474121094,37.130001068115234,37.407501220703125,37.71500015258789,37.877498626708984,37.30500030517578,37.51250076293945,38.25,38.314998626708984,38.994998931884766,38.154998779296875,37.92499923706055,37.935001373291016,38.58000183105469,38.415000915527344,38.52750015258789,40.057498931884766,41.13999938964844,41.48249816894531,41.81999969482422,43.087501525878906,43.212501525878906,42.584999084472656,42.10499954223633,42.3125,42.42499923706055,42.47999954223633,42.345001220703125,42.4375,42.372501373291016,42.747501373291016,42.57500076293945,42.845001220703125,43.48749923706055,43.29249954223633,43.182498931884766,43.22999954223633,43.22249984741211,43.49250030517578,43.6349983215332,43.48500061035156,43.005001068115234,42.375,43.837501525878906,44.842498779296875,45.22999954223633,45.63999938964844,45.935001373291016,46.4474983215332,46.47999954223633,46.182498931884766,47.45249938964844,47.69499969482422,46.650001525878906,46.14500045776367,46.63750076293945,46.88249969482422,47.1349983215332,47.095001220703125,47.76250076293945,48.287498474121094,48.28499984741211,48.98249816894531,49.084999084472656,49.807498931884766,49.54499816894531,49.61000061035156,49.0525016784668,49.502498626708984,49.63999938964844,49.65250015258789,50.630001068115234,50.584999084472656,50.974998474121094,51.76250076293945,51.279998779296875,50.529998779296875,50.96500015258789,49.77750015258789,52.307498931884766,52.032501220703125,52.557498931884766,50.875,50.20750045776367,50.4375,49.165000915527344,48.192501068115234,45.712501525878906,46.352500915527344,46.505001068115234,47.209999084472656,46.689998626708984,45.06999969482422,46.17499923706055,45.63750076293945,44.45249938964844,44.654998779296875,44.477500915527344,44.0,44.16749954223633,43.747501373291016,42.567501068115234,43.630001068115234,45.28499984741211,45.537498474121094,46.442501068115234,47.904998779296875,48.400001525878906,48.34749984741211,48.400001525878906,47.57500076293945,48.04249954223633,48.8025016784668,49.32749938964844,49.50749969482422,49.537498474121094,49.54249954223633,48.8224983215332,49.337501525878906,49.89250183105469,49.26250076293945,50.162498474121094,50.34000015258789,50.67250061035156,50.724998474121094,49.602500915527344,49.70249938964844,50.38999938964844,50.4275016784668,50.54999923706055,51.0,50.875,50.817501068115234,50.92499923706055,50.59000015258789,50.90250015258789,51.8224983215332,51.79249954223633,51.682498931884766,51.78499984741211,52.11000061035156,51.82749938964844,52.82500076293945,51.685001373291016,50.407501220703125,48.14500045776367,48.5099983215332,48.45500183105469,49.84749984741211,49.8224983215332,49.787498474121094,50.119998931884766,50.647499084472656,49.91749954223633,50.959999084472656,52.50749969482422,52.58000183105469,52.900001525878906,52.6875,50.25,51.26499938964844,50.88249969482422,50.83000183105469,51.665000915527344,51.79999923706055,51.05500030517578,51.83000183105469,52.877498626708984,53.127498626708984,52.76750183105469,52.9275016784668,54.432498931884766,55.71500015258789,54.255001068115234,54.38999938964844,54.779998779296875,54.86000061035156,55.092498779296875,54.36750030517578,54.412498474121094,54.29750061035156,54.28499984741211,54.70750045776367,54.31999969482422,55.1974983215332,56.04999923706055,54.48249816894531,53.782501220703125,55.97249984741211,56.459999084472656,56.08250045776367,56.40999984741211,56.82500076293945,58.07749938964844,58.66749954223633,58.720001220703125,58.29999923706055,58.380001068115234,58.5724983215332,59.33000183105469,59.904998779296875,60.30500030517578,60.45249938964844,60.720001220703125,61.68000030517578,60.64250183105469,60.3025016784668,59.314998626708984,62.290000915527344,63.845001220703125,64.08000183105469,63.842498779296875,64.52749633789062,64.2125015258789,64.56999969482422,65.2300033569336,65.26750183105469,65.5250015258789,65.75250244140625,66.05750274658203,66.34750366210938,65.0999984741211,65.29499816894531,65.20999908447266,65.62999725341797,65.625,66.32749938964844,66.4749984741211,65.86250305175781,64.07250213623047,65.16999816894531,65.68250274658203,66.82499694824219,66.22750091552734,66.46499633789062,67.125,66.83000183105469,67.73249816894531,69.24500274658203,69.69999694824219,69.77999877929688,69.73750305175781,69.63999938964844,70.09249877929688,70.7300033569336,71.17500305175781,72.02999877929688,71.30500030517578,72.37999725341797,73.79750061035156,74.125,73.1875,74.37000274658203,74.29000091552734,76.55000305175781,77.0625,77.7874984741211,78.0425033569336,77.38749694824219,78.02249908447266,78.75,79.0,79.32749938964844,78.9124984741211,79.37999725341797,76.22000122070312,78.04750061035156,80.34500122070312,79.6875,77.07250213623047,75.55500030517578,78.40750122070312,79.73750305175781,80.06500244140625,79.5,78.4625015258789,79.67749786376953,80.36750030517578,80.8375015258789,80.7125015258789,78.65249633789062,80.0,79.55249786376953,77.625,72.30750274658203,71.53250122070312,71.625,68.23999786376953,64.09249877929688,69.43000030517578,71.44999694824219,73.28250122070312,72.85250091552734,70.30750274658203,65.75,67.34249877929688,67.96499633789062,62.0,63.23749923706055,60.0,59.599998474121094,59.279998779296875,60.65250015258789,57.0,53.15250015258789,58.57500076293945,61.07500076293945,61.59000015258789,61.76250076293945,62.349998474121094,63.0,59.782501220703125,59.224998474121094,59.74250030517578,62.345001220703125,64.75,65.30750274658203,66.17500305175781,66.4574966430664,69.51249694824219,70.15750122070312,70.5875015258789,69.21499633789062,69.2125015258789,66.35749816894531,68.05000305175781,68.71749877929688,69.25,69.98750305175781,69.55000305175781,70.97250366210938,72.0875015258789,71.4625015258789,71.58000183105469,73.61499786376953,74.71749877929688,75.49250030517578,76.07250213623047,76.80999755859375,77.72750091552734,75.80249786376953,75.38249969482422,75.05249786376953,77.58000183105469,78.25250244140625,79.12999725341797,78.96749877929688,78.8375015258789,79.125,78.27249908447266,78.90750122070312,79.11750030517578,79.30249786376953,79.73249816894531,80.57499694824219,80.19499969482422,80.80750274658203,81.83000183105469,83.00250244140625,86.52249908447266,83.87000274658203,83.55500030517578,83.1449966430664,86.18000030517578,87.77249908447266,87.30500030517578,86.2874984741211,87.7874984741211,90.56749725341797,89.62999725341797,89.39250183105469,88.25499725341797,87.81999969482422,90.0,90.97750091552734,90.91000366210938,92.46749877929688,93.05750274658203,94.08999633789062,94.67250061035156,94.70500183105469,95.25749969482422,93.87750244140625,96.48999786376953,95.90499877929688,95.83999633789062,96.0625,96.74250030517578,96.60250091552734,92.01000213623047,89.1449966430664,93.4800033569336,93.24749755859375,93.7125015258789,93.76750183105469,100.82499694824219,107.89250183105469,108.38749694824219,108.89749908447266,109.79750061035156,110.2925033569336,110.0,109.10749816894531,110.29750061035156,113.92749786376953,113.04499816894531,113.9625015258789,114.00749969482422,115.61000061035156,115.73249816894531,119.25,123.9375,123.05249786376953,125.0824966430664,123.8324966430664,124.57749938964844,126.0,130.52999877929688,127.0,120.5,110.88999938964844,112.68000030517578,115.26000213623047,112.5,110.0,112.80000305175781,113.61000061035156,112.04000091552734,108.70999908447266,106.08999633789062,103.0999984741211,109.16000366210938,106.7699966430664,105.0,107.66999816894531,112.77999877929688,113.56999969482422,113.62000274658203,115.83000183105469,112.22000122070312,113.55000305175781,112.25,114.12999725341797,114.58999633789062,114.91999816894531,119.27999877929688,119.6500015258789,119.62000274658203,118.1500015258789,118.80999755859375,115.66000366210938,115.62999725341797,116.44999694824219,114.58999633789062,114.27999877929688,112.87999725341797,114.54000091552734,111.0999984741211,112.19999694824219,107.72000122070312,107.31999969482422,108.7300033569336,112.3499984741211,116.87000274658203,116.12999725341797,116.05000305175781,114.12999725341797,116.44000244140625,118.56999969482422,117.87000274658203,118.1500015258789,118.95999908447266,118.0,116.80999755859375,117.29000091552734,113.75,112.58999633789062,115.16999816894531,116.22000122070312,116.80999755859375,120.01000213623047,120.88999938964844,122.20999908447266,121.5199966430664,122.25,123.08999633789062,121.0,120.1500015258789,120.55000305175781,121.54000091552734,124.12999725341797,126.55999755859375,128.0399932861328,126.12000274658203,123.44999694824219,129.64999389648438,130.77999877929688,131.10000610351562,133.50999450683594,134.33999633789062,133.39999389648438,131.72000122070312,126.76000213623047,128.42999267578125,126.37999725341797,127.86000061035156,130.22999572753906,128.5,126.86000061035156,128.49000549316406,128.75999450683594,127.0,126.94000244140625,128.5500030517578,133.58999633789062,135.02000427246094,136.5399932861328,141.3699951171875,140.41000366210938,136.6999969482422,130.2100067138672,130.92999267578125,134.61000061035156,133.61000061035156,134.58999633789062,135.86000061035156,134.9199981689453,135.85000610351562,134.39999389648438,133.77000427246094,133.69000244140625,132.7899932861328,129.47000122070312,127.41000366210938,128.8000030517578,125.5999984741211,118.38999938964844,122.2300033569336,120.54000091552734,121.19999694824219,122.79000091552734,125.01000213623047,121.83999633789062,118.62000274658203,117.56999969482422,116.20999908447266,118.79000091552734,119.44999694824219,121.26000213623047,119.16000366210938,120.41999816894531,124.72000122070312,122.33999633789062,120.31999969482422,119.68000030517578,120.26000213623047,122.13999938964844,120.06999969482422,119.0,118.91999816894531,120.7300033569336,118.86000061035156,121.1500015258789,122.48999786376953,123.06999969482422,125.6500015258789,125.13999938964844,128.52000427246094,129.47000122070312,130.6300048828125,131.92999267578125,131.66000366210938,133.63999938964844,133.27999877929688,133.33999633789062,131.80999755859375,131.3000030517578,131.41000366210938,132.16000366210938,133.55999755859375,134.11000061035156,133.0800018310547,132.4499969482422,131.07000732421875,131.8300018310547,126.69999694824219,127.97000122070312,127.12999725341797,129.47999572753906,126.80999755859375,122.7699966430664,122.25,124.26000213623047,125.8499984741211,125.16999816894531,124.77999877929688,122.86000061035156,125.0999984741211,125.20999908447266,125.94000244140625,126.31999969482422,126.41999816894531,125.08000183105469,124.55000305175781,123.94000244140625,124.05000305175781,123.12999725341797,123.8499984741211,124.83000183105469,126.20999908447266,126.5199966430664,125.94000244140625,126.0999984741211],\"open\":[38.72249984741211,35.994998931884766,36.13249969482422,37.17499923706055,37.38999938964844,37.8224983215332,38.125,38.220001220703125,37.712501525878906,37.567501068115234,38.27000045776367,38.54999923706055,39.375,39.102500915527344,38.537498474121094,38.52750015258789,38.869998931884766,38.9474983215332,39.0625,40.8125,41.52750015258789,41.7400016784668,41.852500915527344,43.21500015258789,43.662498474121094,43.099998474121094,42.247501373291016,42.76250076293945,42.525001525878906,42.84749984741211,42.4275016784668,42.8125,42.4275016784668,42.79750061035156,42.95000076293945,42.89500045776367,43.540000915527344,43.4275016784668,43.3025016784668,43.58000183105469,43.56999969482422,43.92250061035156,43.98500061035156,43.66749954223633,43.467498779296875,42.58000183105469,43.872501373291016,45.0,45.5625,45.974998474121094,46.212501525878906,46.45000076293945,47.087501525878906,46.557498931884766,47.505001068115234,48.834999084472656,47.877498626708984,47.915000915527344,47.1875,47.23749923706055,47.45750045776367,47.90999984741211,47.772499084472656,48.3125,48.6974983215332,49.11249923706055,49.10499954223633,50.08000183105469,49.66999816894531,50.212501525878906,49.79999923706055,49.64500045776367,49.8650016784668,49.8849983215332,50.779998779296875,50.70750045776367,51.10749816894531,51.84000015258789,51.70750045776367,51.224998474121094,51.099998474121094,50.76499938964844,52.470001220703125,52.459999084472656,52.72249984741211,51.0724983215332,51.470001220703125,50.474998474121094,50.099998474121094,49.35499954223633,46.9275016784668,46.602500915527344,46.567501068115234,47.477500915527344,46.73249816894531,45.880001068115234,46.30500030517578,46.165000915527344,44.95000076293945,45.04999923706055,44.72999954223633,44.10499954223633,44.48749923706055,44.057498931884766,43.900001525878906,43.86000061035156,46.06999969482422,45.77000045776367,46.627498626708984,47.95249938964844,48.71500015258789,48.48749923706055,48.67499923706055,47.88750076293945,48.224998474121094,49.01250076293945,49.91999816894531,50.092498779296875,49.70000076293945,49.6349983215332,49.60749816894531,49.442501068115234,50.0724983215332,49.66999816894531,50.79249954223633,50.352500915527344,50.81999969482422,50.837501525878906,50.20249938964844,49.79999923706055,50.462501525878906,50.82749938964844,50.61249923706055,51.022499084472656,51.147499084472656,51.01250076293945,51.0,51.4474983215332,50.912498474121094,52.1150016784668,51.91749954223633,52.22249984741211,51.869998931884766,52.1150016784668,52.189998626708984,54.10499954223633,53.474998474121094,51.38249969482422,49.497501373291016,49.07749938964844,48.852500915527344,50.04999923706055,50.32500076293945,49.904998779296875,50.255001068115234,50.790000915527344,50.8650016784668,51.06999969482422,52.654998779296875,52.720001220703125,53.247501373291016,53.29750061035156,52.35749816894531,51.46500015258789,51.96500015258789,51.025001525878906,52.125,52.540000915527344,51.60749816894531,52.09749984741211,53.0,53.51250076293945,53.709999084472656,53.46500015258789,54.51750183105469,56.20000076293945,55.0,54.432498931884766,54.9900016784668,55.26499938964844,55.502498626708984,55.345001220703125,54.73749923706055,55.25749969482422,54.63750076293945,55.0,55.1349983215332,55.224998474121094,56.26750183105469,55.76499938964844,54.60749816894531,56.40999984741211,56.567501068115234,56.45500183105469,56.75749969482422,56.98249816894531,58.23749923706055,58.724998474121094,59.09749984741211,58.342498779296875,58.772499084472656,58.647499084472656,59.380001068115234,60.290000915527344,60.525001525878906,61.127498626708984,60.790000915527344,61.85499954223633,62.24250030517578,61.189998626708984,61.810001373291016,62.3849983215332,64.3324966430664,64.26249694824219,64.19249725341797,64.68499755859375,64.67250061035156,64.57499694824219,65.38749694824219,65.28250122070312,65.9375,65.91999816894531,66.44999694824219,66.9749984741211,66.38500213623047,65.92250061035156,65.64749908447266,65.67749786376953,66.73500061035156,66.3949966430664,66.6500015258789,66.81749725341797,64.57749938964844,65.26750183105469,65.94750213623047,66.87000274658203,67.5,67.1500015258789,67.20249938964844,66.94499969482422,67.86499786376953,69.25,69.89250183105469,69.94999694824219,69.875,70.55750274658203,70.13249969482422,71.17250061035156,71.20500183105469,72.77999877929688,72.36499786376953,72.48249816894531,74.05999755859375,74.2874984741211,73.44750213623047,74.95999908447266,74.29000091552734,76.80999755859375,77.6500015258789,77.91000366210938,79.17500305175781,77.9625015258789,78.39749908447266,79.06749725341797,79.29750061035156,79.6449966430664,79.4800033569336,80.0625,77.51499938964844,78.1500015258789,81.11250305175781,80.13500213623047,80.23249816894531,76.07499694824219,78.82749938964844,80.87999725341797,80.64250183105469,80.59249877929688,78.54499816894531,80.9000015258789,80.36750030517578,81.04750061035156,81.18499755859375,78.83999633789062,80.0,80.65750122070312,79.65499877929688,74.31500244140625,75.23750305175781,71.63249969482422,70.2750015258789,64.31500244140625,70.56999969482422,75.9175033569336,74.11000061035156,73.87999725341797,70.5,65.9375,69.28500366210938,69.34750366210938,63.98500061035156,66.22250366210938,60.48749923706055,61.877498626708984,59.942501068115234,61.84749984741211,61.79499816894531,57.02000045776367,59.09000015258789,62.6875,61.630001068115234,63.1875,62.685001373291016,63.900001525878906,61.625,60.084999084472656,60.70000076293945,62.724998474121094,67.69999694824219,65.68499755859375,67.17500305175781,67.07749938964844,70.0,70.5999984741211,71.84500122070312,71.17250061035156,69.48750305175781,69.06999969482422,68.40249633789062,68.96749877929688,69.30000305175781,70.44999694824219,71.2699966430664,71.18250274658203,72.48999786376953,71.5625,72.2925033569336,73.76499938964844,75.11499786376953,75.80500030517578,76.41000366210938,77.0250015258789,79.4574966430664,78.0374984741211,76.12750244140625,75.0875015258789,78.2925033569336,78.75749969482422,79.16999816894531,79.66500091552734,78.94249725341797,80.875,79.03500366210938,79.19249725341797,79.8125,79.4375,80.1875,81.16500091552734,81.09750366210938,80.8375015258789,82.5625,83.03500366210938,86.9749984741211,87.32749938964844,86.18000030517578,83.3125,87.86499786376953,88.7874984741211,87.85250091552734,88.66000366210938,87.83499908447266,91.0,91.25,90.17500305175781,91.10250091552734,88.3125,90.0199966430664,91.27999877929688,91.9625015258789,92.5,93.85250091552734,94.18000030517578,96.26249694824219,95.33499908447266,97.26499938964844,94.83999633789062,98.98999786376953,96.5625,96.98750305175781,96.4175033569336,99.17250061035156,96.69249725341797,96.99749755859375,90.98750305175781,93.70999908447266,94.36750030517578,93.75,94.1875,102.88500213623047,108.19999694824219,109.13249969482422,109.37750244140625,110.40499877929688,113.20500183105469,112.5999984741211,111.97000122070312,110.49749755859375,114.43000030517578,114.83000183105469,116.0625,114.35250091552734,115.98249816894531,115.75,119.26249694824219,128.69749450683594,124.69750213623047,126.18000030517578,127.14250183105469,126.01249694824219,127.58000183105469,132.75999450683594,137.58999633789062,126.91000366210938,120.06999969482422,113.94999694824219,117.26000213623047,120.36000061035156,114.56999969482422,114.72000122070312,118.33000183105469,115.2300033569336,109.72000122070312,110.4000015258789,104.54000091552734,112.68000030517578,111.62000274658203,105.16999816894531,108.43000030517578,115.01000213623047,114.55000305175781,113.79000091552734,117.63999938964844,112.88999938964844,113.91000366210938,115.69999694824219,114.62000274658203,116.25,115.27999877929688,120.05999755859375,125.2699966430664,121.0,118.72000122070312,121.27999877929688,119.95999908447266,116.19999694824219,116.66999816894531,117.44999694824219,116.38999938964844,114.01000213623047,115.48999786376953,115.05000305175781,112.37000274658203,111.05999755859375,109.11000061035156,109.66000366210938,114.13999938964844,117.94999694824219,118.31999969482422,120.5,115.55000305175781,117.19000244140625,119.62000274658203,119.44000244140625,118.91999816894531,119.55000305175781,118.61000061035156,117.58999633789062,118.63999938964844,117.18000030517578,113.91000366210938,115.55000305175781,116.56999969482422,116.97000122070312,121.01000213623047,122.0199966430664,123.5199966430664,122.5999984741211,122.30999755859375,124.37000274658203,124.52999877929688,120.5,122.43000030517578,122.5999984741211,124.33999633789062,127.41000366210938,128.89999389648438,128.9600067138672,125.0199966430664,131.61000061035156,132.16000366210938,131.32000732421875,133.99000549316406,138.0500030517578,135.5800018310547,134.0800018310547,133.52000427246094,128.88999938964844,127.72000122070312,128.36000061035156,132.42999267578125,129.19000244140625,128.5,128.75999450683594,130.8000030517578,128.77999877929688,127.77999877929688,128.66000366210938,133.8000030517578,136.27999877929688,143.07000732421875,143.60000610351562,143.42999267578125,139.52000427246094,135.8300018310547,133.75,135.72999572753906,135.75999450683594,136.3000030517578,137.35000610351562,136.02999877929688,136.6199951171875,136.47999572753906,135.89999389648438,134.35000610351562,135.49000549316406,131.25,129.1999969482422,130.24000549316406,128.00999450683594,123.76000213623047,124.94000244140625,124.68000030517578,122.58999633789062,123.75,128.41000366210938,124.80999755859375,121.75,120.9800033569336,120.93000030517578,119.02999877929688,121.69000244140625,122.54000091552734,120.4000015258789,121.41000366210938,125.69999694824219,124.05000305175781,122.87999725341797,119.9000015258789,120.33000183105469,123.33000183105469,122.81999969482422,119.54000091552734,120.3499984741211,121.6500015258789,120.11000061035156,121.6500015258789,123.66000366210938,123.87000274658203,126.5,125.83000183105469,128.9499969482422,129.8000030517578,132.52000427246094,132.44000244140625,134.94000244140625,133.82000732421875,134.3000030517578,133.50999450683594,135.02000427246094,132.36000061035156,133.0399932861328,132.16000366210938,134.8300018310547,135.00999450683594,134.30999755859375,136.47000122070312,131.77999877929688,132.0399932861328,131.19000244140625,129.1999969482422,127.88999938964844,130.85000610351562,129.41000366210938,123.5,123.4000015258789,124.58000183105469,126.25,126.81999969482422,126.55999755859375,123.16000366210938,125.2300033569336,127.81999969482422,126.01000213623047,127.81999969482422,126.95999908447266,126.44000244140625,125.56999969482422,125.08000183105469,124.27999877929688,124.68000030517578,124.06999969482422,126.16999816894531,126.5999984741211,127.20999908447266,127.0199966430664,126.52999877929688],\"x\":[\"2019-01-02T00:00:00\",\"2019-01-03T00:00:00\",\"2019-01-04T00:00:00\",\"2019-01-07T00:00:00\",\"2019-01-08T00:00:00\",\"2019-01-09T00:00:00\",\"2019-01-10T00:00:00\",\"2019-01-11T00:00:00\",\"2019-01-14T00:00:00\",\"2019-01-15T00:00:00\",\"2019-01-16T00:00:00\",\"2019-01-17T00:00:00\",\"2019-01-18T00:00:00\",\"2019-01-22T00:00:00\",\"2019-01-23T00:00:00\",\"2019-01-24T00:00:00\",\"2019-01-25T00:00:00\",\"2019-01-28T00:00:00\",\"2019-01-29T00:00:00\",\"2019-01-30T00:00:00\",\"2019-01-31T00:00:00\",\"2019-02-01T00:00:00\",\"2019-02-04T00:00:00\",\"2019-02-05T00:00:00\",\"2019-02-06T00:00:00\",\"2019-02-07T00:00:00\",\"2019-02-08T00:00:00\",\"2019-02-11T00:00:00\",\"2019-02-12T00:00:00\",\"2019-02-13T00:00:00\",\"2019-02-14T00:00:00\",\"2019-02-15T00:00:00\",\"2019-02-19T00:00:00\",\"2019-02-20T00:00:00\",\"2019-02-21T00:00:00\",\"2019-02-22T00:00:00\",\"2019-02-25T00:00:00\",\"2019-02-26T00:00:00\",\"2019-02-27T00:00:00\",\"2019-02-28T00:00:00\",\"2019-03-01T00:00:00\",\"2019-03-04T00:00:00\",\"2019-03-05T00:00:00\",\"2019-03-06T00:00:00\",\"2019-03-07T00:00:00\",\"2019-03-08T00:00:00\",\"2019-03-11T00:00:00\",\"2019-03-12T00:00:00\",\"2019-03-13T00:00:00\",\"2019-03-14T00:00:00\",\"2019-03-15T00:00:00\",\"2019-03-18T00:00:00\",\"2019-03-19T00:00:00\",\"2019-03-20T00:00:00\",\"2019-03-21T00:00:00\",\"2019-03-22T00:00:00\",\"2019-03-25T00:00:00\",\"2019-03-26T00:00:00\",\"2019-03-27T00:00:00\",\"2019-03-28T00:00:00\",\"2019-03-29T00:00:00\",\"2019-04-01T00:00:00\",\"2019-04-02T00:00:00\",\"2019-04-03T00:00:00\",\"2019-04-04T00:00:00\",\"2019-04-05T00:00:00\",\"2019-04-08T00:00:00\",\"2019-04-09T00:00:00\",\"2019-04-10T00:00:00\",\"2019-04-11T00:00:00\",\"2019-04-12T00:00:00\",\"2019-04-15T00:00:00\",\"2019-04-16T00:00:00\",\"2019-04-17T00:00:00\",\"2019-04-18T00:00:00\",\"2019-04-22T00:00:00\",\"2019-04-23T00:00:00\",\"2019-04-24T00:00:00\",\"2019-04-25T00:00:00\",\"2019-04-26T00:00:00\",\"2019-04-29T00:00:00\",\"2019-04-30T00:00:00\",\"2019-05-01T00:00:00\",\"2019-05-02T00:00:00\",\"2019-05-03T00:00:00\",\"2019-05-06T00:00:00\",\"2019-05-07T00:00:00\",\"2019-05-08T00:00:00\",\"2019-05-09T00:00:00\",\"2019-05-10T00:00:00\",\"2019-05-13T00:00:00\",\"2019-05-14T00:00:00\",\"2019-05-15T00:00:00\",\"2019-05-16T00:00:00\",\"2019-05-17T00:00:00\",\"2019-05-20T00:00:00\",\"2019-05-21T00:00:00\",\"2019-05-22T00:00:00\",\"2019-05-23T00:00:00\",\"2019-05-24T00:00:00\",\"2019-05-28T00:00:00\",\"2019-05-29T00:00:00\",\"2019-05-30T00:00:00\",\"2019-05-31T00:00:00\",\"2019-06-03T00:00:00\",\"2019-06-04T00:00:00\",\"2019-06-05T00:00:00\",\"2019-06-06T00:00:00\",\"2019-06-07T00:00:00\",\"2019-06-10T00:00:00\",\"2019-06-11T00:00:00\",\"2019-06-12T00:00:00\",\"2019-06-13T00:00:00\",\"2019-06-14T00:00:00\",\"2019-06-17T00:00:00\",\"2019-06-18T00:00:00\",\"2019-06-19T00:00:00\",\"2019-06-20T00:00:00\",\"2019-06-21T00:00:00\",\"2019-06-24T00:00:00\",\"2019-06-25T00:00:00\",\"2019-06-26T00:00:00\",\"2019-06-27T00:00:00\",\"2019-06-28T00:00:00\",\"2019-07-01T00:00:00\",\"2019-07-02T00:00:00\",\"2019-07-03T00:00:00\",\"2019-07-05T00:00:00\",\"2019-07-08T00:00:00\",\"2019-07-09T00:00:00\",\"2019-07-10T00:00:00\",\"2019-07-11T00:00:00\",\"2019-07-12T00:00:00\",\"2019-07-15T00:00:00\",\"2019-07-16T00:00:00\",\"2019-07-17T00:00:00\",\"2019-07-18T00:00:00\",\"2019-07-19T00:00:00\",\"2019-07-22T00:00:00\",\"2019-07-23T00:00:00\",\"2019-07-24T00:00:00\",\"2019-07-25T00:00:00\",\"2019-07-26T00:00:00\",\"2019-07-29T00:00:00\",\"2019-07-30T00:00:00\",\"2019-07-31T00:00:00\",\"2019-08-01T00:00:00\",\"2019-08-02T00:00:00\",\"2019-08-05T00:00:00\",\"2019-08-06T00:00:00\",\"2019-08-07T00:00:00\",\"2019-08-08T00:00:00\",\"2019-08-09T00:00:00\",\"2019-08-12T00:00:00\",\"2019-08-13T00:00:00\",\"2019-08-14T00:00:00\",\"2019-08-15T00:00:00\",\"2019-08-16T00:00:00\",\"2019-08-19T00:00:00\",\"2019-08-20T00:00:00\",\"2019-08-21T00:00:00\",\"2019-08-22T00:00:00\",\"2019-08-23T00:00:00\",\"2019-08-26T00:00:00\",\"2019-08-27T00:00:00\",\"2019-08-28T00:00:00\",\"2019-08-29T00:00:00\",\"2019-08-30T00:00:00\",\"2019-09-03T00:00:00\",\"2019-09-04T00:00:00\",\"2019-09-05T00:00:00\",\"2019-09-06T00:00:00\",\"2019-09-09T00:00:00\",\"2019-09-10T00:00:00\",\"2019-09-11T00:00:00\",\"2019-09-12T00:00:00\",\"2019-09-13T00:00:00\",\"2019-09-16T00:00:00\",\"2019-09-17T00:00:00\",\"2019-09-18T00:00:00\",\"2019-09-19T00:00:00\",\"2019-09-20T00:00:00\",\"2019-09-23T00:00:00\",\"2019-09-24T00:00:00\",\"2019-09-25T00:00:00\",\"2019-09-26T00:00:00\",\"2019-09-27T00:00:00\",\"2019-09-30T00:00:00\",\"2019-10-01T00:00:00\",\"2019-10-02T00:00:00\",\"2019-10-03T00:00:00\",\"2019-10-04T00:00:00\",\"2019-10-07T00:00:00\",\"2019-10-08T00:00:00\",\"2019-10-09T00:00:00\",\"2019-10-10T00:00:00\",\"2019-10-11T00:00:00\",\"2019-10-14T00:00:00\",\"2019-10-15T00:00:00\",\"2019-10-16T00:00:00\",\"2019-10-17T00:00:00\",\"2019-10-18T00:00:00\",\"2019-10-21T00:00:00\",\"2019-10-22T00:00:00\",\"2019-10-23T00:00:00\",\"2019-10-24T00:00:00\",\"2019-10-25T00:00:00\",\"2019-10-28T00:00:00\",\"2019-10-29T00:00:00\",\"2019-10-30T00:00:00\",\"2019-10-31T00:00:00\",\"2019-11-01T00:00:00\",\"2019-11-04T00:00:00\",\"2019-11-05T00:00:00\",\"2019-11-06T00:00:00\",\"2019-11-07T00:00:00\",\"2019-11-08T00:00:00\",\"2019-11-11T00:00:00\",\"2019-11-12T00:00:00\",\"2019-11-13T00:00:00\",\"2019-11-14T00:00:00\",\"2019-11-15T00:00:00\",\"2019-11-18T00:00:00\",\"2019-11-19T00:00:00\",\"2019-11-20T00:00:00\",\"2019-11-21T00:00:00\",\"2019-11-22T00:00:00\",\"2019-11-25T00:00:00\",\"2019-11-26T00:00:00\",\"2019-11-27T00:00:00\",\"2019-11-29T00:00:00\",\"2019-12-02T00:00:00\",\"2019-12-03T00:00:00\",\"2019-12-04T00:00:00\",\"2019-12-05T00:00:00\",\"2019-12-06T00:00:00\",\"2019-12-09T00:00:00\",\"2019-12-10T00:00:00\",\"2019-12-11T00:00:00\",\"2019-12-12T00:00:00\",\"2019-12-13T00:00:00\",\"2019-12-16T00:00:00\",\"2019-12-17T00:00:00\",\"2019-12-18T00:00:00\",\"2019-12-19T00:00:00\",\"2019-12-20T00:00:00\",\"2019-12-23T00:00:00\",\"2019-12-24T00:00:00\",\"2019-12-26T00:00:00\",\"2019-12-27T00:00:00\",\"2019-12-30T00:00:00\",\"2019-12-31T00:00:00\",\"2020-01-02T00:00:00\",\"2020-01-03T00:00:00\",\"2020-01-06T00:00:00\",\"2020-01-07T00:00:00\",\"2020-01-08T00:00:00\",\"2020-01-09T00:00:00\",\"2020-01-10T00:00:00\",\"2020-01-13T00:00:00\",\"2020-01-14T00:00:00\",\"2020-01-15T00:00:00\",\"2020-01-16T00:00:00\",\"2020-01-17T00:00:00\",\"2020-01-21T00:00:00\",\"2020-01-22T00:00:00\",\"2020-01-23T00:00:00\",\"2020-01-24T00:00:00\",\"2020-01-27T00:00:00\",\"2020-01-28T00:00:00\",\"2020-01-29T00:00:00\",\"2020-01-30T00:00:00\",\"2020-01-31T00:00:00\",\"2020-02-03T00:00:00\",\"2020-02-04T00:00:00\",\"2020-02-05T00:00:00\",\"2020-02-06T00:00:00\",\"2020-02-07T00:00:00\",\"2020-02-10T00:00:00\",\"2020-02-11T00:00:00\",\"2020-02-12T00:00:00\",\"2020-02-13T00:00:00\",\"2020-02-14T00:00:00\",\"2020-02-18T00:00:00\",\"2020-02-19T00:00:00\",\"2020-02-20T00:00:00\",\"2020-02-21T00:00:00\",\"2020-02-24T00:00:00\",\"2020-02-25T00:00:00\",\"2020-02-26T00:00:00\",\"2020-02-27T00:00:00\",\"2020-02-28T00:00:00\",\"2020-03-02T00:00:00\",\"2020-03-03T00:00:00\",\"2020-03-04T00:00:00\",\"2020-03-05T00:00:00\",\"2020-03-06T00:00:00\",\"2020-03-09T00:00:00\",\"2020-03-10T00:00:00\",\"2020-03-11T00:00:00\",\"2020-03-12T00:00:00\",\"2020-03-13T00:00:00\",\"2020-03-16T00:00:00\",\"2020-03-17T00:00:00\",\"2020-03-18T00:00:00\",\"2020-03-19T00:00:00\",\"2020-03-20T00:00:00\",\"2020-03-23T00:00:00\",\"2020-03-24T00:00:00\",\"2020-03-25T00:00:00\",\"2020-03-26T00:00:00\",\"2020-03-27T00:00:00\",\"2020-03-30T00:00:00\",\"2020-03-31T00:00:00\",\"2020-04-01T00:00:00\",\"2020-04-02T00:00:00\",\"2020-04-03T00:00:00\",\"2020-04-06T00:00:00\",\"2020-04-07T00:00:00\",\"2020-04-08T00:00:00\",\"2020-04-09T00:00:00\",\"2020-04-13T00:00:00\",\"2020-04-14T00:00:00\",\"2020-04-15T00:00:00\",\"2020-04-16T00:00:00\",\"2020-04-17T00:00:00\",\"2020-04-20T00:00:00\",\"2020-04-21T00:00:00\",\"2020-04-22T00:00:00\",\"2020-04-23T00:00:00\",\"2020-04-24T00:00:00\",\"2020-04-27T00:00:00\",\"2020-04-28T00:00:00\",\"2020-04-29T00:00:00\",\"2020-04-30T00:00:00\",\"2020-05-01T00:00:00\",\"2020-05-04T00:00:00\",\"2020-05-05T00:00:00\",\"2020-05-06T00:00:00\",\"2020-05-07T00:00:00\",\"2020-05-08T00:00:00\",\"2020-05-11T00:00:00\",\"2020-05-12T00:00:00\",\"2020-05-13T00:00:00\",\"2020-05-14T00:00:00\",\"2020-05-15T00:00:00\",\"2020-05-18T00:00:00\",\"2020-05-19T00:00:00\",\"2020-05-20T00:00:00\",\"2020-05-21T00:00:00\",\"2020-05-22T00:00:00\",\"2020-05-26T00:00:00\",\"2020-05-27T00:00:00\",\"2020-05-28T00:00:00\",\"2020-05-29T00:00:00\",\"2020-06-01T00:00:00\",\"2020-06-02T00:00:00\",\"2020-06-03T00:00:00\",\"2020-06-04T00:00:00\",\"2020-06-05T00:00:00\",\"2020-06-08T00:00:00\",\"2020-06-09T00:00:00\",\"2020-06-10T00:00:00\",\"2020-06-11T00:00:00\",\"2020-06-12T00:00:00\",\"2020-06-15T00:00:00\",\"2020-06-16T00:00:00\",\"2020-06-17T00:00:00\",\"2020-06-18T00:00:00\",\"2020-06-19T00:00:00\",\"2020-06-22T00:00:00\",\"2020-06-23T00:00:00\",\"2020-06-24T00:00:00\",\"2020-06-25T00:00:00\",\"2020-06-26T00:00:00\",\"2020-06-29T00:00:00\",\"2020-06-30T00:00:00\",\"2020-07-01T00:00:00\",\"2020-07-02T00:00:00\",\"2020-07-06T00:00:00\",\"2020-07-07T00:00:00\",\"2020-07-08T00:00:00\",\"2020-07-09T00:00:00\",\"2020-07-10T00:00:00\",\"2020-07-13T00:00:00\",\"2020-07-14T00:00:00\",\"2020-07-15T00:00:00\",\"2020-07-16T00:00:00\",\"2020-07-17T00:00:00\",\"2020-07-20T00:00:00\",\"2020-07-21T00:00:00\",\"2020-07-22T00:00:00\",\"2020-07-23T00:00:00\",\"2020-07-24T00:00:00\",\"2020-07-27T00:00:00\",\"2020-07-28T00:00:00\",\"2020-07-29T00:00:00\",\"2020-07-30T00:00:00\",\"2020-07-31T00:00:00\",\"2020-08-03T00:00:00\",\"2020-08-04T00:00:00\",\"2020-08-05T00:00:00\",\"2020-08-06T00:00:00\",\"2020-08-07T00:00:00\",\"2020-08-10T00:00:00\",\"2020-08-11T00:00:00\",\"2020-08-12T00:00:00\",\"2020-08-13T00:00:00\",\"2020-08-14T00:00:00\",\"2020-08-17T00:00:00\",\"2020-08-18T00:00:00\",\"2020-08-19T00:00:00\",\"2020-08-20T00:00:00\",\"2020-08-21T00:00:00\",\"2020-08-24T00:00:00\",\"2020-08-25T00:00:00\",\"2020-08-26T00:00:00\",\"2020-08-27T00:00:00\",\"2020-08-28T00:00:00\",\"2020-08-31T00:00:00\",\"2020-09-01T00:00:00\",\"2020-09-02T00:00:00\",\"2020-09-03T00:00:00\",\"2020-09-04T00:00:00\",\"2020-09-08T00:00:00\",\"2020-09-09T00:00:00\",\"2020-09-10T00:00:00\",\"2020-09-11T00:00:00\",\"2020-09-14T00:00:00\",\"2020-09-15T00:00:00\",\"2020-09-16T00:00:00\",\"2020-09-17T00:00:00\",\"2020-09-18T00:00:00\",\"2020-09-21T00:00:00\",\"2020-09-22T00:00:00\",\"2020-09-23T00:00:00\",\"2020-09-24T00:00:00\",\"2020-09-25T00:00:00\",\"2020-09-28T00:00:00\",\"2020-09-29T00:00:00\",\"2020-09-30T00:00:00\",\"2020-10-01T00:00:00\",\"2020-10-02T00:00:00\",\"2020-10-05T00:00:00\",\"2020-10-06T00:00:00\",\"2020-10-07T00:00:00\",\"2020-10-08T00:00:00\",\"2020-10-09T00:00:00\",\"2020-10-12T00:00:00\",\"2020-10-13T00:00:00\",\"2020-10-14T00:00:00\",\"2020-10-15T00:00:00\",\"2020-10-16T00:00:00\",\"2020-10-19T00:00:00\",\"2020-10-20T00:00:00\",\"2020-10-21T00:00:00\",\"2020-10-22T00:00:00\",\"2020-10-23T00:00:00\",\"2020-10-26T00:00:00\",\"2020-10-27T00:00:00\",\"2020-10-28T00:00:00\",\"2020-10-29T00:00:00\",\"2020-10-30T00:00:00\",\"2020-11-02T00:00:00\",\"2020-11-03T00:00:00\",\"2020-11-04T00:00:00\",\"2020-11-05T00:00:00\",\"2020-11-06T00:00:00\",\"2020-11-09T00:00:00\",\"2020-11-10T00:00:00\",\"2020-11-11T00:00:00\",\"2020-11-12T00:00:00\",\"2020-11-13T00:00:00\",\"2020-11-16T00:00:00\",\"2020-11-17T00:00:00\",\"2020-11-18T00:00:00\",\"2020-11-19T00:00:00\",\"2020-11-20T00:00:00\",\"2020-11-23T00:00:00\",\"2020-11-24T00:00:00\",\"2020-11-25T00:00:00\",\"2020-11-27T00:00:00\",\"2020-11-30T00:00:00\",\"2020-12-01T00:00:00\",\"2020-12-02T00:00:00\",\"2020-12-03T00:00:00\",\"2020-12-04T00:00:00\",\"2020-12-07T00:00:00\",\"2020-12-08T00:00:00\",\"2020-12-09T00:00:00\",\"2020-12-10T00:00:00\",\"2020-12-11T00:00:00\",\"2020-12-14T00:00:00\",\"2020-12-15T00:00:00\",\"2020-12-16T00:00:00\",\"2020-12-17T00:00:00\",\"2020-12-18T00:00:00\",\"2020-12-21T00:00:00\",\"2020-12-22T00:00:00\",\"2020-12-23T00:00:00\",\"2020-12-24T00:00:00\",\"2020-12-28T00:00:00\",\"2020-12-29T00:00:00\",\"2020-12-30T00:00:00\",\"2020-12-31T00:00:00\",\"2021-01-04T00:00:00\",\"2021-01-05T00:00:00\",\"2021-01-06T00:00:00\",\"2021-01-07T00:00:00\",\"2021-01-08T00:00:00\",\"2021-01-11T00:00:00\",\"2021-01-12T00:00:00\",\"2021-01-13T00:00:00\",\"2021-01-14T00:00:00\",\"2021-01-15T00:00:00\",\"2021-01-19T00:00:00\",\"2021-01-20T00:00:00\",\"2021-01-21T00:00:00\",\"2021-01-22T00:00:00\",\"2021-01-25T00:00:00\",\"2021-01-26T00:00:00\",\"2021-01-27T00:00:00\",\"2021-01-28T00:00:00\",\"2021-01-29T00:00:00\",\"2021-02-01T00:00:00\",\"2021-02-02T00:00:00\",\"2021-02-03T00:00:00\",\"2021-02-04T00:00:00\",\"2021-02-05T00:00:00\",\"2021-02-08T00:00:00\",\"2021-02-09T00:00:00\",\"2021-02-10T00:00:00\",\"2021-02-11T00:00:00\",\"2021-02-12T00:00:00\",\"2021-02-16T00:00:00\",\"2021-02-17T00:00:00\",\"2021-02-18T00:00:00\",\"2021-02-19T00:00:00\",\"2021-02-22T00:00:00\",\"2021-02-23T00:00:00\",\"2021-02-24T00:00:00\",\"2021-02-25T00:00:00\",\"2021-02-26T00:00:00\",\"2021-03-01T00:00:00\",\"2021-03-02T00:00:00\",\"2021-03-03T00:00:00\",\"2021-03-04T00:00:00\",\"2021-03-05T00:00:00\",\"2021-03-08T00:00:00\",\"2021-03-09T00:00:00\",\"2021-03-10T00:00:00\",\"2021-03-11T00:00:00\",\"2021-03-12T00:00:00\",\"2021-03-15T00:00:00\",\"2021-03-16T00:00:00\",\"2021-03-17T00:00:00\",\"2021-03-18T00:00:00\",\"2021-03-19T00:00:00\",\"2021-03-22T00:00:00\",\"2021-03-23T00:00:00\",\"2021-03-24T00:00:00\",\"2021-03-25T00:00:00\",\"2021-03-26T00:00:00\",\"2021-03-29T00:00:00\",\"2021-03-30T00:00:00\",\"2021-03-31T00:00:00\",\"2021-04-01T00:00:00\",\"2021-04-05T00:00:00\",\"2021-04-06T00:00:00\",\"2021-04-07T00:00:00\",\"2021-04-08T00:00:00\",\"2021-04-09T00:00:00\",\"2021-04-12T00:00:00\",\"2021-04-13T00:00:00\",\"2021-04-14T00:00:00\",\"2021-04-15T00:00:00\",\"2021-04-16T00:00:00\",\"2021-04-19T00:00:00\",\"2021-04-20T00:00:00\",\"2021-04-21T00:00:00\",\"2021-04-22T00:00:00\",\"2021-04-23T00:00:00\",\"2021-04-26T00:00:00\",\"2021-04-27T00:00:00\",\"2021-04-28T00:00:00\",\"2021-04-29T00:00:00\",\"2021-04-30T00:00:00\",\"2021-05-03T00:00:00\",\"2021-05-04T00:00:00\",\"2021-05-05T00:00:00\",\"2021-05-06T00:00:00\",\"2021-05-07T00:00:00\",\"2021-05-10T00:00:00\",\"2021-05-11T00:00:00\",\"2021-05-12T00:00:00\",\"2021-05-13T00:00:00\",\"2021-05-14T00:00:00\",\"2021-05-17T00:00:00\",\"2021-05-18T00:00:00\",\"2021-05-19T00:00:00\",\"2021-05-20T00:00:00\",\"2021-05-21T00:00:00\",\"2021-05-24T00:00:00\",\"2021-05-25T00:00:00\",\"2021-05-26T00:00:00\",\"2021-05-27T00:00:00\",\"2021-05-28T00:00:00\",\"2021-06-01T00:00:00\",\"2021-06-02T00:00:00\",\"2021-06-03T00:00:00\",\"2021-06-04T00:00:00\",\"2021-06-07T00:00:00\",\"2021-06-08T00:00:00\",\"2021-06-09T00:00:00\",\"2021-06-10T00:00:00\",\"2021-06-11T00:00:00\"],\"type\":\"candlestick\"}],                        {\"template\":{\"data\":{\"bar\":[{\"error_x\":{\"color\":\"#2a3f5f\"},\"error_y\":{\"color\":\"#2a3f5f\"},\"marker\":{\"line\":{\"color\":\"#E5ECF6\",\"width\":0.5},\"pattern\":{\"fillmode\":\"overlay\",\"size\":10,\"solidity\":0.2}},\"type\":\"bar\"}],\"barpolar\":[{\"marker\":{\"line\":{\"color\":\"#E5ECF6\",\"width\":0.5},\"pattern\":{\"fillmode\":\"overlay\",\"size\":10,\"solidity\":0.2}},\"type\":\"barpolar\"}],\"carpet\":[{\"aaxis\":{\"endlinecolor\":\"#2a3f5f\",\"gridcolor\":\"white\",\"linecolor\":\"white\",\"minorgridcolor\":\"white\",\"startlinecolor\":\"#2a3f5f\"},\"baxis\":{\"endlinecolor\":\"#2a3f5f\",\"gridcolor\":\"white\",\"linecolor\":\"white\",\"minorgridcolor\":\"white\",\"startlinecolor\":\"#2a3f5f\"},\"type\":\"carpet\"}],\"choropleth\":[{\"colorbar\":{\"outlinewidth\":0,\"ticks\":\"\"},\"type\":\"choropleth\"}],\"contour\":[{\"colorbar\":{\"outlinewidth\":0,\"ticks\":\"\"},\"colorscale\":[[0.0,\"#0d0887\"],[0.1111111111111111,\"#46039f\"],[0.2222222222222222,\"#7201a8\"],[0.3333333333333333,\"#9c179e\"],[0.4444444444444444,\"#bd3786\"],[0.5555555555555556,\"#d8576b\"],[0.6666666666666666,\"#ed7953\"],[0.7777777777777778,\"#fb9f3a\"],[0.8888888888888888,\"#fdca26\"],[1.0,\"#f0f921\"]],\"type\":\"contour\"}],\"contourcarpet\":[{\"colorbar\":{\"outlinewidth\":0,\"ticks\":\"\"},\"type\":\"contourcarpet\"}],\"heatmap\":[{\"colorbar\":{\"outlinewidth\":0,\"ticks\":\"\"},\"colorscale\":[[0.0,\"#0d0887\"],[0.1111111111111111,\"#46039f\"],[0.2222222222222222,\"#7201a8\"],[0.3333333333333333,\"#9c179e\"],[0.4444444444444444,\"#bd3786\"],[0.5555555555555556,\"#d8576b\"],[0.6666666666666666,\"#ed7953\"],[0.7777777777777778,\"#fb9f3a\"],[0.8888888888888888,\"#fdca26\"],[1.0,\"#f0f921\"]],\"type\":\"heatmap\"}],\"heatmapgl\":[{\"colorbar\":{\"outlinewidth\":0,\"ticks\":\"\"},\"colorscale\":[[0.0,\"#0d0887\"],[0.1111111111111111,\"#46039f\"],[0.2222222222222222,\"#7201a8\"],[0.3333333333333333,\"#9c179e\"],[0.4444444444444444,\"#bd3786\"],[0.5555555555555556,\"#d8576b\"],[0.6666666666666666,\"#ed7953\"],[0.7777777777777778,\"#fb9f3a\"],[0.8888888888888888,\"#fdca26\"],[1.0,\"#f0f921\"]],\"type\":\"heatmapgl\"}],\"histogram\":[{\"marker\":{\"pattern\":{\"fillmode\":\"overlay\",\"size\":10,\"solidity\":0.2}},\"type\":\"histogram\"}],\"histogram2d\":[{\"colorbar\":{\"outlinewidth\":0,\"ticks\":\"\"},\"colorscale\":[[0.0,\"#0d0887\"],[0.1111111111111111,\"#46039f\"],[0.2222222222222222,\"#7201a8\"],[0.3333333333333333,\"#9c179e\"],[0.4444444444444444,\"#bd3786\"],[0.5555555555555556,\"#d8576b\"],[0.6666666666666666,\"#ed7953\"],[0.7777777777777778,\"#fb9f3a\"],[0.8888888888888888,\"#fdca26\"],[1.0,\"#f0f921\"]],\"type\":\"histogram2d\"}],\"histogram2dcontour\":[{\"colorbar\":{\"outlinewidth\":0,\"ticks\":\"\"},\"colorscale\":[[0.0,\"#0d0887\"],[0.1111111111111111,\"#46039f\"],[0.2222222222222222,\"#7201a8\"],[0.3333333333333333,\"#9c179e\"],[0.4444444444444444,\"#bd3786\"],[0.5555555555555556,\"#d8576b\"],[0.6666666666666666,\"#ed7953\"],[0.7777777777777778,\"#fb9f3a\"],[0.8888888888888888,\"#fdca26\"],[1.0,\"#f0f921\"]],\"type\":\"histogram2dcontour\"}],\"mesh3d\":[{\"colorbar\":{\"outlinewidth\":0,\"ticks\":\"\"},\"type\":\"mesh3d\"}],\"parcoords\":[{\"line\":{\"colorbar\":{\"outlinewidth\":0,\"ticks\":\"\"}},\"type\":\"parcoords\"}],\"pie\":[{\"automargin\":true,\"type\":\"pie\"}],\"scatter\":[{\"marker\":{\"colorbar\":{\"outlinewidth\":0,\"ticks\":\"\"}},\"type\":\"scatter\"}],\"scatter3d\":[{\"line\":{\"colorbar\":{\"outlinewidth\":0,\"ticks\":\"\"}},\"marker\":{\"colorbar\":{\"outlinewidth\":0,\"ticks\":\"\"}},\"type\":\"scatter3d\"}],\"scattercarpet\":[{\"marker\":{\"colorbar\":{\"outlinewidth\":0,\"ticks\":\"\"}},\"type\":\"scattercarpet\"}],\"scattergeo\":[{\"marker\":{\"colorbar\":{\"outlinewidth\":0,\"ticks\":\"\"}},\"type\":\"scattergeo\"}],\"scattergl\":[{\"marker\":{\"colorbar\":{\"outlinewidth\":0,\"ticks\":\"\"}},\"type\":\"scattergl\"}],\"scattermapbox\":[{\"marker\":{\"colorbar\":{\"outlinewidth\":0,\"ticks\":\"\"}},\"type\":\"scattermapbox\"}],\"scatterpolar\":[{\"marker\":{\"colorbar\":{\"outlinewidth\":0,\"ticks\":\"\"}},\"type\":\"scatterpolar\"}],\"scatterpolargl\":[{\"marker\":{\"colorbar\":{\"outlinewidth\":0,\"ticks\":\"\"}},\"type\":\"scatterpolargl\"}],\"scatterternary\":[{\"marker\":{\"colorbar\":{\"outlinewidth\":0,\"ticks\":\"\"}},\"type\":\"scatterternary\"}],\"surface\":[{\"colorbar\":{\"outlinewidth\":0,\"ticks\":\"\"},\"colorscale\":[[0.0,\"#0d0887\"],[0.1111111111111111,\"#46039f\"],[0.2222222222222222,\"#7201a8\"],[0.3333333333333333,\"#9c179e\"],[0.4444444444444444,\"#bd3786\"],[0.5555555555555556,\"#d8576b\"],[0.6666666666666666,\"#ed7953\"],[0.7777777777777778,\"#fb9f3a\"],[0.8888888888888888,\"#fdca26\"],[1.0,\"#f0f921\"]],\"type\":\"surface\"}],\"table\":[{\"cells\":{\"fill\":{\"color\":\"#EBF0F8\"},\"line\":{\"color\":\"white\"}},\"header\":{\"fill\":{\"color\":\"#C8D4E3\"},\"line\":{\"color\":\"white\"}},\"type\":\"table\"}]},\"layout\":{\"annotationdefaults\":{\"arrowcolor\":\"#2a3f5f\",\"arrowhead\":0,\"arrowwidth\":1},\"autotypenumbers\":\"strict\",\"coloraxis\":{\"colorbar\":{\"outlinewidth\":0,\"ticks\":\"\"}},\"colorscale\":{\"diverging\":[[0,\"#8e0152\"],[0.1,\"#c51b7d\"],[0.2,\"#de77ae\"],[0.3,\"#f1b6da\"],[0.4,\"#fde0ef\"],[0.5,\"#f7f7f7\"],[0.6,\"#e6f5d0\"],[0.7,\"#b8e186\"],[0.8,\"#7fbc41\"],[0.9,\"#4d9221\"],[1,\"#276419\"]],\"sequential\":[[0.0,\"#0d0887\"],[0.1111111111111111,\"#46039f\"],[0.2222222222222222,\"#7201a8\"],[0.3333333333333333,\"#9c179e\"],[0.4444444444444444,\"#bd3786\"],[0.5555555555555556,\"#d8576b\"],[0.6666666666666666,\"#ed7953\"],[0.7777777777777778,\"#fb9f3a\"],[0.8888888888888888,\"#fdca26\"],[1.0,\"#f0f921\"]],\"sequentialminus\":[[0.0,\"#0d0887\"],[0.1111111111111111,\"#46039f\"],[0.2222222222222222,\"#7201a8\"],[0.3333333333333333,\"#9c179e\"],[0.4444444444444444,\"#bd3786\"],[0.5555555555555556,\"#d8576b\"],[0.6666666666666666,\"#ed7953\"],[0.7777777777777778,\"#fb9f3a\"],[0.8888888888888888,\"#fdca26\"],[1.0,\"#f0f921\"]]},\"colorway\":[\"#636efa\",\"#EF553B\",\"#00cc96\",\"#ab63fa\",\"#FFA15A\",\"#19d3f3\",\"#FF6692\",\"#B6E880\",\"#FF97FF\",\"#FECB52\"],\"font\":{\"color\":\"#2a3f5f\"},\"geo\":{\"bgcolor\":\"white\",\"lakecolor\":\"white\",\"landcolor\":\"#E5ECF6\",\"showlakes\":true,\"showland\":true,\"subunitcolor\":\"white\"},\"hoverlabel\":{\"align\":\"left\"},\"hovermode\":\"closest\",\"mapbox\":{\"style\":\"light\"},\"paper_bgcolor\":\"white\",\"plot_bgcolor\":\"#E5ECF6\",\"polar\":{\"angularaxis\":{\"gridcolor\":\"white\",\"linecolor\":\"white\",\"ticks\":\"\"},\"bgcolor\":\"#E5ECF6\",\"radialaxis\":{\"gridcolor\":\"white\",\"linecolor\":\"white\",\"ticks\":\"\"}},\"scene\":{\"xaxis\":{\"backgroundcolor\":\"#E5ECF6\",\"gridcolor\":\"white\",\"gridwidth\":2,\"linecolor\":\"white\",\"showbackground\":true,\"ticks\":\"\",\"zerolinecolor\":\"white\"},\"yaxis\":{\"backgroundcolor\":\"#E5ECF6\",\"gridcolor\":\"white\",\"gridwidth\":2,\"linecolor\":\"white\",\"showbackground\":true,\"ticks\":\"\",\"zerolinecolor\":\"white\"},\"zaxis\":{\"backgroundcolor\":\"#E5ECF6\",\"gridcolor\":\"white\",\"gridwidth\":2,\"linecolor\":\"white\",\"showbackground\":true,\"ticks\":\"\",\"zerolinecolor\":\"white\"}},\"shapedefaults\":{\"line\":{\"color\":\"#2a3f5f\"}},\"ternary\":{\"aaxis\":{\"gridcolor\":\"white\",\"linecolor\":\"white\",\"ticks\":\"\"},\"baxis\":{\"gridcolor\":\"white\",\"linecolor\":\"white\",\"ticks\":\"\"},\"bgcolor\":\"#E5ECF6\",\"caxis\":{\"gridcolor\":\"white\",\"linecolor\":\"white\",\"ticks\":\"\"}},\"title\":{\"x\":0.05},\"xaxis\":{\"automargin\":true,\"gridcolor\":\"white\",\"linecolor\":\"white\",\"ticks\":\"\",\"title\":{\"standoff\":15},\"zerolinecolor\":\"white\",\"zerolinewidth\":2},\"yaxis\":{\"automargin\":true,\"gridcolor\":\"white\",\"linecolor\":\"white\",\"ticks\":\"\",\"title\":{\"standoff\":15},\"zerolinecolor\":\"white\",\"zerolinewidth\":2}}}},                        {\"responsive\": true}                    ).then(function(){\n",
              "                            \n",
              "var gd = document.getElementById('de2f9cc3-cae2-4fcf-8a38-748995712fdf');\n",
              "var x = new MutationObserver(function (mutations, observer) {{\n",
              "        var display = window.getComputedStyle(gd).display;\n",
              "        if (!display || display === 'none') {{\n",
              "            console.log([gd, 'removed!']);\n",
              "            Plotly.purge(gd);\n",
              "            observer.disconnect();\n",
              "        }}\n",
              "}});\n",
              "\n",
              "// Listen for the removal of the full notebook cells\n",
              "var notebookContainer = gd.closest('#notebook-container');\n",
              "if (notebookContainer) {{\n",
              "    x.observe(notebookContainer, {childList: true});\n",
              "}}\n",
              "\n",
              "// Listen for the clearing of the current output cell\n",
              "var outputEl = gd.closest('.output');\n",
              "if (outputEl) {{\n",
              "    x.observe(outputEl, {childList: true});\n",
              "}}\n",
              "\n",
              "                        })                };                            </script>        </div>\n",
              "</body>\n",
              "</html>"
            ]
          },
          "metadata": {},
          "output_type": "display_data"
        },
        {
          "data": {
            "text/plain": [
              "<Figure size 1080x1080 with 0 Axes>"
            ]
          },
          "metadata": {},
          "output_type": "display_data"
        }
      ],
      "source": [
        "fig =plt.figure(figsize=(15,15))\n",
        "fi = go.Figure(data=[go.Candlestick(x=stock['Date'],open=stock['Open'],high=stock['High'],low=stock['Low'],close=stock['Close'])])\n",
        "\n",
        "fi.show()"
      ]
    },
    {
      "cell_type": "markdown",
      "metadata": {
        "id": "ZCwWVharhE7W"
      },
      "source": [
        "Candlestick chart Range slide used for technical analyisis"
      ]
    },
    {
      "cell_type": "markdown",
      "metadata": {
        "id": "1BmiQJbAiU8F"
      },
      "source": [
        "**Line plot**"
      ]
    },
    {
      "cell_type": "code",
      "execution_count": null,
      "metadata": {
        "colab": {
          "base_uri": "https://localhost:8080/",
          "height": 542
        },
        "id": "JsORT1mgZw9i",
        "outputId": "45293b2a-f92a-4683-99f2-357e61ddaeea"
      },
      "outputs": [
        {
          "data": {
            "text/html": [
              "<html>\n",
              "<head><meta charset=\"utf-8\" /></head>\n",
              "<body>\n",
              "    <div>            <script src=\"https://cdnjs.cloudflare.com/ajax/libs/mathjax/2.7.5/MathJax.js?config=TeX-AMS-MML_SVG\"></script><script type=\"text/javascript\">if (window.MathJax) {MathJax.Hub.Config({SVG: {font: \"STIX-Web\"}});}</script>                <script type=\"text/javascript\">window.PlotlyConfig = {MathJaxConfig: 'local'};</script>\n",
              "        <script src=\"https://cdn.plot.ly/plotly-2.8.3.min.js\"></script>                <div id=\"82c3b03d-60d0-4918-a427-107ebeda3d8f\" class=\"plotly-graph-div\" style=\"height:525px; width:100%;\"></div>            <script type=\"text/javascript\">                                    window.PLOTLYENV=window.PLOTLYENV || {};                                    if (document.getElementById(\"82c3b03d-60d0-4918-a427-107ebeda3d8f\")) {                    Plotly.newPlot(                        \"82c3b03d-60d0-4918-a427-107ebeda3d8f\",                        [{\"hovertemplate\":\"Date=%{x}<br>Open=%{y}<extra></extra>\",\"legendgroup\":\"\",\"line\":{\"color\":\"#636efa\",\"dash\":\"solid\"},\"marker\":{\"symbol\":\"circle\"},\"mode\":\"lines\",\"name\":\"\",\"orientation\":\"v\",\"showlegend\":false,\"x\":[\"2019-01-02T00:00:00\",\"2019-01-03T00:00:00\",\"2019-01-04T00:00:00\",\"2019-01-07T00:00:00\",\"2019-01-08T00:00:00\",\"2019-01-09T00:00:00\",\"2019-01-10T00:00:00\",\"2019-01-11T00:00:00\",\"2019-01-14T00:00:00\",\"2019-01-15T00:00:00\",\"2019-01-16T00:00:00\",\"2019-01-17T00:00:00\",\"2019-01-18T00:00:00\",\"2019-01-22T00:00:00\",\"2019-01-23T00:00:00\",\"2019-01-24T00:00:00\",\"2019-01-25T00:00:00\",\"2019-01-28T00:00:00\",\"2019-01-29T00:00:00\",\"2019-01-30T00:00:00\",\"2019-01-31T00:00:00\",\"2019-02-01T00:00:00\",\"2019-02-04T00:00:00\",\"2019-02-05T00:00:00\",\"2019-02-06T00:00:00\",\"2019-02-07T00:00:00\",\"2019-02-08T00:00:00\",\"2019-02-11T00:00:00\",\"2019-02-12T00:00:00\",\"2019-02-13T00:00:00\",\"2019-02-14T00:00:00\",\"2019-02-15T00:00:00\",\"2019-02-19T00:00:00\",\"2019-02-20T00:00:00\",\"2019-02-21T00:00:00\",\"2019-02-22T00:00:00\",\"2019-02-25T00:00:00\",\"2019-02-26T00:00:00\",\"2019-02-27T00:00:00\",\"2019-02-28T00:00:00\",\"2019-03-01T00:00:00\",\"2019-03-04T00:00:00\",\"2019-03-05T00:00:00\",\"2019-03-06T00:00:00\",\"2019-03-07T00:00:00\",\"2019-03-08T00:00:00\",\"2019-03-11T00:00:00\",\"2019-03-12T00:00:00\",\"2019-03-13T00:00:00\",\"2019-03-14T00:00:00\",\"2019-03-15T00:00:00\",\"2019-03-18T00:00:00\",\"2019-03-19T00:00:00\",\"2019-03-20T00:00:00\",\"2019-03-21T00:00:00\",\"2019-03-22T00:00:00\",\"2019-03-25T00:00:00\",\"2019-03-26T00:00:00\",\"2019-03-27T00:00:00\",\"2019-03-28T00:00:00\",\"2019-03-29T00:00:00\",\"2019-04-01T00:00:00\",\"2019-04-02T00:00:00\",\"2019-04-03T00:00:00\",\"2019-04-04T00:00:00\",\"2019-04-05T00:00:00\",\"2019-04-08T00:00:00\",\"2019-04-09T00:00:00\",\"2019-04-10T00:00:00\",\"2019-04-11T00:00:00\",\"2019-04-12T00:00:00\",\"2019-04-15T00:00:00\",\"2019-04-16T00:00:00\",\"2019-04-17T00:00:00\",\"2019-04-18T00:00:00\",\"2019-04-22T00:00:00\",\"2019-04-23T00:00:00\",\"2019-04-24T00:00:00\",\"2019-04-25T00:00:00\",\"2019-04-26T00:00:00\",\"2019-04-29T00:00:00\",\"2019-04-30T00:00:00\",\"2019-05-01T00:00:00\",\"2019-05-02T00:00:00\",\"2019-05-03T00:00:00\",\"2019-05-06T00:00:00\",\"2019-05-07T00:00:00\",\"2019-05-08T00:00:00\",\"2019-05-09T00:00:00\",\"2019-05-10T00:00:00\",\"2019-05-13T00:00:00\",\"2019-05-14T00:00:00\",\"2019-05-15T00:00:00\",\"2019-05-16T00:00:00\",\"2019-05-17T00:00:00\",\"2019-05-20T00:00:00\",\"2019-05-21T00:00:00\",\"2019-05-22T00:00:00\",\"2019-05-23T00:00:00\",\"2019-05-24T00:00:00\",\"2019-05-28T00:00:00\",\"2019-05-29T00:00:00\",\"2019-05-30T00:00:00\",\"2019-05-31T00:00:00\",\"2019-06-03T00:00:00\",\"2019-06-04T00:00:00\",\"2019-06-05T00:00:00\",\"2019-06-06T00:00:00\",\"2019-06-07T00:00:00\",\"2019-06-10T00:00:00\",\"2019-06-11T00:00:00\",\"2019-06-12T00:00:00\",\"2019-06-13T00:00:00\",\"2019-06-14T00:00:00\",\"2019-06-17T00:00:00\",\"2019-06-18T00:00:00\",\"2019-06-19T00:00:00\",\"2019-06-20T00:00:00\",\"2019-06-21T00:00:00\",\"2019-06-24T00:00:00\",\"2019-06-25T00:00:00\",\"2019-06-26T00:00:00\",\"2019-06-27T00:00:00\",\"2019-06-28T00:00:00\",\"2019-07-01T00:00:00\",\"2019-07-02T00:00:00\",\"2019-07-03T00:00:00\",\"2019-07-05T00:00:00\",\"2019-07-08T00:00:00\",\"2019-07-09T00:00:00\",\"2019-07-10T00:00:00\",\"2019-07-11T00:00:00\",\"2019-07-12T00:00:00\",\"2019-07-15T00:00:00\",\"2019-07-16T00:00:00\",\"2019-07-17T00:00:00\",\"2019-07-18T00:00:00\",\"2019-07-19T00:00:00\",\"2019-07-22T00:00:00\",\"2019-07-23T00:00:00\",\"2019-07-24T00:00:00\",\"2019-07-25T00:00:00\",\"2019-07-26T00:00:00\",\"2019-07-29T00:00:00\",\"2019-07-30T00:00:00\",\"2019-07-31T00:00:00\",\"2019-08-01T00:00:00\",\"2019-08-02T00:00:00\",\"2019-08-05T00:00:00\",\"2019-08-06T00:00:00\",\"2019-08-07T00:00:00\",\"2019-08-08T00:00:00\",\"2019-08-09T00:00:00\",\"2019-08-12T00:00:00\",\"2019-08-13T00:00:00\",\"2019-08-14T00:00:00\",\"2019-08-15T00:00:00\",\"2019-08-16T00:00:00\",\"2019-08-19T00:00:00\",\"2019-08-20T00:00:00\",\"2019-08-21T00:00:00\",\"2019-08-22T00:00:00\",\"2019-08-23T00:00:00\",\"2019-08-26T00:00:00\",\"2019-08-27T00:00:00\",\"2019-08-28T00:00:00\",\"2019-08-29T00:00:00\",\"2019-08-30T00:00:00\",\"2019-09-03T00:00:00\",\"2019-09-04T00:00:00\",\"2019-09-05T00:00:00\",\"2019-09-06T00:00:00\",\"2019-09-09T00:00:00\",\"2019-09-10T00:00:00\",\"2019-09-11T00:00:00\",\"2019-09-12T00:00:00\",\"2019-09-13T00:00:00\",\"2019-09-16T00:00:00\",\"2019-09-17T00:00:00\",\"2019-09-18T00:00:00\",\"2019-09-19T00:00:00\",\"2019-09-20T00:00:00\",\"2019-09-23T00:00:00\",\"2019-09-24T00:00:00\",\"2019-09-25T00:00:00\",\"2019-09-26T00:00:00\",\"2019-09-27T00:00:00\",\"2019-09-30T00:00:00\",\"2019-10-01T00:00:00\",\"2019-10-02T00:00:00\",\"2019-10-03T00:00:00\",\"2019-10-04T00:00:00\",\"2019-10-07T00:00:00\",\"2019-10-08T00:00:00\",\"2019-10-09T00:00:00\",\"2019-10-10T00:00:00\",\"2019-10-11T00:00:00\",\"2019-10-14T00:00:00\",\"2019-10-15T00:00:00\",\"2019-10-16T00:00:00\",\"2019-10-17T00:00:00\",\"2019-10-18T00:00:00\",\"2019-10-21T00:00:00\",\"2019-10-22T00:00:00\",\"2019-10-23T00:00:00\",\"2019-10-24T00:00:00\",\"2019-10-25T00:00:00\",\"2019-10-28T00:00:00\",\"2019-10-29T00:00:00\",\"2019-10-30T00:00:00\",\"2019-10-31T00:00:00\",\"2019-11-01T00:00:00\",\"2019-11-04T00:00:00\",\"2019-11-05T00:00:00\",\"2019-11-06T00:00:00\",\"2019-11-07T00:00:00\",\"2019-11-08T00:00:00\",\"2019-11-11T00:00:00\",\"2019-11-12T00:00:00\",\"2019-11-13T00:00:00\",\"2019-11-14T00:00:00\",\"2019-11-15T00:00:00\",\"2019-11-18T00:00:00\",\"2019-11-19T00:00:00\",\"2019-11-20T00:00:00\",\"2019-11-21T00:00:00\",\"2019-11-22T00:00:00\",\"2019-11-25T00:00:00\",\"2019-11-26T00:00:00\",\"2019-11-27T00:00:00\",\"2019-11-29T00:00:00\",\"2019-12-02T00:00:00\",\"2019-12-03T00:00:00\",\"2019-12-04T00:00:00\",\"2019-12-05T00:00:00\",\"2019-12-06T00:00:00\",\"2019-12-09T00:00:00\",\"2019-12-10T00:00:00\",\"2019-12-11T00:00:00\",\"2019-12-12T00:00:00\",\"2019-12-13T00:00:00\",\"2019-12-16T00:00:00\",\"2019-12-17T00:00:00\",\"2019-12-18T00:00:00\",\"2019-12-19T00:00:00\",\"2019-12-20T00:00:00\",\"2019-12-23T00:00:00\",\"2019-12-24T00:00:00\",\"2019-12-26T00:00:00\",\"2019-12-27T00:00:00\",\"2019-12-30T00:00:00\",\"2019-12-31T00:00:00\",\"2020-01-02T00:00:00\",\"2020-01-03T00:00:00\",\"2020-01-06T00:00:00\",\"2020-01-07T00:00:00\",\"2020-01-08T00:00:00\",\"2020-01-09T00:00:00\",\"2020-01-10T00:00:00\",\"2020-01-13T00:00:00\",\"2020-01-14T00:00:00\",\"2020-01-15T00:00:00\",\"2020-01-16T00:00:00\",\"2020-01-17T00:00:00\",\"2020-01-21T00:00:00\",\"2020-01-22T00:00:00\",\"2020-01-23T00:00:00\",\"2020-01-24T00:00:00\",\"2020-01-27T00:00:00\",\"2020-01-28T00:00:00\",\"2020-01-29T00:00:00\",\"2020-01-30T00:00:00\",\"2020-01-31T00:00:00\",\"2020-02-03T00:00:00\",\"2020-02-04T00:00:00\",\"2020-02-05T00:00:00\",\"2020-02-06T00:00:00\",\"2020-02-07T00:00:00\",\"2020-02-10T00:00:00\",\"2020-02-11T00:00:00\",\"2020-02-12T00:00:00\",\"2020-02-13T00:00:00\",\"2020-02-14T00:00:00\",\"2020-02-18T00:00:00\",\"2020-02-19T00:00:00\",\"2020-02-20T00:00:00\",\"2020-02-21T00:00:00\",\"2020-02-24T00:00:00\",\"2020-02-25T00:00:00\",\"2020-02-26T00:00:00\",\"2020-02-27T00:00:00\",\"2020-02-28T00:00:00\",\"2020-03-02T00:00:00\",\"2020-03-03T00:00:00\",\"2020-03-04T00:00:00\",\"2020-03-05T00:00:00\",\"2020-03-06T00:00:00\",\"2020-03-09T00:00:00\",\"2020-03-10T00:00:00\",\"2020-03-11T00:00:00\",\"2020-03-12T00:00:00\",\"2020-03-13T00:00:00\",\"2020-03-16T00:00:00\",\"2020-03-17T00:00:00\",\"2020-03-18T00:00:00\",\"2020-03-19T00:00:00\",\"2020-03-20T00:00:00\",\"2020-03-23T00:00:00\",\"2020-03-24T00:00:00\",\"2020-03-25T00:00:00\",\"2020-03-26T00:00:00\",\"2020-03-27T00:00:00\",\"2020-03-30T00:00:00\",\"2020-03-31T00:00:00\",\"2020-04-01T00:00:00\",\"2020-04-02T00:00:00\",\"2020-04-03T00:00:00\",\"2020-04-06T00:00:00\",\"2020-04-07T00:00:00\",\"2020-04-08T00:00:00\",\"2020-04-09T00:00:00\",\"2020-04-13T00:00:00\",\"2020-04-14T00:00:00\",\"2020-04-15T00:00:00\",\"2020-04-16T00:00:00\",\"2020-04-17T00:00:00\",\"2020-04-20T00:00:00\",\"2020-04-21T00:00:00\",\"2020-04-22T00:00:00\",\"2020-04-23T00:00:00\",\"2020-04-24T00:00:00\",\"2020-04-27T00:00:00\",\"2020-04-28T00:00:00\",\"2020-04-29T00:00:00\",\"2020-04-30T00:00:00\",\"2020-05-01T00:00:00\",\"2020-05-04T00:00:00\",\"2020-05-05T00:00:00\",\"2020-05-06T00:00:00\",\"2020-05-07T00:00:00\",\"2020-05-08T00:00:00\",\"2020-05-11T00:00:00\",\"2020-05-12T00:00:00\",\"2020-05-13T00:00:00\",\"2020-05-14T00:00:00\",\"2020-05-15T00:00:00\",\"2020-05-18T00:00:00\",\"2020-05-19T00:00:00\",\"2020-05-20T00:00:00\",\"2020-05-21T00:00:00\",\"2020-05-22T00:00:00\",\"2020-05-26T00:00:00\",\"2020-05-27T00:00:00\",\"2020-05-28T00:00:00\",\"2020-05-29T00:00:00\",\"2020-06-01T00:00:00\",\"2020-06-02T00:00:00\",\"2020-06-03T00:00:00\",\"2020-06-04T00:00:00\",\"2020-06-05T00:00:00\",\"2020-06-08T00:00:00\",\"2020-06-09T00:00:00\",\"2020-06-10T00:00:00\",\"2020-06-11T00:00:00\",\"2020-06-12T00:00:00\",\"2020-06-15T00:00:00\",\"2020-06-16T00:00:00\",\"2020-06-17T00:00:00\",\"2020-06-18T00:00:00\",\"2020-06-19T00:00:00\",\"2020-06-22T00:00:00\",\"2020-06-23T00:00:00\",\"2020-06-24T00:00:00\",\"2020-06-25T00:00:00\",\"2020-06-26T00:00:00\",\"2020-06-29T00:00:00\",\"2020-06-30T00:00:00\",\"2020-07-01T00:00:00\",\"2020-07-02T00:00:00\",\"2020-07-06T00:00:00\",\"2020-07-07T00:00:00\",\"2020-07-08T00:00:00\",\"2020-07-09T00:00:00\",\"2020-07-10T00:00:00\",\"2020-07-13T00:00:00\",\"2020-07-14T00:00:00\",\"2020-07-15T00:00:00\",\"2020-07-16T00:00:00\",\"2020-07-17T00:00:00\",\"2020-07-20T00:00:00\",\"2020-07-21T00:00:00\",\"2020-07-22T00:00:00\",\"2020-07-23T00:00:00\",\"2020-07-24T00:00:00\",\"2020-07-27T00:00:00\",\"2020-07-28T00:00:00\",\"2020-07-29T00:00:00\",\"2020-07-30T00:00:00\",\"2020-07-31T00:00:00\",\"2020-08-03T00:00:00\",\"2020-08-04T00:00:00\",\"2020-08-05T00:00:00\",\"2020-08-06T00:00:00\",\"2020-08-07T00:00:00\",\"2020-08-10T00:00:00\",\"2020-08-11T00:00:00\",\"2020-08-12T00:00:00\",\"2020-08-13T00:00:00\",\"2020-08-14T00:00:00\",\"2020-08-17T00:00:00\",\"2020-08-18T00:00:00\",\"2020-08-19T00:00:00\",\"2020-08-20T00:00:00\",\"2020-08-21T00:00:00\",\"2020-08-24T00:00:00\",\"2020-08-25T00:00:00\",\"2020-08-26T00:00:00\",\"2020-08-27T00:00:00\",\"2020-08-28T00:00:00\",\"2020-08-31T00:00:00\",\"2020-09-01T00:00:00\",\"2020-09-02T00:00:00\",\"2020-09-03T00:00:00\",\"2020-09-04T00:00:00\",\"2020-09-08T00:00:00\",\"2020-09-09T00:00:00\",\"2020-09-10T00:00:00\",\"2020-09-11T00:00:00\",\"2020-09-14T00:00:00\",\"2020-09-15T00:00:00\",\"2020-09-16T00:00:00\",\"2020-09-17T00:00:00\",\"2020-09-18T00:00:00\",\"2020-09-21T00:00:00\",\"2020-09-22T00:00:00\",\"2020-09-23T00:00:00\",\"2020-09-24T00:00:00\",\"2020-09-25T00:00:00\",\"2020-09-28T00:00:00\",\"2020-09-29T00:00:00\",\"2020-09-30T00:00:00\",\"2020-10-01T00:00:00\",\"2020-10-02T00:00:00\",\"2020-10-05T00:00:00\",\"2020-10-06T00:00:00\",\"2020-10-07T00:00:00\",\"2020-10-08T00:00:00\",\"2020-10-09T00:00:00\",\"2020-10-12T00:00:00\",\"2020-10-13T00:00:00\",\"2020-10-14T00:00:00\",\"2020-10-15T00:00:00\",\"2020-10-16T00:00:00\",\"2020-10-19T00:00:00\",\"2020-10-20T00:00:00\",\"2020-10-21T00:00:00\",\"2020-10-22T00:00:00\",\"2020-10-23T00:00:00\",\"2020-10-26T00:00:00\",\"2020-10-27T00:00:00\",\"2020-10-28T00:00:00\",\"2020-10-29T00:00:00\",\"2020-10-30T00:00:00\",\"2020-11-02T00:00:00\",\"2020-11-03T00:00:00\",\"2020-11-04T00:00:00\",\"2020-11-05T00:00:00\",\"2020-11-06T00:00:00\",\"2020-11-09T00:00:00\",\"2020-11-10T00:00:00\",\"2020-11-11T00:00:00\",\"2020-11-12T00:00:00\",\"2020-11-13T00:00:00\",\"2020-11-16T00:00:00\",\"2020-11-17T00:00:00\",\"2020-11-18T00:00:00\",\"2020-11-19T00:00:00\",\"2020-11-20T00:00:00\",\"2020-11-23T00:00:00\",\"2020-11-24T00:00:00\",\"2020-11-25T00:00:00\",\"2020-11-27T00:00:00\",\"2020-11-30T00:00:00\",\"2020-12-01T00:00:00\",\"2020-12-02T00:00:00\",\"2020-12-03T00:00:00\",\"2020-12-04T00:00:00\",\"2020-12-07T00:00:00\",\"2020-12-08T00:00:00\",\"2020-12-09T00:00:00\",\"2020-12-10T00:00:00\",\"2020-12-11T00:00:00\",\"2020-12-14T00:00:00\",\"2020-12-15T00:00:00\",\"2020-12-16T00:00:00\",\"2020-12-17T00:00:00\",\"2020-12-18T00:00:00\",\"2020-12-21T00:00:00\",\"2020-12-22T00:00:00\",\"2020-12-23T00:00:00\",\"2020-12-24T00:00:00\",\"2020-12-28T00:00:00\",\"2020-12-29T00:00:00\",\"2020-12-30T00:00:00\",\"2020-12-31T00:00:00\",\"2021-01-04T00:00:00\",\"2021-01-05T00:00:00\",\"2021-01-06T00:00:00\",\"2021-01-07T00:00:00\",\"2021-01-08T00:00:00\",\"2021-01-11T00:00:00\",\"2021-01-12T00:00:00\",\"2021-01-13T00:00:00\",\"2021-01-14T00:00:00\",\"2021-01-15T00:00:00\",\"2021-01-19T00:00:00\",\"2021-01-20T00:00:00\",\"2021-01-21T00:00:00\",\"2021-01-22T00:00:00\",\"2021-01-25T00:00:00\",\"2021-01-26T00:00:00\",\"2021-01-27T00:00:00\",\"2021-01-28T00:00:00\",\"2021-01-29T00:00:00\",\"2021-02-01T00:00:00\",\"2021-02-02T00:00:00\",\"2021-02-03T00:00:00\",\"2021-02-04T00:00:00\",\"2021-02-05T00:00:00\",\"2021-02-08T00:00:00\",\"2021-02-09T00:00:00\",\"2021-02-10T00:00:00\",\"2021-02-11T00:00:00\",\"2021-02-12T00:00:00\",\"2021-02-16T00:00:00\",\"2021-02-17T00:00:00\",\"2021-02-18T00:00:00\",\"2021-02-19T00:00:00\",\"2021-02-22T00:00:00\",\"2021-02-23T00:00:00\",\"2021-02-24T00:00:00\",\"2021-02-25T00:00:00\",\"2021-02-26T00:00:00\",\"2021-03-01T00:00:00\",\"2021-03-02T00:00:00\",\"2021-03-03T00:00:00\",\"2021-03-04T00:00:00\",\"2021-03-05T00:00:00\",\"2021-03-08T00:00:00\",\"2021-03-09T00:00:00\",\"2021-03-10T00:00:00\",\"2021-03-11T00:00:00\",\"2021-03-12T00:00:00\",\"2021-03-15T00:00:00\",\"2021-03-16T00:00:00\",\"2021-03-17T00:00:00\",\"2021-03-18T00:00:00\",\"2021-03-19T00:00:00\",\"2021-03-22T00:00:00\",\"2021-03-23T00:00:00\",\"2021-03-24T00:00:00\",\"2021-03-25T00:00:00\",\"2021-03-26T00:00:00\",\"2021-03-29T00:00:00\",\"2021-03-30T00:00:00\",\"2021-03-31T00:00:00\",\"2021-04-01T00:00:00\",\"2021-04-05T00:00:00\",\"2021-04-06T00:00:00\",\"2021-04-07T00:00:00\",\"2021-04-08T00:00:00\",\"2021-04-09T00:00:00\",\"2021-04-12T00:00:00\",\"2021-04-13T00:00:00\",\"2021-04-14T00:00:00\",\"2021-04-15T00:00:00\",\"2021-04-16T00:00:00\",\"2021-04-19T00:00:00\",\"2021-04-20T00:00:00\",\"2021-04-21T00:00:00\",\"2021-04-22T00:00:00\",\"2021-04-23T00:00:00\",\"2021-04-26T00:00:00\",\"2021-04-27T00:00:00\",\"2021-04-28T00:00:00\",\"2021-04-29T00:00:00\",\"2021-04-30T00:00:00\",\"2021-05-03T00:00:00\",\"2021-05-04T00:00:00\",\"2021-05-05T00:00:00\",\"2021-05-06T00:00:00\",\"2021-05-07T00:00:00\",\"2021-05-10T00:00:00\",\"2021-05-11T00:00:00\",\"2021-05-12T00:00:00\",\"2021-05-13T00:00:00\",\"2021-05-14T00:00:00\",\"2021-05-17T00:00:00\",\"2021-05-18T00:00:00\",\"2021-05-19T00:00:00\",\"2021-05-20T00:00:00\",\"2021-05-21T00:00:00\",\"2021-05-24T00:00:00\",\"2021-05-25T00:00:00\",\"2021-05-26T00:00:00\",\"2021-05-27T00:00:00\",\"2021-05-28T00:00:00\",\"2021-06-01T00:00:00\",\"2021-06-02T00:00:00\",\"2021-06-03T00:00:00\",\"2021-06-04T00:00:00\",\"2021-06-07T00:00:00\",\"2021-06-08T00:00:00\",\"2021-06-09T00:00:00\",\"2021-06-10T00:00:00\",\"2021-06-11T00:00:00\"],\"xaxis\":\"x\",\"y\":[38.72249984741211,35.994998931884766,36.13249969482422,37.17499923706055,37.38999938964844,37.8224983215332,38.125,38.220001220703125,37.712501525878906,37.567501068115234,38.27000045776367,38.54999923706055,39.375,39.102500915527344,38.537498474121094,38.52750015258789,38.869998931884766,38.9474983215332,39.0625,40.8125,41.52750015258789,41.7400016784668,41.852500915527344,43.21500015258789,43.662498474121094,43.099998474121094,42.247501373291016,42.76250076293945,42.525001525878906,42.84749984741211,42.4275016784668,42.8125,42.4275016784668,42.79750061035156,42.95000076293945,42.89500045776367,43.540000915527344,43.4275016784668,43.3025016784668,43.58000183105469,43.56999969482422,43.92250061035156,43.98500061035156,43.66749954223633,43.467498779296875,42.58000183105469,43.872501373291016,45.0,45.5625,45.974998474121094,46.212501525878906,46.45000076293945,47.087501525878906,46.557498931884766,47.505001068115234,48.834999084472656,47.877498626708984,47.915000915527344,47.1875,47.23749923706055,47.45750045776367,47.90999984741211,47.772499084472656,48.3125,48.6974983215332,49.11249923706055,49.10499954223633,50.08000183105469,49.66999816894531,50.212501525878906,49.79999923706055,49.64500045776367,49.8650016784668,49.8849983215332,50.779998779296875,50.70750045776367,51.10749816894531,51.84000015258789,51.70750045776367,51.224998474121094,51.099998474121094,50.76499938964844,52.470001220703125,52.459999084472656,52.72249984741211,51.0724983215332,51.470001220703125,50.474998474121094,50.099998474121094,49.35499954223633,46.9275016784668,46.602500915527344,46.567501068115234,47.477500915527344,46.73249816894531,45.880001068115234,46.30500030517578,46.165000915527344,44.95000076293945,45.04999923706055,44.72999954223633,44.10499954223633,44.48749923706055,44.057498931884766,43.900001525878906,43.86000061035156,46.06999969482422,45.77000045776367,46.627498626708984,47.95249938964844,48.71500015258789,48.48749923706055,48.67499923706055,47.88750076293945,48.224998474121094,49.01250076293945,49.91999816894531,50.092498779296875,49.70000076293945,49.6349983215332,49.60749816894531,49.442501068115234,50.0724983215332,49.66999816894531,50.79249954223633,50.352500915527344,50.81999969482422,50.837501525878906,50.20249938964844,49.79999923706055,50.462501525878906,50.82749938964844,50.61249923706055,51.022499084472656,51.147499084472656,51.01250076293945,51.0,51.4474983215332,50.912498474121094,52.1150016784668,51.91749954223633,52.22249984741211,51.869998931884766,52.1150016784668,52.189998626708984,54.10499954223633,53.474998474121094,51.38249969482422,49.497501373291016,49.07749938964844,48.852500915527344,50.04999923706055,50.32500076293945,49.904998779296875,50.255001068115234,50.790000915527344,50.8650016784668,51.06999969482422,52.654998779296875,52.720001220703125,53.247501373291016,53.29750061035156,52.35749816894531,51.46500015258789,51.96500015258789,51.025001525878906,52.125,52.540000915527344,51.60749816894531,52.09749984741211,53.0,53.51250076293945,53.709999084472656,53.46500015258789,54.51750183105469,56.20000076293945,55.0,54.432498931884766,54.9900016784668,55.26499938964844,55.502498626708984,55.345001220703125,54.73749923706055,55.25749969482422,54.63750076293945,55.0,55.1349983215332,55.224998474121094,56.26750183105469,55.76499938964844,54.60749816894531,56.40999984741211,56.567501068115234,56.45500183105469,56.75749969482422,56.98249816894531,58.23749923706055,58.724998474121094,59.09749984741211,58.342498779296875,58.772499084472656,58.647499084472656,59.380001068115234,60.290000915527344,60.525001525878906,61.127498626708984,60.790000915527344,61.85499954223633,62.24250030517578,61.189998626708984,61.810001373291016,62.3849983215332,64.3324966430664,64.26249694824219,64.19249725341797,64.68499755859375,64.67250061035156,64.57499694824219,65.38749694824219,65.28250122070312,65.9375,65.91999816894531,66.44999694824219,66.9749984741211,66.38500213623047,65.92250061035156,65.64749908447266,65.67749786376953,66.73500061035156,66.3949966430664,66.6500015258789,66.81749725341797,64.57749938964844,65.26750183105469,65.94750213623047,66.87000274658203,67.5,67.1500015258789,67.20249938964844,66.94499969482422,67.86499786376953,69.25,69.89250183105469,69.94999694824219,69.875,70.55750274658203,70.13249969482422,71.17250061035156,71.20500183105469,72.77999877929688,72.36499786376953,72.48249816894531,74.05999755859375,74.2874984741211,73.44750213623047,74.95999908447266,74.29000091552734,76.80999755859375,77.6500015258789,77.91000366210938,79.17500305175781,77.9625015258789,78.39749908447266,79.06749725341797,79.29750061035156,79.6449966430664,79.4800033569336,80.0625,77.51499938964844,78.1500015258789,81.11250305175781,80.13500213623047,80.23249816894531,76.07499694824219,78.82749938964844,80.87999725341797,80.64250183105469,80.59249877929688,78.54499816894531,80.9000015258789,80.36750030517578,81.04750061035156,81.18499755859375,78.83999633789062,80.0,80.65750122070312,79.65499877929688,74.31500244140625,75.23750305175781,71.63249969482422,70.2750015258789,64.31500244140625,70.56999969482422,75.9175033569336,74.11000061035156,73.87999725341797,70.5,65.9375,69.28500366210938,69.34750366210938,63.98500061035156,66.22250366210938,60.48749923706055,61.877498626708984,59.942501068115234,61.84749984741211,61.79499816894531,57.02000045776367,59.09000015258789,62.6875,61.630001068115234,63.1875,62.685001373291016,63.900001525878906,61.625,60.084999084472656,60.70000076293945,62.724998474121094,67.69999694824219,65.68499755859375,67.17500305175781,67.07749938964844,70.0,70.5999984741211,71.84500122070312,71.17250061035156,69.48750305175781,69.06999969482422,68.40249633789062,68.96749877929688,69.30000305175781,70.44999694824219,71.2699966430664,71.18250274658203,72.48999786376953,71.5625,72.2925033569336,73.76499938964844,75.11499786376953,75.80500030517578,76.41000366210938,77.0250015258789,79.4574966430664,78.0374984741211,76.12750244140625,75.0875015258789,78.2925033569336,78.75749969482422,79.16999816894531,79.66500091552734,78.94249725341797,80.875,79.03500366210938,79.19249725341797,79.8125,79.4375,80.1875,81.16500091552734,81.09750366210938,80.8375015258789,82.5625,83.03500366210938,86.9749984741211,87.32749938964844,86.18000030517578,83.3125,87.86499786376953,88.7874984741211,87.85250091552734,88.66000366210938,87.83499908447266,91.0,91.25,90.17500305175781,91.10250091552734,88.3125,90.0199966430664,91.27999877929688,91.9625015258789,92.5,93.85250091552734,94.18000030517578,96.26249694824219,95.33499908447266,97.26499938964844,94.83999633789062,98.98999786376953,96.5625,96.98750305175781,96.4175033569336,99.17250061035156,96.69249725341797,96.99749755859375,90.98750305175781,93.70999908447266,94.36750030517578,93.75,94.1875,102.88500213623047,108.19999694824219,109.13249969482422,109.37750244140625,110.40499877929688,113.20500183105469,112.5999984741211,111.97000122070312,110.49749755859375,114.43000030517578,114.83000183105469,116.0625,114.35250091552734,115.98249816894531,115.75,119.26249694824219,128.69749450683594,124.69750213623047,126.18000030517578,127.14250183105469,126.01249694824219,127.58000183105469,132.75999450683594,137.58999633789062,126.91000366210938,120.06999969482422,113.94999694824219,117.26000213623047,120.36000061035156,114.56999969482422,114.72000122070312,118.33000183105469,115.2300033569336,109.72000122070312,110.4000015258789,104.54000091552734,112.68000030517578,111.62000274658203,105.16999816894531,108.43000030517578,115.01000213623047,114.55000305175781,113.79000091552734,117.63999938964844,112.88999938964844,113.91000366210938,115.69999694824219,114.62000274658203,116.25,115.27999877929688,120.05999755859375,125.2699966430664,121.0,118.72000122070312,121.27999877929688,119.95999908447266,116.19999694824219,116.66999816894531,117.44999694824219,116.38999938964844,114.01000213623047,115.48999786376953,115.05000305175781,112.37000274658203,111.05999755859375,109.11000061035156,109.66000366210938,114.13999938964844,117.94999694824219,118.31999969482422,120.5,115.55000305175781,117.19000244140625,119.62000274658203,119.44000244140625,118.91999816894531,119.55000305175781,118.61000061035156,117.58999633789062,118.63999938964844,117.18000030517578,113.91000366210938,115.55000305175781,116.56999969482422,116.97000122070312,121.01000213623047,122.0199966430664,123.5199966430664,122.5999984741211,122.30999755859375,124.37000274658203,124.52999877929688,120.5,122.43000030517578,122.5999984741211,124.33999633789062,127.41000366210938,128.89999389648438,128.9600067138672,125.0199966430664,131.61000061035156,132.16000366210938,131.32000732421875,133.99000549316406,138.0500030517578,135.5800018310547,134.0800018310547,133.52000427246094,128.88999938964844,127.72000122070312,128.36000061035156,132.42999267578125,129.19000244140625,128.5,128.75999450683594,130.8000030517578,128.77999877929688,127.77999877929688,128.66000366210938,133.8000030517578,136.27999877929688,143.07000732421875,143.60000610351562,143.42999267578125,139.52000427246094,135.8300018310547,133.75,135.72999572753906,135.75999450683594,136.3000030517578,137.35000610351562,136.02999877929688,136.6199951171875,136.47999572753906,135.89999389648438,134.35000610351562,135.49000549316406,131.25,129.1999969482422,130.24000549316406,128.00999450683594,123.76000213623047,124.94000244140625,124.68000030517578,122.58999633789062,123.75,128.41000366210938,124.80999755859375,121.75,120.9800033569336,120.93000030517578,119.02999877929688,121.69000244140625,122.54000091552734,120.4000015258789,121.41000366210938,125.69999694824219,124.05000305175781,122.87999725341797,119.9000015258789,120.33000183105469,123.33000183105469,122.81999969482422,119.54000091552734,120.3499984741211,121.6500015258789,120.11000061035156,121.6500015258789,123.66000366210938,123.87000274658203,126.5,125.83000183105469,128.9499969482422,129.8000030517578,132.52000427246094,132.44000244140625,134.94000244140625,133.82000732421875,134.3000030517578,133.50999450683594,135.02000427246094,132.36000061035156,133.0399932861328,132.16000366210938,134.8300018310547,135.00999450683594,134.30999755859375,136.47000122070312,131.77999877929688,132.0399932861328,131.19000244140625,129.1999969482422,127.88999938964844,130.85000610351562,129.41000366210938,123.5,123.4000015258789,124.58000183105469,126.25,126.81999969482422,126.55999755859375,123.16000366210938,125.2300033569336,127.81999969482422,126.01000213623047,127.81999969482422,126.95999908447266,126.44000244140625,125.56999969482422,125.08000183105469,124.27999877929688,124.68000030517578,124.06999969482422,126.16999816894531,126.5999984741211,127.20999908447266,127.0199966430664,126.52999877929688],\"yaxis\":\"y\",\"type\":\"scatter\"}],                        {\"template\":{\"data\":{\"bar\":[{\"error_x\":{\"color\":\"#2a3f5f\"},\"error_y\":{\"color\":\"#2a3f5f\"},\"marker\":{\"line\":{\"color\":\"#E5ECF6\",\"width\":0.5},\"pattern\":{\"fillmode\":\"overlay\",\"size\":10,\"solidity\":0.2}},\"type\":\"bar\"}],\"barpolar\":[{\"marker\":{\"line\":{\"color\":\"#E5ECF6\",\"width\":0.5},\"pattern\":{\"fillmode\":\"overlay\",\"size\":10,\"solidity\":0.2}},\"type\":\"barpolar\"}],\"carpet\":[{\"aaxis\":{\"endlinecolor\":\"#2a3f5f\",\"gridcolor\":\"white\",\"linecolor\":\"white\",\"minorgridcolor\":\"white\",\"startlinecolor\":\"#2a3f5f\"},\"baxis\":{\"endlinecolor\":\"#2a3f5f\",\"gridcolor\":\"white\",\"linecolor\":\"white\",\"minorgridcolor\":\"white\",\"startlinecolor\":\"#2a3f5f\"},\"type\":\"carpet\"}],\"choropleth\":[{\"colorbar\":{\"outlinewidth\":0,\"ticks\":\"\"},\"type\":\"choropleth\"}],\"contour\":[{\"colorbar\":{\"outlinewidth\":0,\"ticks\":\"\"},\"colorscale\":[[0.0,\"#0d0887\"],[0.1111111111111111,\"#46039f\"],[0.2222222222222222,\"#7201a8\"],[0.3333333333333333,\"#9c179e\"],[0.4444444444444444,\"#bd3786\"],[0.5555555555555556,\"#d8576b\"],[0.6666666666666666,\"#ed7953\"],[0.7777777777777778,\"#fb9f3a\"],[0.8888888888888888,\"#fdca26\"],[1.0,\"#f0f921\"]],\"type\":\"contour\"}],\"contourcarpet\":[{\"colorbar\":{\"outlinewidth\":0,\"ticks\":\"\"},\"type\":\"contourcarpet\"}],\"heatmap\":[{\"colorbar\":{\"outlinewidth\":0,\"ticks\":\"\"},\"colorscale\":[[0.0,\"#0d0887\"],[0.1111111111111111,\"#46039f\"],[0.2222222222222222,\"#7201a8\"],[0.3333333333333333,\"#9c179e\"],[0.4444444444444444,\"#bd3786\"],[0.5555555555555556,\"#d8576b\"],[0.6666666666666666,\"#ed7953\"],[0.7777777777777778,\"#fb9f3a\"],[0.8888888888888888,\"#fdca26\"],[1.0,\"#f0f921\"]],\"type\":\"heatmap\"}],\"heatmapgl\":[{\"colorbar\":{\"outlinewidth\":0,\"ticks\":\"\"},\"colorscale\":[[0.0,\"#0d0887\"],[0.1111111111111111,\"#46039f\"],[0.2222222222222222,\"#7201a8\"],[0.3333333333333333,\"#9c179e\"],[0.4444444444444444,\"#bd3786\"],[0.5555555555555556,\"#d8576b\"],[0.6666666666666666,\"#ed7953\"],[0.7777777777777778,\"#fb9f3a\"],[0.8888888888888888,\"#fdca26\"],[1.0,\"#f0f921\"]],\"type\":\"heatmapgl\"}],\"histogram\":[{\"marker\":{\"pattern\":{\"fillmode\":\"overlay\",\"size\":10,\"solidity\":0.2}},\"type\":\"histogram\"}],\"histogram2d\":[{\"colorbar\":{\"outlinewidth\":0,\"ticks\":\"\"},\"colorscale\":[[0.0,\"#0d0887\"],[0.1111111111111111,\"#46039f\"],[0.2222222222222222,\"#7201a8\"],[0.3333333333333333,\"#9c179e\"],[0.4444444444444444,\"#bd3786\"],[0.5555555555555556,\"#d8576b\"],[0.6666666666666666,\"#ed7953\"],[0.7777777777777778,\"#fb9f3a\"],[0.8888888888888888,\"#fdca26\"],[1.0,\"#f0f921\"]],\"type\":\"histogram2d\"}],\"histogram2dcontour\":[{\"colorbar\":{\"outlinewidth\":0,\"ticks\":\"\"},\"colorscale\":[[0.0,\"#0d0887\"],[0.1111111111111111,\"#46039f\"],[0.2222222222222222,\"#7201a8\"],[0.3333333333333333,\"#9c179e\"],[0.4444444444444444,\"#bd3786\"],[0.5555555555555556,\"#d8576b\"],[0.6666666666666666,\"#ed7953\"],[0.7777777777777778,\"#fb9f3a\"],[0.8888888888888888,\"#fdca26\"],[1.0,\"#f0f921\"]],\"type\":\"histogram2dcontour\"}],\"mesh3d\":[{\"colorbar\":{\"outlinewidth\":0,\"ticks\":\"\"},\"type\":\"mesh3d\"}],\"parcoords\":[{\"line\":{\"colorbar\":{\"outlinewidth\":0,\"ticks\":\"\"}},\"type\":\"parcoords\"}],\"pie\":[{\"automargin\":true,\"type\":\"pie\"}],\"scatter\":[{\"marker\":{\"colorbar\":{\"outlinewidth\":0,\"ticks\":\"\"}},\"type\":\"scatter\"}],\"scatter3d\":[{\"line\":{\"colorbar\":{\"outlinewidth\":0,\"ticks\":\"\"}},\"marker\":{\"colorbar\":{\"outlinewidth\":0,\"ticks\":\"\"}},\"type\":\"scatter3d\"}],\"scattercarpet\":[{\"marker\":{\"colorbar\":{\"outlinewidth\":0,\"ticks\":\"\"}},\"type\":\"scattercarpet\"}],\"scattergeo\":[{\"marker\":{\"colorbar\":{\"outlinewidth\":0,\"ticks\":\"\"}},\"type\":\"scattergeo\"}],\"scattergl\":[{\"marker\":{\"colorbar\":{\"outlinewidth\":0,\"ticks\":\"\"}},\"type\":\"scattergl\"}],\"scattermapbox\":[{\"marker\":{\"colorbar\":{\"outlinewidth\":0,\"ticks\":\"\"}},\"type\":\"scattermapbox\"}],\"scatterpolar\":[{\"marker\":{\"colorbar\":{\"outlinewidth\":0,\"ticks\":\"\"}},\"type\":\"scatterpolar\"}],\"scatterpolargl\":[{\"marker\":{\"colorbar\":{\"outlinewidth\":0,\"ticks\":\"\"}},\"type\":\"scatterpolargl\"}],\"scatterternary\":[{\"marker\":{\"colorbar\":{\"outlinewidth\":0,\"ticks\":\"\"}},\"type\":\"scatterternary\"}],\"surface\":[{\"colorbar\":{\"outlinewidth\":0,\"ticks\":\"\"},\"colorscale\":[[0.0,\"#0d0887\"],[0.1111111111111111,\"#46039f\"],[0.2222222222222222,\"#7201a8\"],[0.3333333333333333,\"#9c179e\"],[0.4444444444444444,\"#bd3786\"],[0.5555555555555556,\"#d8576b\"],[0.6666666666666666,\"#ed7953\"],[0.7777777777777778,\"#fb9f3a\"],[0.8888888888888888,\"#fdca26\"],[1.0,\"#f0f921\"]],\"type\":\"surface\"}],\"table\":[{\"cells\":{\"fill\":{\"color\":\"#EBF0F8\"},\"line\":{\"color\":\"white\"}},\"header\":{\"fill\":{\"color\":\"#C8D4E3\"},\"line\":{\"color\":\"white\"}},\"type\":\"table\"}]},\"layout\":{\"annotationdefaults\":{\"arrowcolor\":\"#2a3f5f\",\"arrowhead\":0,\"arrowwidth\":1},\"autotypenumbers\":\"strict\",\"coloraxis\":{\"colorbar\":{\"outlinewidth\":0,\"ticks\":\"\"}},\"colorscale\":{\"diverging\":[[0,\"#8e0152\"],[0.1,\"#c51b7d\"],[0.2,\"#de77ae\"],[0.3,\"#f1b6da\"],[0.4,\"#fde0ef\"],[0.5,\"#f7f7f7\"],[0.6,\"#e6f5d0\"],[0.7,\"#b8e186\"],[0.8,\"#7fbc41\"],[0.9,\"#4d9221\"],[1,\"#276419\"]],\"sequential\":[[0.0,\"#0d0887\"],[0.1111111111111111,\"#46039f\"],[0.2222222222222222,\"#7201a8\"],[0.3333333333333333,\"#9c179e\"],[0.4444444444444444,\"#bd3786\"],[0.5555555555555556,\"#d8576b\"],[0.6666666666666666,\"#ed7953\"],[0.7777777777777778,\"#fb9f3a\"],[0.8888888888888888,\"#fdca26\"],[1.0,\"#f0f921\"]],\"sequentialminus\":[[0.0,\"#0d0887\"],[0.1111111111111111,\"#46039f\"],[0.2222222222222222,\"#7201a8\"],[0.3333333333333333,\"#9c179e\"],[0.4444444444444444,\"#bd3786\"],[0.5555555555555556,\"#d8576b\"],[0.6666666666666666,\"#ed7953\"],[0.7777777777777778,\"#fb9f3a\"],[0.8888888888888888,\"#fdca26\"],[1.0,\"#f0f921\"]]},\"colorway\":[\"#636efa\",\"#EF553B\",\"#00cc96\",\"#ab63fa\",\"#FFA15A\",\"#19d3f3\",\"#FF6692\",\"#B6E880\",\"#FF97FF\",\"#FECB52\"],\"font\":{\"color\":\"#2a3f5f\"},\"geo\":{\"bgcolor\":\"white\",\"lakecolor\":\"white\",\"landcolor\":\"#E5ECF6\",\"showlakes\":true,\"showland\":true,\"subunitcolor\":\"white\"},\"hoverlabel\":{\"align\":\"left\"},\"hovermode\":\"closest\",\"mapbox\":{\"style\":\"light\"},\"paper_bgcolor\":\"white\",\"plot_bgcolor\":\"#E5ECF6\",\"polar\":{\"angularaxis\":{\"gridcolor\":\"white\",\"linecolor\":\"white\",\"ticks\":\"\"},\"bgcolor\":\"#E5ECF6\",\"radialaxis\":{\"gridcolor\":\"white\",\"linecolor\":\"white\",\"ticks\":\"\"}},\"scene\":{\"xaxis\":{\"backgroundcolor\":\"#E5ECF6\",\"gridcolor\":\"white\",\"gridwidth\":2,\"linecolor\":\"white\",\"showbackground\":true,\"ticks\":\"\",\"zerolinecolor\":\"white\"},\"yaxis\":{\"backgroundcolor\":\"#E5ECF6\",\"gridcolor\":\"white\",\"gridwidth\":2,\"linecolor\":\"white\",\"showbackground\":true,\"ticks\":\"\",\"zerolinecolor\":\"white\"},\"zaxis\":{\"backgroundcolor\":\"#E5ECF6\",\"gridcolor\":\"white\",\"gridwidth\":2,\"linecolor\":\"white\",\"showbackground\":true,\"ticks\":\"\",\"zerolinecolor\":\"white\"}},\"shapedefaults\":{\"line\":{\"color\":\"#2a3f5f\"}},\"ternary\":{\"aaxis\":{\"gridcolor\":\"white\",\"linecolor\":\"white\",\"ticks\":\"\"},\"baxis\":{\"gridcolor\":\"white\",\"linecolor\":\"white\",\"ticks\":\"\"},\"bgcolor\":\"#E5ECF6\",\"caxis\":{\"gridcolor\":\"white\",\"linecolor\":\"white\",\"ticks\":\"\"}},\"title\":{\"x\":0.05},\"xaxis\":{\"automargin\":true,\"gridcolor\":\"white\",\"linecolor\":\"white\",\"ticks\":\"\",\"title\":{\"standoff\":15},\"zerolinecolor\":\"white\",\"zerolinewidth\":2},\"yaxis\":{\"automargin\":true,\"gridcolor\":\"white\",\"linecolor\":\"white\",\"ticks\":\"\",\"title\":{\"standoff\":15},\"zerolinecolor\":\"white\",\"zerolinewidth\":2}}},\"xaxis\":{\"anchor\":\"y\",\"domain\":[0.0,1.0],\"title\":{\"text\":\"Date\"}},\"yaxis\":{\"anchor\":\"x\",\"domain\":[0.0,1.0],\"title\":{\"text\":\"Open\"}},\"legend\":{\"tracegroupgap\":0},\"title\":{\"text\":\"Stock prices\"}},                        {\"responsive\": true}                    ).then(function(){\n",
              "                            \n",
              "var gd = document.getElementById('82c3b03d-60d0-4918-a427-107ebeda3d8f');\n",
              "var x = new MutationObserver(function (mutations, observer) {{\n",
              "        var display = window.getComputedStyle(gd).display;\n",
              "        if (!display || display === 'none') {{\n",
              "            console.log([gd, 'removed!']);\n",
              "            Plotly.purge(gd);\n",
              "            observer.disconnect();\n",
              "        }}\n",
              "}});\n",
              "\n",
              "// Listen for the removal of the full notebook cells\n",
              "var notebookContainer = gd.closest('#notebook-container');\n",
              "if (notebookContainer) {{\n",
              "    x.observe(notebookContainer, {childList: true});\n",
              "}}\n",
              "\n",
              "// Listen for the clearing of the current output cell\n",
              "var outputEl = gd.closest('.output');\n",
              "if (outputEl) {{\n",
              "    x.observe(outputEl, {childList: true});\n",
              "}}\n",
              "\n",
              "                        })                };                            </script>        </div>\n",
              "</body>\n",
              "</html>"
            ]
          },
          "metadata": {},
          "output_type": "display_data"
        }
      ],
      "source": [
        "import plotly.express as px\n",
        "f = px.line(stock,x='Date',y='Open',title='Stock prices')\n",
        "f.show()"
      ]
    },
    {
      "cell_type": "markdown",
      "metadata": {
        "id": "8gsKb0pEhjCp"
      },
      "source": [
        "Line chart used for fundamental and technical analysis decide strategies\n",
        "plot graph for date vs open"
      ]
    },
    {
      "cell_type": "markdown",
      "metadata": {
        "id": "PJWyamBcicDx"
      },
      "source": [
        "**OHLC chart**"
      ]
    },
    {
      "cell_type": "code",
      "execution_count": null,
      "metadata": {
        "id": "lj0QYIWLffbd"
      },
      "outputs": [],
      "source": [
        "#similar to candlestick chart are import as they on the closing price"
      ]
    },
    {
      "cell_type": "code",
      "execution_count": null,
      "metadata": {
        "colab": {
          "base_uri": "https://localhost:8080/",
          "height": 559
        },
        "id": "jBd4U6C6iufd",
        "outputId": "83c7804c-4629-4969-95a9-8a620d28bd0e"
      },
      "outputs": [
        {
          "data": {
            "text/html": [
              "<html>\n",
              "<head><meta charset=\"utf-8\" /></head>\n",
              "<body>\n",
              "    <div>            <script src=\"https://cdnjs.cloudflare.com/ajax/libs/mathjax/2.7.5/MathJax.js?config=TeX-AMS-MML_SVG\"></script><script type=\"text/javascript\">if (window.MathJax) {MathJax.Hub.Config({SVG: {font: \"STIX-Web\"}});}</script>                <script type=\"text/javascript\">window.PlotlyConfig = {MathJaxConfig: 'local'};</script>\n",
              "        <script src=\"https://cdn.plot.ly/plotly-2.8.3.min.js\"></script>                <div id=\"30dabbcc-6057-44c2-a5bc-0ad3ecbf1af5\" class=\"plotly-graph-div\" style=\"height:525px; width:100%;\"></div>            <script type=\"text/javascript\">                                    window.PLOTLYENV=window.PLOTLYENV || {};                                    if (document.getElementById(\"30dabbcc-6057-44c2-a5bc-0ad3ecbf1af5\")) {                    Plotly.newPlot(                        \"30dabbcc-6057-44c2-a5bc-0ad3ecbf1af5\",                        [{\"close\":[39.47999954223633,35.54750061035156,37.064998626708984,36.98249816894531,37.6875,38.32749938964844,38.45000076293945,38.0724983215332,37.5,38.26750183105469,38.73500061035156,38.96500015258789,39.20500183105469,38.32500076293945,38.47999954223633,38.17499923706055,39.439998626708984,39.07500076293945,38.66999816894531,41.3125,41.61000061035156,41.630001068115234,42.8125,43.54499816894531,43.560001373291016,42.73500061035156,42.602500915527344,42.35749816894531,42.72249984741211,42.54499816894531,42.70000076293945,42.60499954223633,42.73249816894531,43.00749969482422,42.76499938964844,43.24250030517578,43.557498931884766,43.58250045776367,43.717498779296875,43.287498474121094,43.74250030517578,43.962501525878906,43.88249969482422,43.630001068115234,43.125,43.227500915527344,44.724998474121094,45.227500915527344,45.4275016784668,45.932498931884766,46.529998779296875,47.005001068115234,46.63249969482422,47.040000915527344,48.772499084472656,47.76250076293945,47.185001373291016,46.6974983215332,47.11750030517578,47.18000030517578,47.48749923706055,47.810001373291016,48.505001068115234,48.837501525878906,48.92250061035156,49.25,50.025001525878906,49.875,50.154998779296875,49.73749923706055,49.717498779296875,49.807498931884766,49.8125,50.782501220703125,50.96500015258789,51.13249969482422,51.869998931884766,51.790000915527344,51.31999969482422,51.07500076293945,51.15250015258789,50.16749954223633,52.630001068115234,52.287498474121094,52.9375,52.119998931884766,50.71500015258789,50.724998474121094,50.18000030517578,49.29499816894531,46.43000030517578,47.165000915527344,47.72999954223633,47.52000045776367,47.25,45.772499084472656,46.650001525878906,45.69499969482422,44.915000915527344,44.74250030517578,44.557498931884766,44.345001220703125,44.57500076293945,43.76750183105469,43.32500076293945,44.90999984741211,45.6349983215332,46.30500030517578,47.537498474121094,48.14500045776367,48.70249938964844,48.54750061035156,48.537498474121094,48.185001373291016,48.47249984741211,49.61249923706055,49.467498779296875,49.8650016784668,49.69499969482422,49.64500045776367,48.89250183105469,49.95000076293945,49.935001373291016,49.47999954223633,50.38750076293945,50.682498931884766,51.102500915527344,51.057498931884766,50.005001068115234,50.310001373291016,50.807498931884766,50.4375,50.82500076293945,51.3025016784668,51.125,50.837501525878906,51.415000915527344,50.647499084472656,51.80500030517578,52.209999084472656,52.16749954223633,51.755001068115234,51.935001373291016,52.41999816894531,52.19499969482422,53.2599983215332,52.10749816894531,51.005001068115234,48.334999084472656,49.25,49.7599983215332,50.85749816894531,50.247501373291016,50.119998931884766,52.24250030517578,50.6875,50.435001373291016,51.625,52.587501525878906,52.59000015258789,53.15999984741211,53.1150016784668,50.65999984741211,51.622501373291016,51.040000915527344,51.38249969482422,52.252498626708984,52.185001373291016,51.42499923706055,52.29750061035156,53.31999969482422,53.314998626708984,53.54249954223633,54.17499923706055,55.897499084472656,55.772499084472656,54.6875,54.974998474121094,55.17499923706055,55.692501068115234,55.2400016784668,54.432498931884766,54.68000030517578,54.41999816894531,55.25749969482422,54.97249984741211,54.70500183105469,55.99250030517578,56.147499084472656,54.7400016784668,55.20500183105469,56.752498626708984,56.76499938964844,56.099998474121094,56.75749969482422,57.522499084472656,59.0525016784668,58.967498779296875,58.83000183105469,58.592498779296875,58.81999969482422,59.102500915527344,60.127498626708984,59.9900016784668,60.79499816894531,60.89500045776367,61.64500045776367,62.26250076293945,60.8224983215332,60.814998626708984,62.189998626708984,63.95500183105469,64.375,64.28250122070312,64.30999755859375,64.85749816894531,65.03500366210938,65.55000305175781,65.48999786376953,66.11750030517578,65.66000366210938,66.44000244140625,66.7750015258789,66.57250213623047,65.79750061035156,65.50250244140625,65.44499969482422,66.59249877929688,66.07250213623047,66.95999908447266,66.8125,66.04000091552734,64.86250305175781,65.43499755859375,66.3949966430664,67.67749786376953,66.7300033569336,67.12000274658203,67.69249725341797,67.86499786376953,68.7874984741211,69.96499633789062,70.10250091552734,69.93499755859375,70.00499725341797,69.86000061035156,71.0,71.06749725341797,72.47750091552734,72.44999694824219,72.87999725341797,73.4124984741211,75.0875015258789,74.35749816894531,74.94999694824219,74.59750366210938,75.79750061035156,77.40750122070312,77.5824966430664,79.23999786376953,78.16999816894531,77.83499908447266,78.80999755859375,79.68250274658203,79.14250183105469,79.42500305175781,79.80750274658203,79.57749938964844,77.23750305175781,79.42250061035156,81.08499908447266,80.96749877929688,77.37750244140625,77.16500091552734,79.7125015258789,80.36250305175781,81.30249786376953,80.00749969482422,80.38749694824219,79.90249633789062,81.80000305175781,81.21749877929688,81.23750305175781,79.75,80.90499877929688,80.07499694824219,78.26249694824219,74.54499816894531,72.0199966430664,73.1624984741211,68.37999725341797,68.33999633789062,74.70249938964844,72.33000183105469,75.68499755859375,73.2300033569336,72.25749969482422,66.5425033569336,71.33499908447266,68.85749816894531,62.057498931884766,69.49250030517578,60.5525016784668,63.21500015258789,61.66749954223633,61.19499969482422,57.310001373291016,56.092498779296875,61.720001220703125,61.380001068115234,64.61000061035156,61.935001373291016,63.70249938964844,63.5724983215332,60.227500915527344,61.23249816894531,60.352500915527344,65.61750030517578,64.85749816894531,66.51750183105469,66.99749755859375,68.3125,71.76249694824219,71.10749816894531,71.67250061035156,70.69999694824219,69.23249816894531,67.09249877929688,69.0250015258789,68.75749969482422,70.74250030517578,70.7925033569336,69.6449966430664,71.93250274658203,73.44999694824219,72.26750183105469,73.29000091552734,74.38999938964844,75.15750122070312,75.93499755859375,77.53250122070312,78.75250244140625,77.85250091552734,76.9124984741211,77.38500213623047,76.92749786376953,78.73999786376953,78.28500366210938,79.80750274658203,79.2125015258789,79.72250366210938,79.18250274658203,79.52749633789062,79.5625,79.48500061035156,80.4625015258789,80.83499908447266,81.27999877929688,80.58000183105469,82.875,83.36499786376953,85.99749755859375,88.20999908447266,83.9749984741211,84.69999694824219,85.74749755859375,88.0199966430664,87.89749908447266,87.93250274658203,87.43000030517578,89.71749877929688,91.63249969482422,90.01499938964844,91.20999908447266,88.40750122070312,90.44499969482422,91.19999694824219,91.02749633789062,91.02749633789062,93.4625015258789,93.17250061035156,95.34249877929688,95.75250244140625,95.91999816894531,95.47750091552734,97.05750274658203,97.7249984741211,96.52249908447266,96.32749938964844,98.35749816894531,97.0,97.27249908447266,92.84500122070312,92.61499786376953,94.80999755859375,93.25250244140625,95.04000091552734,96.19000244140625,106.26000213623047,108.9375,109.66500091552734,110.0625,113.90249633789062,111.11250305175781,112.72750091552734,109.375,113.01000213623047,115.01000213623047,114.90750122070312,114.60749816894531,115.5625,115.7074966430664,118.2750015258789,124.37000274658203,125.85749816894531,124.82499694824219,126.52249908447266,125.01000213623047,124.80750274658203,129.0399932861328,134.17999267578125,131.39999389648438,120.87999725341797,120.95999908447266,112.81999969482422,117.31999969482422,113.48999786376953,112.0,115.36000061035156,115.54000091552734,112.12999725341797,110.33999633789062,106.83999633789062,110.08000183105469,111.80999755859375,107.12000274658203,108.22000122070312,112.27999877929688,114.95999908447266,114.08999633789062,115.80999755859375,116.79000091552734,113.0199966430664,116.5,113.16000366210938,115.08000183105469,114.97000122070312,116.97000122070312,124.4000015258789,121.0999984741211,121.19000244140625,120.70999908447266,119.0199966430664,115.9800033569336,117.51000213623047,116.87000274658203,115.75,115.04000091552734,115.05000305175781,116.5999984741211,111.19999694824219,115.31999969482422,108.86000061035156,108.7699966430664,110.44000244140625,114.94999694824219,119.02999877929688,118.69000244140625,116.31999969482422,115.97000122070312,119.48999786376953,119.20999908447266,119.26000213623047,120.30000305175781,119.38999938964844,118.02999877929688,118.63999938964844,117.33999633789062,113.8499984741211,115.16999816894531,116.02999877929688,116.58999633789062,119.05000305175781,122.72000122070312,123.08000183105469,122.94000244140625,122.25,123.75,124.37999725341797,121.77999877929688,123.23999786376953,122.41000366210938,121.77999877929688,127.87999725341797,127.80999755859375,128.6999969482422,126.66000366210938,128.22999572753906,131.8800048828125,130.9600067138672,131.97000122070312,136.69000244140625,134.8699951171875,133.72000122070312,132.69000244140625,129.41000366210938,131.00999450683594,126.5999984741211,130.9199981689453,132.0500030517578,128.97999572753906,128.8000030517578,130.88999938964844,128.91000366210938,127.13999938964844,127.83000183105469,132.02999877929688,136.8699951171875,139.07000732421875,142.9199981689453,143.16000366210938,142.05999755859375,137.08999633789062,131.9600067138672,134.13999938964844,134.99000549316406,133.94000244140625,137.38999938964844,136.75999450683594,136.91000366210938,136.00999450683594,135.38999938964844,135.1300048828125,135.3699951171875,133.19000244140625,130.83999633789062,129.7100067138672,129.8699951171875,126.0,125.86000061035156,125.3499984741211,120.98999786376953,121.26000213623047,127.79000091552734,125.12000274658203,122.05999755859375,120.12999725341797,121.41999816894531,116.36000061035156,121.08999633789062,119.9800033569336,121.95999908447266,121.02999877929688,123.98999786376953,125.56999969482422,124.76000213623047,120.52999877929688,119.98999786376953,123.38999938964844,122.54000091552734,120.08999633789062,120.58999633789062,121.20999908447266,121.38999938964844,119.9000015258789,122.1500015258789,123.0,125.9000015258789,126.20999908447266,127.9000015258789,130.36000061035156,133.0,131.24000549316406,134.42999267578125,132.02999877929688,134.5,134.16000366210938,134.83999633789062,133.11000061035156,133.5,131.94000244140625,134.32000732421875,134.72000122070312,134.38999938964844,133.5800018310547,133.47999572753906,131.4600067138672,132.5399932861328,127.8499984741211,128.10000610351562,129.74000549316406,130.2100067138672,126.8499984741211,125.91000366210938,122.7699966430664,124.97000122070312,127.44999694824219,126.2699966430664,124.8499984741211,124.69000244140625,127.30999755859375,125.43000030517578,127.0999984741211,126.9000015258789,126.8499984741211,125.27999877929688,124.61000061035156,124.27999877929688,125.05999755859375,123.54000091552734,125.88999938964844,125.9000015258789,126.73999786376953,127.12999725341797,126.11000061035156,127.3499984741211],\"high\":[39.712501525878906,36.43000030517578,37.13750076293945,37.20750045776367,37.95500183105469,38.63249969482422,38.49250030517578,38.42499923706055,37.817501068115234,38.34749984741211,38.970001220703125,39.415000915527344,39.470001220703125,39.182498931884766,38.78499984741211,38.619998931884766,39.532501220703125,39.08250045776367,39.532501220703125,41.537498474121094,42.25,42.244998931884766,42.915000915527344,43.77000045776367,43.89250183105469,43.48500061035156,42.665000915527344,42.8025016784668,42.75,43.119998931884766,42.814998626708984,42.92499923706055,42.86000061035156,43.33000183105469,43.092498779296875,43.25,43.967498779296875,43.82500076293945,43.75,43.727500915527344,43.787498474121094,44.4375,44.0,43.872501373291016,43.61000061035156,43.26750183105469,44.779998779296875,45.66749954223633,45.82500076293945,46.025001525878906,46.83250045776367,47.09749984741211,47.247501373291016,47.372501373291016,49.08250045776367,49.42250061035156,47.994998931884766,48.220001220703125,47.439998626708984,47.38999938964844,47.52000045776367,47.91999816894531,48.6150016784668,49.125,49.092498779296875,49.275001525878906,50.057498931884766,50.712501525878906,50.185001373291016,50.25,50.03499984741211,49.962501525878906,50.342498779296875,50.845001220703125,51.037498474121094,51.23500061035156,51.9375,52.119998931884766,51.939998626708984,51.25,51.49250030517578,50.849998474121094,53.82749938964844,53.162498474121094,52.959999084472656,52.209999084472656,51.85499954223633,51.334999084472656,50.41999816894531,49.712501525878906,47.369998931884766,47.42499923706055,47.9375,48.11750030517578,47.724998474121094,46.087501525878906,47.0,46.4275016784668,45.1349983215332,45.53499984741211,45.147499084472656,44.837501525878906,44.807498931884766,44.497501373291016,44.47999954223633,44.95750045776367,46.247501373291016,46.36750030517578,47.97999954223633,48.842498779296875,49.0,48.99250030517578,49.1974983215332,48.397499084472656,48.7400016784668,50.0724983215332,49.970001220703125,50.15250015258789,50.212501525878906,50.040000915527344,49.814998626708984,50.247501373291016,50.39250183105469,49.875,51.122501373291016,50.782501220703125,51.11000061035156,51.27000045776367,50.349998474121094,50.377498626708984,50.932498931884766,51.09749984741211,51.0,51.467498779296875,51.52750015258789,51.272499084472656,51.470001220703125,51.625,51.807498931884766,52.227500915527344,52.287498474121094,52.310001373291016,52.432498931884766,52.65999984741211,52.540000915527344,55.342498779296875,54.50749969482422,51.60749816894531,49.662498474121094,49.51750183105469,49.88999938964844,50.88249969482422,50.689998626708984,50.51250076293945,53.03499984741211,51.61000061035156,51.28499984741211,51.790000915527344,53.182498931884766,53.337501525878906,53.412498474121094,53.61000061035156,53.01250076293945,51.79750061035156,52.13750076293945,51.43000030517578,52.33000183105469,52.61249923706055,51.744998931884766,52.369998931884766,53.49250030517578,53.60499954223633,54.11000061035156,54.19499969482422,55.9275016784668,56.60499954223633,55.1974983215332,55.032501220703125,55.20500183105469,55.712501525878906,55.939998626708984,55.63999938964844,54.959999084472656,55.622501373291016,55.375,55.23500061035156,55.2400016784668,56.14500045776367,57.05500030517578,55.89500045776367,55.2400016784668,56.872501373291016,57.48249816894531,57.01499938964844,56.9474983215332,57.61000061035156,59.40999984741211,59.532501220703125,59.412498474121094,58.810001373291016,59.037498474121094,59.39500045776367,60.247501373291016,60.54999923706055,60.810001373291016,61.20000076293945,61.682498931884766,62.3125,62.4375,61.32500076293945,62.29249954223633,63.98249816894531,64.4625015258789,64.54750061035156,64.37249755859375,65.0875015258789,65.11000061035156,65.61750030517578,65.69750213623047,66.19499969482422,66.22000122070312,66.44499969482422,66.85749816894531,67.0,66.5199966430664,66.00250244140625,65.79499816894531,66.61000061035156,66.79000091552734,66.99500274658203,67.0,67.0625,64.88249969482422,65.82749938964844,66.47250366210938,67.75,67.69999694824219,67.51750183105469,67.7750015258789,68.13999938964844,68.82499694824219,70.19750213623047,70.44249725341797,70.4749984741211,70.29499816894531,70.6624984741211,71.0625,71.22250366210938,72.49500274658203,73.49250030517578,73.17250061035156,73.41999816894531,75.1500015258789,75.1449966430664,74.98999786376953,75.2249984741211,76.11000061035156,77.60749816894531,78.1675033569336,79.26750183105469,79.39250183105469,78.875,78.92500305175781,79.68499755859375,79.75499725341797,79.99749755859375,79.88999938964844,80.8324966430664,77.94249725341797,79.5999984741211,81.9625015258789,81.02249908447266,80.66999816894531,78.37249755859375,79.91000366210938,81.19000244140625,81.30500030517578,80.8499984741211,80.38749694824219,80.9749984741211,81.80500030517578,81.55500030517578,81.49500274658203,79.9375,81.14250183105469,81.1624984741211,80.11250305175781,76.04499816894531,75.63249969482422,74.47000122070312,71.5,69.60250091552734,75.36000061035156,76.0,75.8499984741211,74.88749694824219,72.70500183105469,69.52249908447266,71.61000061035156,70.30500030517578,67.5,69.9800033569336,64.7699966430664,64.40249633789062,62.5,63.209999084472656,62.95750045776367,57.125,61.92250061035156,64.5625,64.66999816894531,63.967498779296875,63.880001068115234,65.62249755859375,62.18000030517578,61.287498474121094,61.42499923706055,65.77749633789062,67.92500305175781,66.84249877929688,67.51750183105469,68.42500305175781,72.0625,71.5824966430664,72.05000305175781,71.73750305175781,70.41999816894531,69.3125,69.4749984741211,70.4375,70.75250244140625,71.13500213623047,71.4574966430664,72.4175033569336,73.63249969482422,74.75,73.42250061035156,75.25,75.80999755859375,76.2925033569336,77.5875015258789,79.26249694824219,79.92250061035156,78.98750305175781,77.44750213623047,76.9749984741211,79.125,79.62999725341797,79.87999725341797,80.22250366210938,79.80750274658203,81.05999755859375,79.67749786376953,80.86000061035156,80.2874984741211,80.5875015258789,80.86000061035156,81.55000305175781,81.40499877929688,82.9375,83.4000015258789,86.40249633789062,88.69249725341797,87.76499938964844,86.94999694824219,86.41999816894531,88.30000305175781,88.8499984741211,88.36250305175781,89.13999938964844,89.86499786376953,93.09500122070312,92.19750213623047,91.25,91.33000183105469,90.5425033569336,91.49500274658203,91.83999633789062,92.61750030517578,93.94499969482422,94.65499877929688,95.375,96.31749725341797,95.9800033569336,99.95500183105469,97.25499725341797,99.24749755859375,97.40499877929688,97.14749908447266,98.5,99.25,97.9749984741211,97.07749938964844,92.97000122070312,94.90499877929688,94.55000305175781,95.2300033569336,96.29750061035156,106.41500091552734,111.63749694824219,110.79000091552734,110.39250183105469,114.4124984741211,113.67500305175781,113.7750015258789,112.48249816894531,113.2750015258789,116.0425033569336,115.0,116.0875015258789,116.0,117.1624984741211,118.39250183105469,124.86750030517578,128.78500366210938,125.18000030517578,126.99250030517578,127.48500061035156,126.44249725341797,131.0,134.8000030517578,137.97999572753906,128.83999633789062,123.69999694824219,118.98999786376953,119.13999938964844,120.5,115.2300033569336,115.93000030517578,118.83000183105469,116.0,112.19999694824219,110.87999725341797,110.19000244140625,112.86000061035156,112.11000061035156,110.25,112.44000244140625,115.31999969482422,115.30999755859375,117.26000213623047,117.72000122070312,115.37000274658203,116.6500015258789,116.12000274658203,115.55000305175781,116.4000015258789,117.0,125.18000030517578,125.38999938964844,123.02999877929688,121.19999694824219,121.55000305175781,120.41999816894531,118.9800033569336,118.70999908447266,118.04000091552734,116.55000305175781,116.55000305175781,117.27999877929688,115.43000030517578,116.93000030517578,111.98999786376953,110.68000030517578,111.48999786376953,115.58999633789062,119.62000274658203,119.19999694824219,121.98999786376953,117.58999633789062,119.62999725341797,120.52999877929688,119.66999816894531,120.98999786376953,120.66999816894531,119.81999969482422,119.05999755859375,118.7699966430664,117.62000274658203,115.8499984741211,116.75,117.48999786376953,120.97000122070312,123.47000122070312,123.37000274658203,123.77999877929688,122.86000061035156,124.56999969482422,124.9800033569336,125.94999694824219,123.87000274658203,122.76000213623047,123.3499984741211,127.9000015258789,128.3699951171875,129.5800018310547,129.10000610351562,128.30999755859375,134.41000366210938,132.42999267578125,133.4600067138672,137.33999633789062,138.7899932861328,135.99000549316406,134.74000549316406,133.61000061035156,131.74000549316406,131.0500030517578,131.6300048828125,132.6300048828125,130.1699981689453,129.69000244140625,131.4499969482422,131.0,130.22000122070312,128.7100067138672,132.49000549316406,139.6699981689453,139.85000610351562,145.08999633789062,144.3000030517578,144.3000030517578,141.99000549316406,136.74000549316406,135.3800048828125,136.30999755859375,135.77000427246094,137.39999389648438,137.4199981689453,136.9600067138672,137.8800048828125,136.99000549316406,136.38999938964844,135.52999877929688,136.00999450683594,132.22000122070312,130.0,130.7100067138672,129.72000122070312,126.70999908447266,125.55999755859375,126.45999908447266,124.8499984741211,127.93000030517578,128.72000122070312,125.70999908447266,123.5999984741211,121.94000244140625,121.0,122.05999755859375,122.16999816894531,123.20999908447266,121.16999816894531,124.0,127.22000122070312,125.86000061035156,123.18000030517578,121.43000030517578,123.87000274658203,124.23999786376953,122.9000015258789,121.66000366210938,121.4800033569336,122.58000183105469,120.4000015258789,123.5199966430664,124.18000030517578,126.16000366210938,127.12999725341797,127.91999816894531,130.38999938964844,133.0399932861328,132.85000610351562,134.66000366210938,135.0,135.0,134.6699981689453,135.47000122070312,135.52999877929688,133.75,134.14999389648438,135.1199951171875,135.05999755859375,135.41000366210938,135.02000427246094,137.07000732421875,133.55999755859375,134.07000732421875,131.49000549316406,130.4499969482422,129.75,131.25999450683594,129.5399932861328,126.2699966430664,124.63999938964844,126.1500015258789,127.88999938964844,126.93000030517578,126.98999786376953,124.91999816894531,127.72000122070312,128.0,127.94000244140625,128.32000732421875,127.38999938964844,127.63999938964844,125.80000305175781,125.3499984741211,125.23999786376953,124.8499984741211,126.16000366210938,126.31999969482422,128.4600067138672,127.75,128.19000244140625,127.44000244140625],\"low\":[38.557498931884766,35.5,35.95000076293945,36.474998474121094,37.130001068115234,37.407501220703125,37.71500015258789,37.877498626708984,37.30500030517578,37.51250076293945,38.25,38.314998626708984,38.994998931884766,38.154998779296875,37.92499923706055,37.935001373291016,38.58000183105469,38.415000915527344,38.52750015258789,40.057498931884766,41.13999938964844,41.48249816894531,41.81999969482422,43.087501525878906,43.212501525878906,42.584999084472656,42.10499954223633,42.3125,42.42499923706055,42.47999954223633,42.345001220703125,42.4375,42.372501373291016,42.747501373291016,42.57500076293945,42.845001220703125,43.48749923706055,43.29249954223633,43.182498931884766,43.22999954223633,43.22249984741211,43.49250030517578,43.6349983215332,43.48500061035156,43.005001068115234,42.375,43.837501525878906,44.842498779296875,45.22999954223633,45.63999938964844,45.935001373291016,46.4474983215332,46.47999954223633,46.182498931884766,47.45249938964844,47.69499969482422,46.650001525878906,46.14500045776367,46.63750076293945,46.88249969482422,47.1349983215332,47.095001220703125,47.76250076293945,48.287498474121094,48.28499984741211,48.98249816894531,49.084999084472656,49.807498931884766,49.54499816894531,49.61000061035156,49.0525016784668,49.502498626708984,49.63999938964844,49.65250015258789,50.630001068115234,50.584999084472656,50.974998474121094,51.76250076293945,51.279998779296875,50.529998779296875,50.96500015258789,49.77750015258789,52.307498931884766,52.032501220703125,52.557498931884766,50.875,50.20750045776367,50.4375,49.165000915527344,48.192501068115234,45.712501525878906,46.352500915527344,46.505001068115234,47.209999084472656,46.689998626708984,45.06999969482422,46.17499923706055,45.63750076293945,44.45249938964844,44.654998779296875,44.477500915527344,44.0,44.16749954223633,43.747501373291016,42.567501068115234,43.630001068115234,45.28499984741211,45.537498474121094,46.442501068115234,47.904998779296875,48.400001525878906,48.34749984741211,48.400001525878906,47.57500076293945,48.04249954223633,48.8025016784668,49.32749938964844,49.50749969482422,49.537498474121094,49.54249954223633,48.8224983215332,49.337501525878906,49.89250183105469,49.26250076293945,50.162498474121094,50.34000015258789,50.67250061035156,50.724998474121094,49.602500915527344,49.70249938964844,50.38999938964844,50.4275016784668,50.54999923706055,51.0,50.875,50.817501068115234,50.92499923706055,50.59000015258789,50.90250015258789,51.8224983215332,51.79249954223633,51.682498931884766,51.78499984741211,52.11000061035156,51.82749938964844,52.82500076293945,51.685001373291016,50.407501220703125,48.14500045776367,48.5099983215332,48.45500183105469,49.84749984741211,49.8224983215332,49.787498474121094,50.119998931884766,50.647499084472656,49.91749954223633,50.959999084472656,52.50749969482422,52.58000183105469,52.900001525878906,52.6875,50.25,51.26499938964844,50.88249969482422,50.83000183105469,51.665000915527344,51.79999923706055,51.05500030517578,51.83000183105469,52.877498626708984,53.127498626708984,52.76750183105469,52.9275016784668,54.432498931884766,55.71500015258789,54.255001068115234,54.38999938964844,54.779998779296875,54.86000061035156,55.092498779296875,54.36750030517578,54.412498474121094,54.29750061035156,54.28499984741211,54.70750045776367,54.31999969482422,55.1974983215332,56.04999923706055,54.48249816894531,53.782501220703125,55.97249984741211,56.459999084472656,56.08250045776367,56.40999984741211,56.82500076293945,58.07749938964844,58.66749954223633,58.720001220703125,58.29999923706055,58.380001068115234,58.5724983215332,59.33000183105469,59.904998779296875,60.30500030517578,60.45249938964844,60.720001220703125,61.68000030517578,60.64250183105469,60.3025016784668,59.314998626708984,62.290000915527344,63.845001220703125,64.08000183105469,63.842498779296875,64.52749633789062,64.2125015258789,64.56999969482422,65.2300033569336,65.26750183105469,65.5250015258789,65.75250244140625,66.05750274658203,66.34750366210938,65.0999984741211,65.29499816894531,65.20999908447266,65.62999725341797,65.625,66.32749938964844,66.4749984741211,65.86250305175781,64.07250213623047,65.16999816894531,65.68250274658203,66.82499694824219,66.22750091552734,66.46499633789062,67.125,66.83000183105469,67.73249816894531,69.24500274658203,69.69999694824219,69.77999877929688,69.73750305175781,69.63999938964844,70.09249877929688,70.7300033569336,71.17500305175781,72.02999877929688,71.30500030517578,72.37999725341797,73.79750061035156,74.125,73.1875,74.37000274658203,74.29000091552734,76.55000305175781,77.0625,77.7874984741211,78.0425033569336,77.38749694824219,78.02249908447266,78.75,79.0,79.32749938964844,78.9124984741211,79.37999725341797,76.22000122070312,78.04750061035156,80.34500122070312,79.6875,77.07250213623047,75.55500030517578,78.40750122070312,79.73750305175781,80.06500244140625,79.5,78.4625015258789,79.67749786376953,80.36750030517578,80.8375015258789,80.7125015258789,78.65249633789062,80.0,79.55249786376953,77.625,72.30750274658203,71.53250122070312,71.625,68.23999786376953,64.09249877929688,69.43000030517578,71.44999694824219,73.28250122070312,72.85250091552734,70.30750274658203,65.75,67.34249877929688,67.96499633789062,62.0,63.23749923706055,60.0,59.599998474121094,59.279998779296875,60.65250015258789,57.0,53.15250015258789,58.57500076293945,61.07500076293945,61.59000015258789,61.76250076293945,62.349998474121094,63.0,59.782501220703125,59.224998474121094,59.74250030517578,62.345001220703125,64.75,65.30750274658203,66.17500305175781,66.4574966430664,69.51249694824219,70.15750122070312,70.5875015258789,69.21499633789062,69.2125015258789,66.35749816894531,68.05000305175781,68.71749877929688,69.25,69.98750305175781,69.55000305175781,70.97250366210938,72.0875015258789,71.4625015258789,71.58000183105469,73.61499786376953,74.71749877929688,75.49250030517578,76.07250213623047,76.80999755859375,77.72750091552734,75.80249786376953,75.38249969482422,75.05249786376953,77.58000183105469,78.25250244140625,79.12999725341797,78.96749877929688,78.8375015258789,79.125,78.27249908447266,78.90750122070312,79.11750030517578,79.30249786376953,79.73249816894531,80.57499694824219,80.19499969482422,80.80750274658203,81.83000183105469,83.00250244140625,86.52249908447266,83.87000274658203,83.55500030517578,83.1449966430664,86.18000030517578,87.77249908447266,87.30500030517578,86.2874984741211,87.7874984741211,90.56749725341797,89.62999725341797,89.39250183105469,88.25499725341797,87.81999969482422,90.0,90.97750091552734,90.91000366210938,92.46749877929688,93.05750274658203,94.08999633789062,94.67250061035156,94.70500183105469,95.25749969482422,93.87750244140625,96.48999786376953,95.90499877929688,95.83999633789062,96.0625,96.74250030517578,96.60250091552734,92.01000213623047,89.1449966430664,93.4800033569336,93.24749755859375,93.7125015258789,93.76750183105469,100.82499694824219,107.89250183105469,108.38749694824219,108.89749908447266,109.79750061035156,110.2925033569336,110.0,109.10749816894531,110.29750061035156,113.92749786376953,113.04499816894531,113.9625015258789,114.00749969482422,115.61000061035156,115.73249816894531,119.25,123.9375,123.05249786376953,125.0824966430664,123.8324966430664,124.57749938964844,126.0,130.52999877929688,127.0,120.5,110.88999938964844,112.68000030517578,115.26000213623047,112.5,110.0,112.80000305175781,113.61000061035156,112.04000091552734,108.70999908447266,106.08999633789062,103.0999984741211,109.16000366210938,106.7699966430664,105.0,107.66999816894531,112.77999877929688,113.56999969482422,113.62000274658203,115.83000183105469,112.22000122070312,113.55000305175781,112.25,114.12999725341797,114.58999633789062,114.91999816894531,119.27999877929688,119.6500015258789,119.62000274658203,118.1500015258789,118.80999755859375,115.66000366210938,115.62999725341797,116.44999694824219,114.58999633789062,114.27999877929688,112.87999725341797,114.54000091552734,111.0999984741211,112.19999694824219,107.72000122070312,107.31999969482422,108.7300033569336,112.3499984741211,116.87000274658203,116.12999725341797,116.05000305175781,114.12999725341797,116.44000244140625,118.56999969482422,117.87000274658203,118.1500015258789,118.95999908447266,118.0,116.80999755859375,117.29000091552734,113.75,112.58999633789062,115.16999816894531,116.22000122070312,116.80999755859375,120.01000213623047,120.88999938964844,122.20999908447266,121.5199966430664,122.25,123.08999633789062,121.0,120.1500015258789,120.55000305175781,121.54000091552734,124.12999725341797,126.55999755859375,128.0399932861328,126.12000274658203,123.44999694824219,129.64999389648438,130.77999877929688,131.10000610351562,133.50999450683594,134.33999633789062,133.39999389648438,131.72000122070312,126.76000213623047,128.42999267578125,126.37999725341797,127.86000061035156,130.22999572753906,128.5,126.86000061035156,128.49000549316406,128.75999450683594,127.0,126.94000244140625,128.5500030517578,133.58999633789062,135.02000427246094,136.5399932861328,141.3699951171875,140.41000366210938,136.6999969482422,130.2100067138672,130.92999267578125,134.61000061035156,133.61000061035156,134.58999633789062,135.86000061035156,134.9199981689453,135.85000610351562,134.39999389648438,133.77000427246094,133.69000244140625,132.7899932861328,129.47000122070312,127.41000366210938,128.8000030517578,125.5999984741211,118.38999938964844,122.2300033569336,120.54000091552734,121.19999694824219,122.79000091552734,125.01000213623047,121.83999633789062,118.62000274658203,117.56999969482422,116.20999908447266,118.79000091552734,119.44999694824219,121.26000213623047,119.16000366210938,120.41999816894531,124.72000122070312,122.33999633789062,120.31999969482422,119.68000030517578,120.26000213623047,122.13999938964844,120.06999969482422,119.0,118.91999816894531,120.7300033569336,118.86000061035156,121.1500015258789,122.48999786376953,123.06999969482422,125.6500015258789,125.13999938964844,128.52000427246094,129.47000122070312,130.6300048828125,131.92999267578125,131.66000366210938,133.63999938964844,133.27999877929688,133.33999633789062,131.80999755859375,131.3000030517578,131.41000366210938,132.16000366210938,133.55999755859375,134.11000061035156,133.0800018310547,132.4499969482422,131.07000732421875,131.8300018310547,126.69999694824219,127.97000122070312,127.12999725341797,129.47999572753906,126.80999755859375,122.7699966430664,122.25,124.26000213623047,125.8499984741211,125.16999816894531,124.77999877929688,122.86000061035156,125.0999984741211,125.20999908447266,125.94000244140625,126.31999969482422,126.41999816894531,125.08000183105469,124.55000305175781,123.94000244140625,124.05000305175781,123.12999725341797,123.8499984741211,124.83000183105469,126.20999908447266,126.5199966430664,125.94000244140625,126.0999984741211],\"open\":[38.72249984741211,35.994998931884766,36.13249969482422,37.17499923706055,37.38999938964844,37.8224983215332,38.125,38.220001220703125,37.712501525878906,37.567501068115234,38.27000045776367,38.54999923706055,39.375,39.102500915527344,38.537498474121094,38.52750015258789,38.869998931884766,38.9474983215332,39.0625,40.8125,41.52750015258789,41.7400016784668,41.852500915527344,43.21500015258789,43.662498474121094,43.099998474121094,42.247501373291016,42.76250076293945,42.525001525878906,42.84749984741211,42.4275016784668,42.8125,42.4275016784668,42.79750061035156,42.95000076293945,42.89500045776367,43.540000915527344,43.4275016784668,43.3025016784668,43.58000183105469,43.56999969482422,43.92250061035156,43.98500061035156,43.66749954223633,43.467498779296875,42.58000183105469,43.872501373291016,45.0,45.5625,45.974998474121094,46.212501525878906,46.45000076293945,47.087501525878906,46.557498931884766,47.505001068115234,48.834999084472656,47.877498626708984,47.915000915527344,47.1875,47.23749923706055,47.45750045776367,47.90999984741211,47.772499084472656,48.3125,48.6974983215332,49.11249923706055,49.10499954223633,50.08000183105469,49.66999816894531,50.212501525878906,49.79999923706055,49.64500045776367,49.8650016784668,49.8849983215332,50.779998779296875,50.70750045776367,51.10749816894531,51.84000015258789,51.70750045776367,51.224998474121094,51.099998474121094,50.76499938964844,52.470001220703125,52.459999084472656,52.72249984741211,51.0724983215332,51.470001220703125,50.474998474121094,50.099998474121094,49.35499954223633,46.9275016784668,46.602500915527344,46.567501068115234,47.477500915527344,46.73249816894531,45.880001068115234,46.30500030517578,46.165000915527344,44.95000076293945,45.04999923706055,44.72999954223633,44.10499954223633,44.48749923706055,44.057498931884766,43.900001525878906,43.86000061035156,46.06999969482422,45.77000045776367,46.627498626708984,47.95249938964844,48.71500015258789,48.48749923706055,48.67499923706055,47.88750076293945,48.224998474121094,49.01250076293945,49.91999816894531,50.092498779296875,49.70000076293945,49.6349983215332,49.60749816894531,49.442501068115234,50.0724983215332,49.66999816894531,50.79249954223633,50.352500915527344,50.81999969482422,50.837501525878906,50.20249938964844,49.79999923706055,50.462501525878906,50.82749938964844,50.61249923706055,51.022499084472656,51.147499084472656,51.01250076293945,51.0,51.4474983215332,50.912498474121094,52.1150016784668,51.91749954223633,52.22249984741211,51.869998931884766,52.1150016784668,52.189998626708984,54.10499954223633,53.474998474121094,51.38249969482422,49.497501373291016,49.07749938964844,48.852500915527344,50.04999923706055,50.32500076293945,49.904998779296875,50.255001068115234,50.790000915527344,50.8650016784668,51.06999969482422,52.654998779296875,52.720001220703125,53.247501373291016,53.29750061035156,52.35749816894531,51.46500015258789,51.96500015258789,51.025001525878906,52.125,52.540000915527344,51.60749816894531,52.09749984741211,53.0,53.51250076293945,53.709999084472656,53.46500015258789,54.51750183105469,56.20000076293945,55.0,54.432498931884766,54.9900016784668,55.26499938964844,55.502498626708984,55.345001220703125,54.73749923706055,55.25749969482422,54.63750076293945,55.0,55.1349983215332,55.224998474121094,56.26750183105469,55.76499938964844,54.60749816894531,56.40999984741211,56.567501068115234,56.45500183105469,56.75749969482422,56.98249816894531,58.23749923706055,58.724998474121094,59.09749984741211,58.342498779296875,58.772499084472656,58.647499084472656,59.380001068115234,60.290000915527344,60.525001525878906,61.127498626708984,60.790000915527344,61.85499954223633,62.24250030517578,61.189998626708984,61.810001373291016,62.3849983215332,64.3324966430664,64.26249694824219,64.19249725341797,64.68499755859375,64.67250061035156,64.57499694824219,65.38749694824219,65.28250122070312,65.9375,65.91999816894531,66.44999694824219,66.9749984741211,66.38500213623047,65.92250061035156,65.64749908447266,65.67749786376953,66.73500061035156,66.3949966430664,66.6500015258789,66.81749725341797,64.57749938964844,65.26750183105469,65.94750213623047,66.87000274658203,67.5,67.1500015258789,67.20249938964844,66.94499969482422,67.86499786376953,69.25,69.89250183105469,69.94999694824219,69.875,70.55750274658203,70.13249969482422,71.17250061035156,71.20500183105469,72.77999877929688,72.36499786376953,72.48249816894531,74.05999755859375,74.2874984741211,73.44750213623047,74.95999908447266,74.29000091552734,76.80999755859375,77.6500015258789,77.91000366210938,79.17500305175781,77.9625015258789,78.39749908447266,79.06749725341797,79.29750061035156,79.6449966430664,79.4800033569336,80.0625,77.51499938964844,78.1500015258789,81.11250305175781,80.13500213623047,80.23249816894531,76.07499694824219,78.82749938964844,80.87999725341797,80.64250183105469,80.59249877929688,78.54499816894531,80.9000015258789,80.36750030517578,81.04750061035156,81.18499755859375,78.83999633789062,80.0,80.65750122070312,79.65499877929688,74.31500244140625,75.23750305175781,71.63249969482422,70.2750015258789,64.31500244140625,70.56999969482422,75.9175033569336,74.11000061035156,73.87999725341797,70.5,65.9375,69.28500366210938,69.34750366210938,63.98500061035156,66.22250366210938,60.48749923706055,61.877498626708984,59.942501068115234,61.84749984741211,61.79499816894531,57.02000045776367,59.09000015258789,62.6875,61.630001068115234,63.1875,62.685001373291016,63.900001525878906,61.625,60.084999084472656,60.70000076293945,62.724998474121094,67.69999694824219,65.68499755859375,67.17500305175781,67.07749938964844,70.0,70.5999984741211,71.84500122070312,71.17250061035156,69.48750305175781,69.06999969482422,68.40249633789062,68.96749877929688,69.30000305175781,70.44999694824219,71.2699966430664,71.18250274658203,72.48999786376953,71.5625,72.2925033569336,73.76499938964844,75.11499786376953,75.80500030517578,76.41000366210938,77.0250015258789,79.4574966430664,78.0374984741211,76.12750244140625,75.0875015258789,78.2925033569336,78.75749969482422,79.16999816894531,79.66500091552734,78.94249725341797,80.875,79.03500366210938,79.19249725341797,79.8125,79.4375,80.1875,81.16500091552734,81.09750366210938,80.8375015258789,82.5625,83.03500366210938,86.9749984741211,87.32749938964844,86.18000030517578,83.3125,87.86499786376953,88.7874984741211,87.85250091552734,88.66000366210938,87.83499908447266,91.0,91.25,90.17500305175781,91.10250091552734,88.3125,90.0199966430664,91.27999877929688,91.9625015258789,92.5,93.85250091552734,94.18000030517578,96.26249694824219,95.33499908447266,97.26499938964844,94.83999633789062,98.98999786376953,96.5625,96.98750305175781,96.4175033569336,99.17250061035156,96.69249725341797,96.99749755859375,90.98750305175781,93.70999908447266,94.36750030517578,93.75,94.1875,102.88500213623047,108.19999694824219,109.13249969482422,109.37750244140625,110.40499877929688,113.20500183105469,112.5999984741211,111.97000122070312,110.49749755859375,114.43000030517578,114.83000183105469,116.0625,114.35250091552734,115.98249816894531,115.75,119.26249694824219,128.69749450683594,124.69750213623047,126.18000030517578,127.14250183105469,126.01249694824219,127.58000183105469,132.75999450683594,137.58999633789062,126.91000366210938,120.06999969482422,113.94999694824219,117.26000213623047,120.36000061035156,114.56999969482422,114.72000122070312,118.33000183105469,115.2300033569336,109.72000122070312,110.4000015258789,104.54000091552734,112.68000030517578,111.62000274658203,105.16999816894531,108.43000030517578,115.01000213623047,114.55000305175781,113.79000091552734,117.63999938964844,112.88999938964844,113.91000366210938,115.69999694824219,114.62000274658203,116.25,115.27999877929688,120.05999755859375,125.2699966430664,121.0,118.72000122070312,121.27999877929688,119.95999908447266,116.19999694824219,116.66999816894531,117.44999694824219,116.38999938964844,114.01000213623047,115.48999786376953,115.05000305175781,112.37000274658203,111.05999755859375,109.11000061035156,109.66000366210938,114.13999938964844,117.94999694824219,118.31999969482422,120.5,115.55000305175781,117.19000244140625,119.62000274658203,119.44000244140625,118.91999816894531,119.55000305175781,118.61000061035156,117.58999633789062,118.63999938964844,117.18000030517578,113.91000366210938,115.55000305175781,116.56999969482422,116.97000122070312,121.01000213623047,122.0199966430664,123.5199966430664,122.5999984741211,122.30999755859375,124.37000274658203,124.52999877929688,120.5,122.43000030517578,122.5999984741211,124.33999633789062,127.41000366210938,128.89999389648438,128.9600067138672,125.0199966430664,131.61000061035156,132.16000366210938,131.32000732421875,133.99000549316406,138.0500030517578,135.5800018310547,134.0800018310547,133.52000427246094,128.88999938964844,127.72000122070312,128.36000061035156,132.42999267578125,129.19000244140625,128.5,128.75999450683594,130.8000030517578,128.77999877929688,127.77999877929688,128.66000366210938,133.8000030517578,136.27999877929688,143.07000732421875,143.60000610351562,143.42999267578125,139.52000427246094,135.8300018310547,133.75,135.72999572753906,135.75999450683594,136.3000030517578,137.35000610351562,136.02999877929688,136.6199951171875,136.47999572753906,135.89999389648438,134.35000610351562,135.49000549316406,131.25,129.1999969482422,130.24000549316406,128.00999450683594,123.76000213623047,124.94000244140625,124.68000030517578,122.58999633789062,123.75,128.41000366210938,124.80999755859375,121.75,120.9800033569336,120.93000030517578,119.02999877929688,121.69000244140625,122.54000091552734,120.4000015258789,121.41000366210938,125.69999694824219,124.05000305175781,122.87999725341797,119.9000015258789,120.33000183105469,123.33000183105469,122.81999969482422,119.54000091552734,120.3499984741211,121.6500015258789,120.11000061035156,121.6500015258789,123.66000366210938,123.87000274658203,126.5,125.83000183105469,128.9499969482422,129.8000030517578,132.52000427246094,132.44000244140625,134.94000244140625,133.82000732421875,134.3000030517578,133.50999450683594,135.02000427246094,132.36000061035156,133.0399932861328,132.16000366210938,134.8300018310547,135.00999450683594,134.30999755859375,136.47000122070312,131.77999877929688,132.0399932861328,131.19000244140625,129.1999969482422,127.88999938964844,130.85000610351562,129.41000366210938,123.5,123.4000015258789,124.58000183105469,126.25,126.81999969482422,126.55999755859375,123.16000366210938,125.2300033569336,127.81999969482422,126.01000213623047,127.81999969482422,126.95999908447266,126.44000244140625,125.56999969482422,125.08000183105469,124.27999877929688,124.68000030517578,124.06999969482422,126.16999816894531,126.5999984741211,127.20999908447266,127.0199966430664,126.52999877929688],\"x\":[\"2019-01-02T00:00:00\",\"2019-01-03T00:00:00\",\"2019-01-04T00:00:00\",\"2019-01-07T00:00:00\",\"2019-01-08T00:00:00\",\"2019-01-09T00:00:00\",\"2019-01-10T00:00:00\",\"2019-01-11T00:00:00\",\"2019-01-14T00:00:00\",\"2019-01-15T00:00:00\",\"2019-01-16T00:00:00\",\"2019-01-17T00:00:00\",\"2019-01-18T00:00:00\",\"2019-01-22T00:00:00\",\"2019-01-23T00:00:00\",\"2019-01-24T00:00:00\",\"2019-01-25T00:00:00\",\"2019-01-28T00:00:00\",\"2019-01-29T00:00:00\",\"2019-01-30T00:00:00\",\"2019-01-31T00:00:00\",\"2019-02-01T00:00:00\",\"2019-02-04T00:00:00\",\"2019-02-05T00:00:00\",\"2019-02-06T00:00:00\",\"2019-02-07T00:00:00\",\"2019-02-08T00:00:00\",\"2019-02-11T00:00:00\",\"2019-02-12T00:00:00\",\"2019-02-13T00:00:00\",\"2019-02-14T00:00:00\",\"2019-02-15T00:00:00\",\"2019-02-19T00:00:00\",\"2019-02-20T00:00:00\",\"2019-02-21T00:00:00\",\"2019-02-22T00:00:00\",\"2019-02-25T00:00:00\",\"2019-02-26T00:00:00\",\"2019-02-27T00:00:00\",\"2019-02-28T00:00:00\",\"2019-03-01T00:00:00\",\"2019-03-04T00:00:00\",\"2019-03-05T00:00:00\",\"2019-03-06T00:00:00\",\"2019-03-07T00:00:00\",\"2019-03-08T00:00:00\",\"2019-03-11T00:00:00\",\"2019-03-12T00:00:00\",\"2019-03-13T00:00:00\",\"2019-03-14T00:00:00\",\"2019-03-15T00:00:00\",\"2019-03-18T00:00:00\",\"2019-03-19T00:00:00\",\"2019-03-20T00:00:00\",\"2019-03-21T00:00:00\",\"2019-03-22T00:00:00\",\"2019-03-25T00:00:00\",\"2019-03-26T00:00:00\",\"2019-03-27T00:00:00\",\"2019-03-28T00:00:00\",\"2019-03-29T00:00:00\",\"2019-04-01T00:00:00\",\"2019-04-02T00:00:00\",\"2019-04-03T00:00:00\",\"2019-04-04T00:00:00\",\"2019-04-05T00:00:00\",\"2019-04-08T00:00:00\",\"2019-04-09T00:00:00\",\"2019-04-10T00:00:00\",\"2019-04-11T00:00:00\",\"2019-04-12T00:00:00\",\"2019-04-15T00:00:00\",\"2019-04-16T00:00:00\",\"2019-04-17T00:00:00\",\"2019-04-18T00:00:00\",\"2019-04-22T00:00:00\",\"2019-04-23T00:00:00\",\"2019-04-24T00:00:00\",\"2019-04-25T00:00:00\",\"2019-04-26T00:00:00\",\"2019-04-29T00:00:00\",\"2019-04-30T00:00:00\",\"2019-05-01T00:00:00\",\"2019-05-02T00:00:00\",\"2019-05-03T00:00:00\",\"2019-05-06T00:00:00\",\"2019-05-07T00:00:00\",\"2019-05-08T00:00:00\",\"2019-05-09T00:00:00\",\"2019-05-10T00:00:00\",\"2019-05-13T00:00:00\",\"2019-05-14T00:00:00\",\"2019-05-15T00:00:00\",\"2019-05-16T00:00:00\",\"2019-05-17T00:00:00\",\"2019-05-20T00:00:00\",\"2019-05-21T00:00:00\",\"2019-05-22T00:00:00\",\"2019-05-23T00:00:00\",\"2019-05-24T00:00:00\",\"2019-05-28T00:00:00\",\"2019-05-29T00:00:00\",\"2019-05-30T00:00:00\",\"2019-05-31T00:00:00\",\"2019-06-03T00:00:00\",\"2019-06-04T00:00:00\",\"2019-06-05T00:00:00\",\"2019-06-06T00:00:00\",\"2019-06-07T00:00:00\",\"2019-06-10T00:00:00\",\"2019-06-11T00:00:00\",\"2019-06-12T00:00:00\",\"2019-06-13T00:00:00\",\"2019-06-14T00:00:00\",\"2019-06-17T00:00:00\",\"2019-06-18T00:00:00\",\"2019-06-19T00:00:00\",\"2019-06-20T00:00:00\",\"2019-06-21T00:00:00\",\"2019-06-24T00:00:00\",\"2019-06-25T00:00:00\",\"2019-06-26T00:00:00\",\"2019-06-27T00:00:00\",\"2019-06-28T00:00:00\",\"2019-07-01T00:00:00\",\"2019-07-02T00:00:00\",\"2019-07-03T00:00:00\",\"2019-07-05T00:00:00\",\"2019-07-08T00:00:00\",\"2019-07-09T00:00:00\",\"2019-07-10T00:00:00\",\"2019-07-11T00:00:00\",\"2019-07-12T00:00:00\",\"2019-07-15T00:00:00\",\"2019-07-16T00:00:00\",\"2019-07-17T00:00:00\",\"2019-07-18T00:00:00\",\"2019-07-19T00:00:00\",\"2019-07-22T00:00:00\",\"2019-07-23T00:00:00\",\"2019-07-24T00:00:00\",\"2019-07-25T00:00:00\",\"2019-07-26T00:00:00\",\"2019-07-29T00:00:00\",\"2019-07-30T00:00:00\",\"2019-07-31T00:00:00\",\"2019-08-01T00:00:00\",\"2019-08-02T00:00:00\",\"2019-08-05T00:00:00\",\"2019-08-06T00:00:00\",\"2019-08-07T00:00:00\",\"2019-08-08T00:00:00\",\"2019-08-09T00:00:00\",\"2019-08-12T00:00:00\",\"2019-08-13T00:00:00\",\"2019-08-14T00:00:00\",\"2019-08-15T00:00:00\",\"2019-08-16T00:00:00\",\"2019-08-19T00:00:00\",\"2019-08-20T00:00:00\",\"2019-08-21T00:00:00\",\"2019-08-22T00:00:00\",\"2019-08-23T00:00:00\",\"2019-08-26T00:00:00\",\"2019-08-27T00:00:00\",\"2019-08-28T00:00:00\",\"2019-08-29T00:00:00\",\"2019-08-30T00:00:00\",\"2019-09-03T00:00:00\",\"2019-09-04T00:00:00\",\"2019-09-05T00:00:00\",\"2019-09-06T00:00:00\",\"2019-09-09T00:00:00\",\"2019-09-10T00:00:00\",\"2019-09-11T00:00:00\",\"2019-09-12T00:00:00\",\"2019-09-13T00:00:00\",\"2019-09-16T00:00:00\",\"2019-09-17T00:00:00\",\"2019-09-18T00:00:00\",\"2019-09-19T00:00:00\",\"2019-09-20T00:00:00\",\"2019-09-23T00:00:00\",\"2019-09-24T00:00:00\",\"2019-09-25T00:00:00\",\"2019-09-26T00:00:00\",\"2019-09-27T00:00:00\",\"2019-09-30T00:00:00\",\"2019-10-01T00:00:00\",\"2019-10-02T00:00:00\",\"2019-10-03T00:00:00\",\"2019-10-04T00:00:00\",\"2019-10-07T00:00:00\",\"2019-10-08T00:00:00\",\"2019-10-09T00:00:00\",\"2019-10-10T00:00:00\",\"2019-10-11T00:00:00\",\"2019-10-14T00:00:00\",\"2019-10-15T00:00:00\",\"2019-10-16T00:00:00\",\"2019-10-17T00:00:00\",\"2019-10-18T00:00:00\",\"2019-10-21T00:00:00\",\"2019-10-22T00:00:00\",\"2019-10-23T00:00:00\",\"2019-10-24T00:00:00\",\"2019-10-25T00:00:00\",\"2019-10-28T00:00:00\",\"2019-10-29T00:00:00\",\"2019-10-30T00:00:00\",\"2019-10-31T00:00:00\",\"2019-11-01T00:00:00\",\"2019-11-04T00:00:00\",\"2019-11-05T00:00:00\",\"2019-11-06T00:00:00\",\"2019-11-07T00:00:00\",\"2019-11-08T00:00:00\",\"2019-11-11T00:00:00\",\"2019-11-12T00:00:00\",\"2019-11-13T00:00:00\",\"2019-11-14T00:00:00\",\"2019-11-15T00:00:00\",\"2019-11-18T00:00:00\",\"2019-11-19T00:00:00\",\"2019-11-20T00:00:00\",\"2019-11-21T00:00:00\",\"2019-11-22T00:00:00\",\"2019-11-25T00:00:00\",\"2019-11-26T00:00:00\",\"2019-11-27T00:00:00\",\"2019-11-29T00:00:00\",\"2019-12-02T00:00:00\",\"2019-12-03T00:00:00\",\"2019-12-04T00:00:00\",\"2019-12-05T00:00:00\",\"2019-12-06T00:00:00\",\"2019-12-09T00:00:00\",\"2019-12-10T00:00:00\",\"2019-12-11T00:00:00\",\"2019-12-12T00:00:00\",\"2019-12-13T00:00:00\",\"2019-12-16T00:00:00\",\"2019-12-17T00:00:00\",\"2019-12-18T00:00:00\",\"2019-12-19T00:00:00\",\"2019-12-20T00:00:00\",\"2019-12-23T00:00:00\",\"2019-12-24T00:00:00\",\"2019-12-26T00:00:00\",\"2019-12-27T00:00:00\",\"2019-12-30T00:00:00\",\"2019-12-31T00:00:00\",\"2020-01-02T00:00:00\",\"2020-01-03T00:00:00\",\"2020-01-06T00:00:00\",\"2020-01-07T00:00:00\",\"2020-01-08T00:00:00\",\"2020-01-09T00:00:00\",\"2020-01-10T00:00:00\",\"2020-01-13T00:00:00\",\"2020-01-14T00:00:00\",\"2020-01-15T00:00:00\",\"2020-01-16T00:00:00\",\"2020-01-17T00:00:00\",\"2020-01-21T00:00:00\",\"2020-01-22T00:00:00\",\"2020-01-23T00:00:00\",\"2020-01-24T00:00:00\",\"2020-01-27T00:00:00\",\"2020-01-28T00:00:00\",\"2020-01-29T00:00:00\",\"2020-01-30T00:00:00\",\"2020-01-31T00:00:00\",\"2020-02-03T00:00:00\",\"2020-02-04T00:00:00\",\"2020-02-05T00:00:00\",\"2020-02-06T00:00:00\",\"2020-02-07T00:00:00\",\"2020-02-10T00:00:00\",\"2020-02-11T00:00:00\",\"2020-02-12T00:00:00\",\"2020-02-13T00:00:00\",\"2020-02-14T00:00:00\",\"2020-02-18T00:00:00\",\"2020-02-19T00:00:00\",\"2020-02-20T00:00:00\",\"2020-02-21T00:00:00\",\"2020-02-24T00:00:00\",\"2020-02-25T00:00:00\",\"2020-02-26T00:00:00\",\"2020-02-27T00:00:00\",\"2020-02-28T00:00:00\",\"2020-03-02T00:00:00\",\"2020-03-03T00:00:00\",\"2020-03-04T00:00:00\",\"2020-03-05T00:00:00\",\"2020-03-06T00:00:00\",\"2020-03-09T00:00:00\",\"2020-03-10T00:00:00\",\"2020-03-11T00:00:00\",\"2020-03-12T00:00:00\",\"2020-03-13T00:00:00\",\"2020-03-16T00:00:00\",\"2020-03-17T00:00:00\",\"2020-03-18T00:00:00\",\"2020-03-19T00:00:00\",\"2020-03-20T00:00:00\",\"2020-03-23T00:00:00\",\"2020-03-24T00:00:00\",\"2020-03-25T00:00:00\",\"2020-03-26T00:00:00\",\"2020-03-27T00:00:00\",\"2020-03-30T00:00:00\",\"2020-03-31T00:00:00\",\"2020-04-01T00:00:00\",\"2020-04-02T00:00:00\",\"2020-04-03T00:00:00\",\"2020-04-06T00:00:00\",\"2020-04-07T00:00:00\",\"2020-04-08T00:00:00\",\"2020-04-09T00:00:00\",\"2020-04-13T00:00:00\",\"2020-04-14T00:00:00\",\"2020-04-15T00:00:00\",\"2020-04-16T00:00:00\",\"2020-04-17T00:00:00\",\"2020-04-20T00:00:00\",\"2020-04-21T00:00:00\",\"2020-04-22T00:00:00\",\"2020-04-23T00:00:00\",\"2020-04-24T00:00:00\",\"2020-04-27T00:00:00\",\"2020-04-28T00:00:00\",\"2020-04-29T00:00:00\",\"2020-04-30T00:00:00\",\"2020-05-01T00:00:00\",\"2020-05-04T00:00:00\",\"2020-05-05T00:00:00\",\"2020-05-06T00:00:00\",\"2020-05-07T00:00:00\",\"2020-05-08T00:00:00\",\"2020-05-11T00:00:00\",\"2020-05-12T00:00:00\",\"2020-05-13T00:00:00\",\"2020-05-14T00:00:00\",\"2020-05-15T00:00:00\",\"2020-05-18T00:00:00\",\"2020-05-19T00:00:00\",\"2020-05-20T00:00:00\",\"2020-05-21T00:00:00\",\"2020-05-22T00:00:00\",\"2020-05-26T00:00:00\",\"2020-05-27T00:00:00\",\"2020-05-28T00:00:00\",\"2020-05-29T00:00:00\",\"2020-06-01T00:00:00\",\"2020-06-02T00:00:00\",\"2020-06-03T00:00:00\",\"2020-06-04T00:00:00\",\"2020-06-05T00:00:00\",\"2020-06-08T00:00:00\",\"2020-06-09T00:00:00\",\"2020-06-10T00:00:00\",\"2020-06-11T00:00:00\",\"2020-06-12T00:00:00\",\"2020-06-15T00:00:00\",\"2020-06-16T00:00:00\",\"2020-06-17T00:00:00\",\"2020-06-18T00:00:00\",\"2020-06-19T00:00:00\",\"2020-06-22T00:00:00\",\"2020-06-23T00:00:00\",\"2020-06-24T00:00:00\",\"2020-06-25T00:00:00\",\"2020-06-26T00:00:00\",\"2020-06-29T00:00:00\",\"2020-06-30T00:00:00\",\"2020-07-01T00:00:00\",\"2020-07-02T00:00:00\",\"2020-07-06T00:00:00\",\"2020-07-07T00:00:00\",\"2020-07-08T00:00:00\",\"2020-07-09T00:00:00\",\"2020-07-10T00:00:00\",\"2020-07-13T00:00:00\",\"2020-07-14T00:00:00\",\"2020-07-15T00:00:00\",\"2020-07-16T00:00:00\",\"2020-07-17T00:00:00\",\"2020-07-20T00:00:00\",\"2020-07-21T00:00:00\",\"2020-07-22T00:00:00\",\"2020-07-23T00:00:00\",\"2020-07-24T00:00:00\",\"2020-07-27T00:00:00\",\"2020-07-28T00:00:00\",\"2020-07-29T00:00:00\",\"2020-07-30T00:00:00\",\"2020-07-31T00:00:00\",\"2020-08-03T00:00:00\",\"2020-08-04T00:00:00\",\"2020-08-05T00:00:00\",\"2020-08-06T00:00:00\",\"2020-08-07T00:00:00\",\"2020-08-10T00:00:00\",\"2020-08-11T00:00:00\",\"2020-08-12T00:00:00\",\"2020-08-13T00:00:00\",\"2020-08-14T00:00:00\",\"2020-08-17T00:00:00\",\"2020-08-18T00:00:00\",\"2020-08-19T00:00:00\",\"2020-08-20T00:00:00\",\"2020-08-21T00:00:00\",\"2020-08-24T00:00:00\",\"2020-08-25T00:00:00\",\"2020-08-26T00:00:00\",\"2020-08-27T00:00:00\",\"2020-08-28T00:00:00\",\"2020-08-31T00:00:00\",\"2020-09-01T00:00:00\",\"2020-09-02T00:00:00\",\"2020-09-03T00:00:00\",\"2020-09-04T00:00:00\",\"2020-09-08T00:00:00\",\"2020-09-09T00:00:00\",\"2020-09-10T00:00:00\",\"2020-09-11T00:00:00\",\"2020-09-14T00:00:00\",\"2020-09-15T00:00:00\",\"2020-09-16T00:00:00\",\"2020-09-17T00:00:00\",\"2020-09-18T00:00:00\",\"2020-09-21T00:00:00\",\"2020-09-22T00:00:00\",\"2020-09-23T00:00:00\",\"2020-09-24T00:00:00\",\"2020-09-25T00:00:00\",\"2020-09-28T00:00:00\",\"2020-09-29T00:00:00\",\"2020-09-30T00:00:00\",\"2020-10-01T00:00:00\",\"2020-10-02T00:00:00\",\"2020-10-05T00:00:00\",\"2020-10-06T00:00:00\",\"2020-10-07T00:00:00\",\"2020-10-08T00:00:00\",\"2020-10-09T00:00:00\",\"2020-10-12T00:00:00\",\"2020-10-13T00:00:00\",\"2020-10-14T00:00:00\",\"2020-10-15T00:00:00\",\"2020-10-16T00:00:00\",\"2020-10-19T00:00:00\",\"2020-10-20T00:00:00\",\"2020-10-21T00:00:00\",\"2020-10-22T00:00:00\",\"2020-10-23T00:00:00\",\"2020-10-26T00:00:00\",\"2020-10-27T00:00:00\",\"2020-10-28T00:00:00\",\"2020-10-29T00:00:00\",\"2020-10-30T00:00:00\",\"2020-11-02T00:00:00\",\"2020-11-03T00:00:00\",\"2020-11-04T00:00:00\",\"2020-11-05T00:00:00\",\"2020-11-06T00:00:00\",\"2020-11-09T00:00:00\",\"2020-11-10T00:00:00\",\"2020-11-11T00:00:00\",\"2020-11-12T00:00:00\",\"2020-11-13T00:00:00\",\"2020-11-16T00:00:00\",\"2020-11-17T00:00:00\",\"2020-11-18T00:00:00\",\"2020-11-19T00:00:00\",\"2020-11-20T00:00:00\",\"2020-11-23T00:00:00\",\"2020-11-24T00:00:00\",\"2020-11-25T00:00:00\",\"2020-11-27T00:00:00\",\"2020-11-30T00:00:00\",\"2020-12-01T00:00:00\",\"2020-12-02T00:00:00\",\"2020-12-03T00:00:00\",\"2020-12-04T00:00:00\",\"2020-12-07T00:00:00\",\"2020-12-08T00:00:00\",\"2020-12-09T00:00:00\",\"2020-12-10T00:00:00\",\"2020-12-11T00:00:00\",\"2020-12-14T00:00:00\",\"2020-12-15T00:00:00\",\"2020-12-16T00:00:00\",\"2020-12-17T00:00:00\",\"2020-12-18T00:00:00\",\"2020-12-21T00:00:00\",\"2020-12-22T00:00:00\",\"2020-12-23T00:00:00\",\"2020-12-24T00:00:00\",\"2020-12-28T00:00:00\",\"2020-12-29T00:00:00\",\"2020-12-30T00:00:00\",\"2020-12-31T00:00:00\",\"2021-01-04T00:00:00\",\"2021-01-05T00:00:00\",\"2021-01-06T00:00:00\",\"2021-01-07T00:00:00\",\"2021-01-08T00:00:00\",\"2021-01-11T00:00:00\",\"2021-01-12T00:00:00\",\"2021-01-13T00:00:00\",\"2021-01-14T00:00:00\",\"2021-01-15T00:00:00\",\"2021-01-19T00:00:00\",\"2021-01-20T00:00:00\",\"2021-01-21T00:00:00\",\"2021-01-22T00:00:00\",\"2021-01-25T00:00:00\",\"2021-01-26T00:00:00\",\"2021-01-27T00:00:00\",\"2021-01-28T00:00:00\",\"2021-01-29T00:00:00\",\"2021-02-01T00:00:00\",\"2021-02-02T00:00:00\",\"2021-02-03T00:00:00\",\"2021-02-04T00:00:00\",\"2021-02-05T00:00:00\",\"2021-02-08T00:00:00\",\"2021-02-09T00:00:00\",\"2021-02-10T00:00:00\",\"2021-02-11T00:00:00\",\"2021-02-12T00:00:00\",\"2021-02-16T00:00:00\",\"2021-02-17T00:00:00\",\"2021-02-18T00:00:00\",\"2021-02-19T00:00:00\",\"2021-02-22T00:00:00\",\"2021-02-23T00:00:00\",\"2021-02-24T00:00:00\",\"2021-02-25T00:00:00\",\"2021-02-26T00:00:00\",\"2021-03-01T00:00:00\",\"2021-03-02T00:00:00\",\"2021-03-03T00:00:00\",\"2021-03-04T00:00:00\",\"2021-03-05T00:00:00\",\"2021-03-08T00:00:00\",\"2021-03-09T00:00:00\",\"2021-03-10T00:00:00\",\"2021-03-11T00:00:00\",\"2021-03-12T00:00:00\",\"2021-03-15T00:00:00\",\"2021-03-16T00:00:00\",\"2021-03-17T00:00:00\",\"2021-03-18T00:00:00\",\"2021-03-19T00:00:00\",\"2021-03-22T00:00:00\",\"2021-03-23T00:00:00\",\"2021-03-24T00:00:00\",\"2021-03-25T00:00:00\",\"2021-03-26T00:00:00\",\"2021-03-29T00:00:00\",\"2021-03-30T00:00:00\",\"2021-03-31T00:00:00\",\"2021-04-01T00:00:00\",\"2021-04-05T00:00:00\",\"2021-04-06T00:00:00\",\"2021-04-07T00:00:00\",\"2021-04-08T00:00:00\",\"2021-04-09T00:00:00\",\"2021-04-12T00:00:00\",\"2021-04-13T00:00:00\",\"2021-04-14T00:00:00\",\"2021-04-15T00:00:00\",\"2021-04-16T00:00:00\",\"2021-04-19T00:00:00\",\"2021-04-20T00:00:00\",\"2021-04-21T00:00:00\",\"2021-04-22T00:00:00\",\"2021-04-23T00:00:00\",\"2021-04-26T00:00:00\",\"2021-04-27T00:00:00\",\"2021-04-28T00:00:00\",\"2021-04-29T00:00:00\",\"2021-04-30T00:00:00\",\"2021-05-03T00:00:00\",\"2021-05-04T00:00:00\",\"2021-05-05T00:00:00\",\"2021-05-06T00:00:00\",\"2021-05-07T00:00:00\",\"2021-05-10T00:00:00\",\"2021-05-11T00:00:00\",\"2021-05-12T00:00:00\",\"2021-05-13T00:00:00\",\"2021-05-14T00:00:00\",\"2021-05-17T00:00:00\",\"2021-05-18T00:00:00\",\"2021-05-19T00:00:00\",\"2021-05-20T00:00:00\",\"2021-05-21T00:00:00\",\"2021-05-24T00:00:00\",\"2021-05-25T00:00:00\",\"2021-05-26T00:00:00\",\"2021-05-27T00:00:00\",\"2021-05-28T00:00:00\",\"2021-06-01T00:00:00\",\"2021-06-02T00:00:00\",\"2021-06-03T00:00:00\",\"2021-06-04T00:00:00\",\"2021-06-07T00:00:00\",\"2021-06-08T00:00:00\",\"2021-06-09T00:00:00\",\"2021-06-10T00:00:00\",\"2021-06-11T00:00:00\"],\"type\":\"ohlc\"}],                        {\"template\":{\"data\":{\"bar\":[{\"error_x\":{\"color\":\"#2a3f5f\"},\"error_y\":{\"color\":\"#2a3f5f\"},\"marker\":{\"line\":{\"color\":\"#E5ECF6\",\"width\":0.5},\"pattern\":{\"fillmode\":\"overlay\",\"size\":10,\"solidity\":0.2}},\"type\":\"bar\"}],\"barpolar\":[{\"marker\":{\"line\":{\"color\":\"#E5ECF6\",\"width\":0.5},\"pattern\":{\"fillmode\":\"overlay\",\"size\":10,\"solidity\":0.2}},\"type\":\"barpolar\"}],\"carpet\":[{\"aaxis\":{\"endlinecolor\":\"#2a3f5f\",\"gridcolor\":\"white\",\"linecolor\":\"white\",\"minorgridcolor\":\"white\",\"startlinecolor\":\"#2a3f5f\"},\"baxis\":{\"endlinecolor\":\"#2a3f5f\",\"gridcolor\":\"white\",\"linecolor\":\"white\",\"minorgridcolor\":\"white\",\"startlinecolor\":\"#2a3f5f\"},\"type\":\"carpet\"}],\"choropleth\":[{\"colorbar\":{\"outlinewidth\":0,\"ticks\":\"\"},\"type\":\"choropleth\"}],\"contour\":[{\"colorbar\":{\"outlinewidth\":0,\"ticks\":\"\"},\"colorscale\":[[0.0,\"#0d0887\"],[0.1111111111111111,\"#46039f\"],[0.2222222222222222,\"#7201a8\"],[0.3333333333333333,\"#9c179e\"],[0.4444444444444444,\"#bd3786\"],[0.5555555555555556,\"#d8576b\"],[0.6666666666666666,\"#ed7953\"],[0.7777777777777778,\"#fb9f3a\"],[0.8888888888888888,\"#fdca26\"],[1.0,\"#f0f921\"]],\"type\":\"contour\"}],\"contourcarpet\":[{\"colorbar\":{\"outlinewidth\":0,\"ticks\":\"\"},\"type\":\"contourcarpet\"}],\"heatmap\":[{\"colorbar\":{\"outlinewidth\":0,\"ticks\":\"\"},\"colorscale\":[[0.0,\"#0d0887\"],[0.1111111111111111,\"#46039f\"],[0.2222222222222222,\"#7201a8\"],[0.3333333333333333,\"#9c179e\"],[0.4444444444444444,\"#bd3786\"],[0.5555555555555556,\"#d8576b\"],[0.6666666666666666,\"#ed7953\"],[0.7777777777777778,\"#fb9f3a\"],[0.8888888888888888,\"#fdca26\"],[1.0,\"#f0f921\"]],\"type\":\"heatmap\"}],\"heatmapgl\":[{\"colorbar\":{\"outlinewidth\":0,\"ticks\":\"\"},\"colorscale\":[[0.0,\"#0d0887\"],[0.1111111111111111,\"#46039f\"],[0.2222222222222222,\"#7201a8\"],[0.3333333333333333,\"#9c179e\"],[0.4444444444444444,\"#bd3786\"],[0.5555555555555556,\"#d8576b\"],[0.6666666666666666,\"#ed7953\"],[0.7777777777777778,\"#fb9f3a\"],[0.8888888888888888,\"#fdca26\"],[1.0,\"#f0f921\"]],\"type\":\"heatmapgl\"}],\"histogram\":[{\"marker\":{\"pattern\":{\"fillmode\":\"overlay\",\"size\":10,\"solidity\":0.2}},\"type\":\"histogram\"}],\"histogram2d\":[{\"colorbar\":{\"outlinewidth\":0,\"ticks\":\"\"},\"colorscale\":[[0.0,\"#0d0887\"],[0.1111111111111111,\"#46039f\"],[0.2222222222222222,\"#7201a8\"],[0.3333333333333333,\"#9c179e\"],[0.4444444444444444,\"#bd3786\"],[0.5555555555555556,\"#d8576b\"],[0.6666666666666666,\"#ed7953\"],[0.7777777777777778,\"#fb9f3a\"],[0.8888888888888888,\"#fdca26\"],[1.0,\"#f0f921\"]],\"type\":\"histogram2d\"}],\"histogram2dcontour\":[{\"colorbar\":{\"outlinewidth\":0,\"ticks\":\"\"},\"colorscale\":[[0.0,\"#0d0887\"],[0.1111111111111111,\"#46039f\"],[0.2222222222222222,\"#7201a8\"],[0.3333333333333333,\"#9c179e\"],[0.4444444444444444,\"#bd3786\"],[0.5555555555555556,\"#d8576b\"],[0.6666666666666666,\"#ed7953\"],[0.7777777777777778,\"#fb9f3a\"],[0.8888888888888888,\"#fdca26\"],[1.0,\"#f0f921\"]],\"type\":\"histogram2dcontour\"}],\"mesh3d\":[{\"colorbar\":{\"outlinewidth\":0,\"ticks\":\"\"},\"type\":\"mesh3d\"}],\"parcoords\":[{\"line\":{\"colorbar\":{\"outlinewidth\":0,\"ticks\":\"\"}},\"type\":\"parcoords\"}],\"pie\":[{\"automargin\":true,\"type\":\"pie\"}],\"scatter\":[{\"marker\":{\"colorbar\":{\"outlinewidth\":0,\"ticks\":\"\"}},\"type\":\"scatter\"}],\"scatter3d\":[{\"line\":{\"colorbar\":{\"outlinewidth\":0,\"ticks\":\"\"}},\"marker\":{\"colorbar\":{\"outlinewidth\":0,\"ticks\":\"\"}},\"type\":\"scatter3d\"}],\"scattercarpet\":[{\"marker\":{\"colorbar\":{\"outlinewidth\":0,\"ticks\":\"\"}},\"type\":\"scattercarpet\"}],\"scattergeo\":[{\"marker\":{\"colorbar\":{\"outlinewidth\":0,\"ticks\":\"\"}},\"type\":\"scattergeo\"}],\"scattergl\":[{\"marker\":{\"colorbar\":{\"outlinewidth\":0,\"ticks\":\"\"}},\"type\":\"scattergl\"}],\"scattermapbox\":[{\"marker\":{\"colorbar\":{\"outlinewidth\":0,\"ticks\":\"\"}},\"type\":\"scattermapbox\"}],\"scatterpolar\":[{\"marker\":{\"colorbar\":{\"outlinewidth\":0,\"ticks\":\"\"}},\"type\":\"scatterpolar\"}],\"scatterpolargl\":[{\"marker\":{\"colorbar\":{\"outlinewidth\":0,\"ticks\":\"\"}},\"type\":\"scatterpolargl\"}],\"scatterternary\":[{\"marker\":{\"colorbar\":{\"outlinewidth\":0,\"ticks\":\"\"}},\"type\":\"scatterternary\"}],\"surface\":[{\"colorbar\":{\"outlinewidth\":0,\"ticks\":\"\"},\"colorscale\":[[0.0,\"#0d0887\"],[0.1111111111111111,\"#46039f\"],[0.2222222222222222,\"#7201a8\"],[0.3333333333333333,\"#9c179e\"],[0.4444444444444444,\"#bd3786\"],[0.5555555555555556,\"#d8576b\"],[0.6666666666666666,\"#ed7953\"],[0.7777777777777778,\"#fb9f3a\"],[0.8888888888888888,\"#fdca26\"],[1.0,\"#f0f921\"]],\"type\":\"surface\"}],\"table\":[{\"cells\":{\"fill\":{\"color\":\"#EBF0F8\"},\"line\":{\"color\":\"white\"}},\"header\":{\"fill\":{\"color\":\"#C8D4E3\"},\"line\":{\"color\":\"white\"}},\"type\":\"table\"}]},\"layout\":{\"annotationdefaults\":{\"arrowcolor\":\"#2a3f5f\",\"arrowhead\":0,\"arrowwidth\":1},\"autotypenumbers\":\"strict\",\"coloraxis\":{\"colorbar\":{\"outlinewidth\":0,\"ticks\":\"\"}},\"colorscale\":{\"diverging\":[[0,\"#8e0152\"],[0.1,\"#c51b7d\"],[0.2,\"#de77ae\"],[0.3,\"#f1b6da\"],[0.4,\"#fde0ef\"],[0.5,\"#f7f7f7\"],[0.6,\"#e6f5d0\"],[0.7,\"#b8e186\"],[0.8,\"#7fbc41\"],[0.9,\"#4d9221\"],[1,\"#276419\"]],\"sequential\":[[0.0,\"#0d0887\"],[0.1111111111111111,\"#46039f\"],[0.2222222222222222,\"#7201a8\"],[0.3333333333333333,\"#9c179e\"],[0.4444444444444444,\"#bd3786\"],[0.5555555555555556,\"#d8576b\"],[0.6666666666666666,\"#ed7953\"],[0.7777777777777778,\"#fb9f3a\"],[0.8888888888888888,\"#fdca26\"],[1.0,\"#f0f921\"]],\"sequentialminus\":[[0.0,\"#0d0887\"],[0.1111111111111111,\"#46039f\"],[0.2222222222222222,\"#7201a8\"],[0.3333333333333333,\"#9c179e\"],[0.4444444444444444,\"#bd3786\"],[0.5555555555555556,\"#d8576b\"],[0.6666666666666666,\"#ed7953\"],[0.7777777777777778,\"#fb9f3a\"],[0.8888888888888888,\"#fdca26\"],[1.0,\"#f0f921\"]]},\"colorway\":[\"#636efa\",\"#EF553B\",\"#00cc96\",\"#ab63fa\",\"#FFA15A\",\"#19d3f3\",\"#FF6692\",\"#B6E880\",\"#FF97FF\",\"#FECB52\"],\"font\":{\"color\":\"#2a3f5f\"},\"geo\":{\"bgcolor\":\"white\",\"lakecolor\":\"white\",\"landcolor\":\"#E5ECF6\",\"showlakes\":true,\"showland\":true,\"subunitcolor\":\"white\"},\"hoverlabel\":{\"align\":\"left\"},\"hovermode\":\"closest\",\"mapbox\":{\"style\":\"light\"},\"paper_bgcolor\":\"white\",\"plot_bgcolor\":\"#E5ECF6\",\"polar\":{\"angularaxis\":{\"gridcolor\":\"white\",\"linecolor\":\"white\",\"ticks\":\"\"},\"bgcolor\":\"#E5ECF6\",\"radialaxis\":{\"gridcolor\":\"white\",\"linecolor\":\"white\",\"ticks\":\"\"}},\"scene\":{\"xaxis\":{\"backgroundcolor\":\"#E5ECF6\",\"gridcolor\":\"white\",\"gridwidth\":2,\"linecolor\":\"white\",\"showbackground\":true,\"ticks\":\"\",\"zerolinecolor\":\"white\"},\"yaxis\":{\"backgroundcolor\":\"#E5ECF6\",\"gridcolor\":\"white\",\"gridwidth\":2,\"linecolor\":\"white\",\"showbackground\":true,\"ticks\":\"\",\"zerolinecolor\":\"white\"},\"zaxis\":{\"backgroundcolor\":\"#E5ECF6\",\"gridcolor\":\"white\",\"gridwidth\":2,\"linecolor\":\"white\",\"showbackground\":true,\"ticks\":\"\",\"zerolinecolor\":\"white\"}},\"shapedefaults\":{\"line\":{\"color\":\"#2a3f5f\"}},\"ternary\":{\"aaxis\":{\"gridcolor\":\"white\",\"linecolor\":\"white\",\"ticks\":\"\"},\"baxis\":{\"gridcolor\":\"white\",\"linecolor\":\"white\",\"ticks\":\"\"},\"bgcolor\":\"#E5ECF6\",\"caxis\":{\"gridcolor\":\"white\",\"linecolor\":\"white\",\"ticks\":\"\"}},\"title\":{\"x\":0.05},\"xaxis\":{\"automargin\":true,\"gridcolor\":\"white\",\"linecolor\":\"white\",\"ticks\":\"\",\"title\":{\"standoff\":15},\"zerolinecolor\":\"white\",\"zerolinewidth\":2},\"yaxis\":{\"automargin\":true,\"gridcolor\":\"white\",\"linecolor\":\"white\",\"ticks\":\"\",\"title\":{\"standoff\":15},\"zerolinecolor\":\"white\",\"zerolinewidth\":2}}}},                        {\"responsive\": true}                    ).then(function(){\n",
              "                            \n",
              "var gd = document.getElementById('30dabbcc-6057-44c2-a5bc-0ad3ecbf1af5');\n",
              "var x = new MutationObserver(function (mutations, observer) {{\n",
              "        var display = window.getComputedStyle(gd).display;\n",
              "        if (!display || display === 'none') {{\n",
              "            console.log([gd, 'removed!']);\n",
              "            Plotly.purge(gd);\n",
              "            observer.disconnect();\n",
              "        }}\n",
              "}});\n",
              "\n",
              "// Listen for the removal of the full notebook cells\n",
              "var notebookContainer = gd.closest('#notebook-container');\n",
              "if (notebookContainer) {{\n",
              "    x.observe(notebookContainer, {childList: true});\n",
              "}}\n",
              "\n",
              "// Listen for the clearing of the current output cell\n",
              "var outputEl = gd.closest('.output');\n",
              "if (outputEl) {{\n",
              "    x.observe(outputEl, {childList: true});\n",
              "}}\n",
              "\n",
              "                        })                };                            </script>        </div>\n",
              "</body>\n",
              "</html>"
            ]
          },
          "metadata": {},
          "output_type": "display_data"
        },
        {
          "data": {
            "text/plain": [
              "<Figure size 1080x1080 with 0 Axes>"
            ]
          },
          "metadata": {},
          "output_type": "display_data"
        }
      ],
      "source": [
        "fig = plt.figure(figsize=(15,15))\n",
        "fo = go.Figure(data=go.Ohlc(x=stock['Date'],open=stock['Open'],high=stock['High'],low=stock['Low'],close=stock['Close']))\n",
        "fo.show()"
      ]
    },
    {
      "cell_type": "markdown",
      "metadata": {
        "id": "OhOWjrqEkJn8"
      },
      "source": [
        "**Last 5 years graph**"
      ]
    },
    {
      "cell_type": "code",
      "execution_count": null,
      "metadata": {
        "colab": {
          "base_uri": "https://localhost:8080/",
          "height": 596
        },
        "id": "SPb2W4-Wi0rv",
        "outputId": "71843e88-01d9-44d5-f211-d09935b664b5"
      },
      "outputs": [
        {
          "data": {
            "text/plain": [
              "<matplotlib.axes._subplots.AxesSubplot at 0x7f96980f1f10>"
            ]
          },
          "execution_count": 15,
          "metadata": {},
          "output_type": "execute_result"
        },
        {
          "data": {
            "image/png": "[encoded data removed]",
            "text/plain": [
              "<Figure size 1080x720 with 1 Axes>"
            ]
          },
          "metadata": {},
          "output_type": "display_data"
        }
      ],
      "source": [
        "fig = plt.figure(figsize=(15,10))\n",
        "ticker = yf.Ticker('AAPL')\n",
        "aapl_df = ticker.history(period='5y')\n",
        "aapl_df['Close'].plot(title='Stock price')"
      ]
    },
    {
      "cell_type": "code",
      "execution_count": null,
      "metadata": {
        "colab": {
          "base_uri": "https://localhost:8080/",
          "height": 610
        },
        "id": "hqFNz5s4_AfV",
        "outputId": "86c5eb01-7a42-4d34-e62e-a6ccbdd90a01"
      },
      "outputs": [
        {
          "data": {
            "text/plain": [
              "<matplotlib.collections.PathCollection at 0x7f96969ad8d0>"
            ]
          },
          "execution_count": 16,
          "metadata": {},
          "output_type": "execute_result"
        },
        {
          "data": {
            "image/png": "[encoded data removed]",
            "text/plain": [
              "<Figure size 1080x720 with 1 Axes>"
            ]
          },
          "metadata": {},
          "output_type": "display_data"
        }
      ],
      "source": [
        "fig = plt.figure(figsize=(15,10))\n",
        "plt.scatter(stock.Date,stock.Close)"
      ]
    },
    {
      "cell_type": "markdown",
      "metadata": {
        "id": "KRVDhAIfnC_D"
      },
      "source": [
        "**Relevant informationt**"
      ]
    },
    {
      "cell_type": "code",
      "execution_count": null,
      "metadata": {
        "colab": {
          "base_uri": "https://localhost:8080/",
          "height": 739
        },
        "id": "99vKxGh1kDLJ",
        "outputId": "4aaba5ea-01b0-4403-bc2d-637020ca3158"
      },
      "outputs": [
        {
          "data": {
            "text/html": [
              "\n",
              "  <div id=\"df-f933d62f-7968-4dd9-a3d5-b0797a07bdcb\">\n",
              "    <div class=\"colab-df-container\">\n",
              "      <div>\n",
              "<style scoped>\n",
              "    .dataframe tbody tr th:only-of-type {\n",
              "        vertical-align: middle;\n",
              "    }\n",
              "\n",
              "    .dataframe tbody tr th {\n",
              "        vertical-align: top;\n",
              "    }\n",
              "\n",
              "    .dataframe thead th {\n",
              "        text-align: right;\n",
              "    }\n",
              "</style>\n",
              "<table border=\"1\" class=\"dataframe\">\n",
              "  <thead>\n",
              "    <tr style=\"text-align: right;\">\n",
              "      <th></th>\n",
              "      <th>Dividends</th>\n",
              "      <th>Stock Splits</th>\n",
              "    </tr>\n",
              "    <tr>\n",
              "      <th>Date</th>\n",
              "      <th></th>\n",
              "      <th></th>\n",
              "    </tr>\n",
              "  </thead>\n",
              "  <tbody>\n",
              "    <tr>\n",
              "      <th>2017-05-11</th>\n",
              "      <td>0.1575</td>\n",
              "      <td>0.0</td>\n",
              "    </tr>\n",
              "    <tr>\n",
              "      <th>2017-08-10</th>\n",
              "      <td>0.1575</td>\n",
              "      <td>0.0</td>\n",
              "    </tr>\n",
              "    <tr>\n",
              "      <th>2017-11-10</th>\n",
              "      <td>0.1575</td>\n",
              "      <td>0.0</td>\n",
              "    </tr>\n",
              "    <tr>\n",
              "      <th>2018-02-09</th>\n",
              "      <td>0.1575</td>\n",
              "      <td>0.0</td>\n",
              "    </tr>\n",
              "    <tr>\n",
              "      <th>2018-05-11</th>\n",
              "      <td>0.1825</td>\n",
              "      <td>0.0</td>\n",
              "    </tr>\n",
              "    <tr>\n",
              "      <th>2018-08-10</th>\n",
              "      <td>0.1825</td>\n",
              "      <td>0.0</td>\n",
              "    </tr>\n",
              "    <tr>\n",
              "      <th>2018-11-08</th>\n",
              "      <td>0.1825</td>\n",
              "      <td>0.0</td>\n",
              "    </tr>\n",
              "    <tr>\n",
              "      <th>2019-02-08</th>\n",
              "      <td>0.1825</td>\n",
              "      <td>0.0</td>\n",
              "    </tr>\n",
              "    <tr>\n",
              "      <th>2019-05-10</th>\n",
              "      <td>0.1925</td>\n",
              "      <td>0.0</td>\n",
              "    </tr>\n",
              "    <tr>\n",
              "      <th>2019-08-09</th>\n",
              "      <td>0.1925</td>\n",
              "      <td>0.0</td>\n",
              "    </tr>\n",
              "    <tr>\n",
              "      <th>2019-11-07</th>\n",
              "      <td>0.1925</td>\n",
              "      <td>0.0</td>\n",
              "    </tr>\n",
              "    <tr>\n",
              "      <th>2020-02-07</th>\n",
              "      <td>0.1925</td>\n",
              "      <td>0.0</td>\n",
              "    </tr>\n",
              "    <tr>\n",
              "      <th>2020-05-08</th>\n",
              "      <td>0.2050</td>\n",
              "      <td>0.0</td>\n",
              "    </tr>\n",
              "    <tr>\n",
              "      <th>2020-08-07</th>\n",
              "      <td>0.2050</td>\n",
              "      <td>0.0</td>\n",
              "    </tr>\n",
              "    <tr>\n",
              "      <th>2020-08-31</th>\n",
              "      <td>0.0000</td>\n",
              "      <td>4.0</td>\n",
              "    </tr>\n",
              "    <tr>\n",
              "      <th>2020-11-06</th>\n",
              "      <td>0.2050</td>\n",
              "      <td>0.0</td>\n",
              "    </tr>\n",
              "    <tr>\n",
              "      <th>2021-02-05</th>\n",
              "      <td>0.2050</td>\n",
              "      <td>0.0</td>\n",
              "    </tr>\n",
              "    <tr>\n",
              "      <th>2021-05-07</th>\n",
              "      <td>0.2200</td>\n",
              "      <td>0.0</td>\n",
              "    </tr>\n",
              "    <tr>\n",
              "      <th>2021-08-06</th>\n",
              "      <td>0.2200</td>\n",
              "      <td>0.0</td>\n",
              "    </tr>\n",
              "    <tr>\n",
              "      <th>2021-11-05</th>\n",
              "      <td>0.2200</td>\n",
              "      <td>0.0</td>\n",
              "    </tr>\n",
              "    <tr>\n",
              "      <th>2022-02-04</th>\n",
              "      <td>0.2200</td>\n",
              "      <td>0.0</td>\n",
              "    </tr>\n",
              "  </tbody>\n",
              "</table>\n",
              "</div>\n",
              "      <button class=\"colab-df-convert\" onclick=\"convertToInteractive('df-f933d62f-7968-4dd9-a3d5-b0797a07bdcb')\"\n",
              "              title=\"Convert this dataframe to an interactive table.\"\n",
              "              style=\"display:none;\">\n",
              "        \n",
              "  <svg xmlns=\"http://www.w3.org/2000/svg\" height=\"24px\"viewBox=\"0 0 24 24\"\n",
              "       width=\"24px\">\n",
              "    <path d=\"M0 0h24v24H0V0z\" fill=\"none\"/>\n",
              "    <path d=\"M18.56 5.44l.94 2.06.94-2.06 2.06-.94-2.06-.94-.94-2.06-.94 2.06-2.06.94zm-11 1L8.5 8.5l.94-2.06 2.06-.94-2.06-.94L8.5 2.5l-.94 2.06-2.06.94zm10 10l.94 2.06.94-2.06 2.06-.94-2.06-.94-.94-2.06-.94 2.06-2.06.94z\"/><path d=\"M17.41 7.96l-1.37-1.37c-.4-.4-.92-.59-1.43-.59-.52 0-1.04.2-1.43.59L10.3 9.45l-7.72 7.72c-.78.78-.78 2.05 0 2.83L4 21.41c.39.39.9.59 1.41.59.51 0 1.02-.2 1.41-.59l7.78-7.78 2.81-2.81c.8-.78.8-2.07 0-2.86zM5.41 20L4 18.59l7.72-7.72 1.47 1.35L5.41 20z\"/>\n",
              "  </svg>\n",
              "      </button>\n",
              "      \n",
              "  <style>\n",
              "    .colab-df-container {\n",
              "      display:flex;\n",
              "      flex-wrap:wrap;\n",
              "      gap: 12px;\n",
              "    }\n",
              "\n",
              "    .colab-df-convert {\n",
              "      background-color: #E8F0FE;\n",
              "      border: none;\n",
              "      border-radius: 50%;\n",
              "      cursor: pointer;\n",
              "      display: none;\n",
              "      fill: #1967D2;\n",
              "      height: 32px;\n",
              "      padding: 0 0 0 0;\n",
              "      width: 32px;\n",
              "    }\n",
              "\n",
              "    .colab-df-convert:hover {\n",
              "      background-color: #E2EBFA;\n",
              "      box-shadow: 0px 1px 2px rgba(60, 64, 67, 0.3), 0px 1px 3px 1px rgba(60, 64, 67, 0.15);\n",
              "      fill: #174EA6;\n",
              "    }\n",
              "\n",
              "    [theme=dark] .colab-df-convert {\n",
              "      background-color: #3B4455;\n",
              "      fill: #D2E3FC;\n",
              "    }\n",
              "\n",
              "    [theme=dark] .colab-df-convert:hover {\n",
              "      background-color: #434B5C;\n",
              "      box-shadow: 0px 1px 3px 1px rgba(0, 0, 0, 0.15);\n",
              "      filter: drop-shadow(0px 1px 2px rgba(0, 0, 0, 0.3));\n",
              "      fill: #FFFFFF;\n",
              "    }\n",
              "  </style>\n",
              "\n",
              "      <script>\n",
              "        const buttonEl =\n",
              "          document.querySelector('#df-f933d62f-7968-4dd9-a3d5-b0797a07bdcb button.colab-df-convert');\n",
              "        buttonEl.style.display =\n",
              "          google.colab.kernel.accessAllowed ? 'block' : 'none';\n",
              "\n",
              "        async function convertToInteractive(key) {\n",
              "          const element = document.querySelector('#df-f933d62f-7968-4dd9-a3d5-b0797a07bdcb');\n",
              "          const dataTable =\n",
              "            await google.colab.kernel.invokeFunction('convertToInteractive',\n",
              "                                                     [key], {});\n",
              "          if (!dataTable) return;\n",
              "\n",
              "          const docLinkHtml = 'Like what you see? Visit the ' +\n",
              "            '<a target=\"_blank\" href=https://colab.research.google.com/notebooks/data_table.ipynb>data table notebook</a>'\n",
              "            + ' to learn more about interactive tables.';\n",
              "          element.innerHTML = '';\n",
              "          dataTable['output_type'] = 'display_data';\n",
              "          await google.colab.output.renderOutput(dataTable, element);\n",
              "          const docLink = document.createElement('div');\n",
              "          docLink.innerHTML = docLinkHtml;\n",
              "          element.appendChild(docLink);\n",
              "        }\n",
              "      </script>\n",
              "    </div>\n",
              "  </div>\n",
              "  "
            ],
            "text/plain": [
              "            Dividends  Stock Splits\n",
              "Date                               \n",
              "2017-05-11     0.1575           0.0\n",
              "2017-08-10     0.1575           0.0\n",
              "2017-11-10     0.1575           0.0\n",
              "2018-02-09     0.1575           0.0\n",
              "2018-05-11     0.1825           0.0\n",
              "2018-08-10     0.1825           0.0\n",
              "2018-11-08     0.1825           0.0\n",
              "2019-02-08     0.1825           0.0\n",
              "2019-05-10     0.1925           0.0\n",
              "2019-08-09     0.1925           0.0\n",
              "2019-11-07     0.1925           0.0\n",
              "2020-02-07     0.1925           0.0\n",
              "2020-05-08     0.2050           0.0\n",
              "2020-08-07     0.2050           0.0\n",
              "2020-08-31     0.0000           4.0\n",
              "2020-11-06     0.2050           0.0\n",
              "2021-02-05     0.2050           0.0\n",
              "2021-05-07     0.2200           0.0\n",
              "2021-08-06     0.2200           0.0\n",
              "2021-11-05     0.2200           0.0\n",
              "2022-02-04     0.2200           0.0"
            ]
          },
          "execution_count": 17,
          "metadata": {},
          "output_type": "execute_result"
        }
      ],
      "source": [
        "ticker.actions"
      ]
    },
    {
      "cell_type": "code",
      "execution_count": null,
      "metadata": {
        "colab": {
          "base_uri": "https://localhost:8080/"
        },
        "id": "nM_-GrZMkcy0",
        "outputId": "c30fbbe9-755b-4106-c1ae-c4da47fcbfda"
      },
      "outputs": [
        {
          "data": {
            "text/plain": [
              "Date\n",
              "2017-05-11    0.1575\n",
              "2017-08-10    0.1575\n",
              "2017-11-10    0.1575\n",
              "2018-02-09    0.1575\n",
              "2018-05-11    0.1825\n",
              "2018-08-10    0.1825\n",
              "2018-11-08    0.1825\n",
              "2019-02-08    0.1825\n",
              "2019-05-10    0.1925\n",
              "2019-08-09    0.1925\n",
              "2019-11-07    0.1925\n",
              "2020-02-07    0.1925\n",
              "2020-05-08    0.2050\n",
              "2020-08-07    0.2050\n",
              "2020-11-06    0.2050\n",
              "2021-02-05    0.2050\n",
              "2021-05-07    0.2200\n",
              "2021-08-06    0.2200\n",
              "2021-11-05    0.2200\n",
              "2022-02-04    0.2200\n",
              "Name: Dividends, dtype: float64"
            ]
          },
          "execution_count": 20,
          "metadata": {},
          "output_type": "execute_result"
        }
      ],
      "source": [
        "ticker.dividends"
      ]
    },
    {
      "cell_type": "code",
      "execution_count": null,
      "metadata": {
        "colab": {
          "base_uri": "https://localhost:8080/"
        },
        "id": "5ZhyTNInleoS",
        "outputId": "adfe7888-8759-49b7-d442-738e6c07d4ea"
      },
      "outputs": [
        {
          "data": {
            "text/plain": [
              "Date\n",
              "2020-08-31    4.0\n",
              "Name: Stock Splits, dtype: float64"
            ]
          },
          "execution_count": 18,
          "metadata": {},
          "output_type": "execute_result"
        }
      ],
      "source": [
        "ticker.splits"
      ]
    },
    {
      "cell_type": "code",
      "execution_count": null,
      "metadata": {
        "colab": {
          "base_uri": "https://localhost:8080/",
          "height": 927
        },
        "id": "8LZLbhMTljwp",
        "outputId": "7338a9f9-0be3-49c6-fd3e-ef875be7491f"
      },
      "outputs": [
        {
          "data": {
            "text/html": [
              "\n",
              "  <div id=\"df-b53f891b-b6cb-45c7-bb75-ec005c584acd\">\n",
              "    <div class=\"colab-df-container\">\n",
              "      <div>\n",
              "<style scoped>\n",
              "    .dataframe tbody tr th:only-of-type {\n",
              "        vertical-align: middle;\n",
              "    }\n",
              "\n",
              "    .dataframe tbody tr th {\n",
              "        vertical-align: top;\n",
              "    }\n",
              "\n",
              "    .dataframe thead th {\n",
              "        text-align: right;\n",
              "    }\n",
              "</style>\n",
              "<table border=\"1\" class=\"dataframe\">\n",
              "  <thead>\n",
              "    <tr style=\"text-align: right;\">\n",
              "      <th></th>\n",
              "      <th>Value</th>\n",
              "    </tr>\n",
              "    <tr>\n",
              "      <th>2022-2</th>\n",
              "      <th></th>\n",
              "    </tr>\n",
              "  </thead>\n",
              "  <tbody>\n",
              "    <tr>\n",
              "      <th>palmOil</th>\n",
              "      <td>False</td>\n",
              "    </tr>\n",
              "    <tr>\n",
              "      <th>controversialWeapons</th>\n",
              "      <td>False</td>\n",
              "    </tr>\n",
              "    <tr>\n",
              "      <th>gambling</th>\n",
              "      <td>False</td>\n",
              "    </tr>\n",
              "    <tr>\n",
              "      <th>socialScore</th>\n",
              "      <td>6.86</td>\n",
              "    </tr>\n",
              "    <tr>\n",
              "      <th>nuclear</th>\n",
              "      <td>False</td>\n",
              "    </tr>\n",
              "    <tr>\n",
              "      <th>furLeather</th>\n",
              "      <td>False</td>\n",
              "    </tr>\n",
              "    <tr>\n",
              "      <th>alcoholic</th>\n",
              "      <td>False</td>\n",
              "    </tr>\n",
              "    <tr>\n",
              "      <th>gmo</th>\n",
              "      <td>False</td>\n",
              "    </tr>\n",
              "    <tr>\n",
              "      <th>catholic</th>\n",
              "      <td>False</td>\n",
              "    </tr>\n",
              "    <tr>\n",
              "      <th>socialPercentile</th>\n",
              "      <td>None</td>\n",
              "    </tr>\n",
              "    <tr>\n",
              "      <th>peerCount</th>\n",
              "      <td>55</td>\n",
              "    </tr>\n",
              "    <tr>\n",
              "      <th>governanceScore</th>\n",
              "      <td>8.76</td>\n",
              "    </tr>\n",
              "    <tr>\n",
              "      <th>environmentPercentile</th>\n",
              "      <td>None</td>\n",
              "    </tr>\n",
              "    <tr>\n",
              "      <th>animalTesting</th>\n",
              "      <td>False</td>\n",
              "    </tr>\n",
              "    <tr>\n",
              "      <th>tobacco</th>\n",
              "      <td>False</td>\n",
              "    </tr>\n",
              "    <tr>\n",
              "      <th>totalEsg</th>\n",
              "      <td>16.27</td>\n",
              "    </tr>\n",
              "    <tr>\n",
              "      <th>highestControversy</th>\n",
              "      <td>3</td>\n",
              "    </tr>\n",
              "    <tr>\n",
              "      <th>esgPerformance</th>\n",
              "      <td>UNDER_PERF</td>\n",
              "    </tr>\n",
              "    <tr>\n",
              "      <th>coal</th>\n",
              "      <td>False</td>\n",
              "    </tr>\n",
              "    <tr>\n",
              "      <th>pesticides</th>\n",
              "      <td>False</td>\n",
              "    </tr>\n",
              "    <tr>\n",
              "      <th>adult</th>\n",
              "      <td>False</td>\n",
              "    </tr>\n",
              "    <tr>\n",
              "      <th>percentile</th>\n",
              "      <td>12.87</td>\n",
              "    </tr>\n",
              "    <tr>\n",
              "      <th>peerGroup</th>\n",
              "      <td>Technology Hardware</td>\n",
              "    </tr>\n",
              "    <tr>\n",
              "      <th>smallArms</th>\n",
              "      <td>False</td>\n",
              "    </tr>\n",
              "    <tr>\n",
              "      <th>environmentScore</th>\n",
              "      <td>0.65</td>\n",
              "    </tr>\n",
              "    <tr>\n",
              "      <th>governancePercentile</th>\n",
              "      <td>None</td>\n",
              "    </tr>\n",
              "    <tr>\n",
              "      <th>militaryContract</th>\n",
              "      <td>False</td>\n",
              "    </tr>\n",
              "  </tbody>\n",
              "</table>\n",
              "</div>\n",
              "      <button class=\"colab-df-convert\" onclick=\"convertToInteractive('df-b53f891b-b6cb-45c7-bb75-ec005c584acd')\"\n",
              "              title=\"Convert this dataframe to an interactive table.\"\n",
              "              style=\"display:none;\">\n",
              "        \n",
              "  <svg xmlns=\"http://www.w3.org/2000/svg\" height=\"24px\"viewBox=\"0 0 24 24\"\n",
              "       width=\"24px\">\n",
              "    <path d=\"M0 0h24v24H0V0z\" fill=\"none\"/>\n",
              "    <path d=\"M18.56 5.44l.94 2.06.94-2.06 2.06-.94-2.06-.94-.94-2.06-.94 2.06-2.06.94zm-11 1L8.5 8.5l.94-2.06 2.06-.94-2.06-.94L8.5 2.5l-.94 2.06-2.06.94zm10 10l.94 2.06.94-2.06 2.06-.94-2.06-.94-.94-2.06-.94 2.06-2.06.94z\"/><path d=\"M17.41 7.96l-1.37-1.37c-.4-.4-.92-.59-1.43-.59-.52 0-1.04.2-1.43.59L10.3 9.45l-7.72 7.72c-.78.78-.78 2.05 0 2.83L4 21.41c.39.39.9.59 1.41.59.51 0 1.02-.2 1.41-.59l7.78-7.78 2.81-2.81c.8-.78.8-2.07 0-2.86zM5.41 20L4 18.59l7.72-7.72 1.47 1.35L5.41 20z\"/>\n",
              "  </svg>\n",
              "      </button>\n",
              "      \n",
              "  <style>\n",
              "    .colab-df-container {\n",
              "      display:flex;\n",
              "      flex-wrap:wrap;\n",
              "      gap: 12px;\n",
              "    }\n",
              "\n",
              "    .colab-df-convert {\n",
              "      background-color: #E8F0FE;\n",
              "      border: none;\n",
              "      border-radius: 50%;\n",
              "      cursor: pointer;\n",
              "      display: none;\n",
              "      fill: #1967D2;\n",
              "      height: 32px;\n",
              "      padding: 0 0 0 0;\n",
              "      width: 32px;\n",
              "    }\n",
              "\n",
              "    .colab-df-convert:hover {\n",
              "      background-color: #E2EBFA;\n",
              "      box-shadow: 0px 1px 2px rgba(60, 64, 67, 0.3), 0px 1px 3px 1px rgba(60, 64, 67, 0.15);\n",
              "      fill: #174EA6;\n",
              "    }\n",
              "\n",
              "    [theme=dark] .colab-df-convert {\n",
              "      background-color: #3B4455;\n",
              "      fill: #D2E3FC;\n",
              "    }\n",
              "\n",
              "    [theme=dark] .colab-df-convert:hover {\n",
              "      background-color: #434B5C;\n",
              "      box-shadow: 0px 1px 3px 1px rgba(0, 0, 0, 0.15);\n",
              "      filter: drop-shadow(0px 1px 2px rgba(0, 0, 0, 0.3));\n",
              "      fill: #FFFFFF;\n",
              "    }\n",
              "  </style>\n",
              "\n",
              "      <script>\n",
              "        const buttonEl =\n",
              "          document.querySelector('#df-b53f891b-b6cb-45c7-bb75-ec005c584acd button.colab-df-convert');\n",
              "        buttonEl.style.display =\n",
              "          google.colab.kernel.accessAllowed ? 'block' : 'none';\n",
              "\n",
              "        async function convertToInteractive(key) {\n",
              "          const element = document.querySelector('#df-b53f891b-b6cb-45c7-bb75-ec005c584acd');\n",
              "          const dataTable =\n",
              "            await google.colab.kernel.invokeFunction('convertToInteractive',\n",
              "                                                     [key], {});\n",
              "          if (!dataTable) return;\n",
              "\n",
              "          const docLinkHtml = 'Like what you see? Visit the ' +\n",
              "            '<a target=\"_blank\" href=https://colab.research.google.com/notebooks/data_table.ipynb>data table notebook</a>'\n",
              "            + ' to learn more about interactive tables.';\n",
              "          element.innerHTML = '';\n",
              "          dataTable['output_type'] = 'display_data';\n",
              "          await google.colab.output.renderOutput(dataTable, element);\n",
              "          const docLink = document.createElement('div');\n",
              "          docLink.innerHTML = docLinkHtml;\n",
              "          element.appendChild(docLink);\n",
              "        }\n",
              "      </script>\n",
              "    </div>\n",
              "  </div>\n",
              "  "
            ],
            "text/plain": [
              "                                     Value\n",
              "2022-2                                    \n",
              "palmOil                              False\n",
              "controversialWeapons                 False\n",
              "gambling                             False\n",
              "socialScore                           6.86\n",
              "nuclear                              False\n",
              "furLeather                           False\n",
              "alcoholic                            False\n",
              "gmo                                  False\n",
              "catholic                             False\n",
              "socialPercentile                      None\n",
              "peerCount                               55\n",
              "governanceScore                       8.76\n",
              "environmentPercentile                 None\n",
              "animalTesting                        False\n",
              "tobacco                              False\n",
              "totalEsg                             16.27\n",
              "highestControversy                       3\n",
              "esgPerformance                  UNDER_PERF\n",
              "coal                                 False\n",
              "pesticides                           False\n",
              "adult                                False\n",
              "percentile                           12.87\n",
              "peerGroup              Technology Hardware\n",
              "smallArms                            False\n",
              "environmentScore                      0.65\n",
              "governancePercentile                  None\n",
              "militaryContract                     False"
            ]
          },
          "execution_count": 22,
          "metadata": {},
          "output_type": "execute_result"
        }
      ],
      "source": [
        "ticker.sustainability  #display the sustanabilty"
      ]
    },
    {
      "cell_type": "code",
      "execution_count": null,
      "metadata": {
        "colab": {
          "base_uri": "https://localhost:8080/",
          "height": 455
        },
        "id": "qtlZuQcwlyUs",
        "outputId": "e66d5b7b-11d7-43f1-f247-4f2ff843fde4"
      },
      "outputs": [
        {
          "data": {
            "text/html": [
              "\n",
              "  <div id=\"df-6f27953f-2e24-4c66-ab90-42eb618da015\">\n",
              "    <div class=\"colab-df-container\">\n",
              "      <div>\n",
              "<style scoped>\n",
              "    .dataframe tbody tr th:only-of-type {\n",
              "        vertical-align: middle;\n",
              "    }\n",
              "\n",
              "    .dataframe tbody tr th {\n",
              "        vertical-align: top;\n",
              "    }\n",
              "\n",
              "    .dataframe thead th {\n",
              "        text-align: right;\n",
              "    }\n",
              "</style>\n",
              "<table border=\"1\" class=\"dataframe\">\n",
              "  <thead>\n",
              "    <tr style=\"text-align: right;\">\n",
              "      <th></th>\n",
              "      <th>Firm</th>\n",
              "      <th>To Grade</th>\n",
              "      <th>From Grade</th>\n",
              "      <th>Action</th>\n",
              "    </tr>\n",
              "    <tr>\n",
              "      <th>Date</th>\n",
              "      <th></th>\n",
              "      <th></th>\n",
              "      <th></th>\n",
              "      <th></th>\n",
              "    </tr>\n",
              "  </thead>\n",
              "  <tbody>\n",
              "    <tr>\n",
              "      <th>2012-02-09 08:17:00</th>\n",
              "      <td>Canaccord Genuity</td>\n",
              "      <td>Buy</td>\n",
              "      <td></td>\n",
              "      <td>main</td>\n",
              "    </tr>\n",
              "    <tr>\n",
              "      <th>2012-03-08 07:33:00</th>\n",
              "      <td>FBN Securities</td>\n",
              "      <td>Outperform</td>\n",
              "      <td></td>\n",
              "      <td>main</td>\n",
              "    </tr>\n",
              "    <tr>\n",
              "      <th>2012-03-13 06:08:00</th>\n",
              "      <td>Jefferies</td>\n",
              "      <td>Buy</td>\n",
              "      <td></td>\n",
              "      <td>main</td>\n",
              "    </tr>\n",
              "    <tr>\n",
              "      <th>2012-03-14 06:13:00</th>\n",
              "      <td>Morgan Stanley</td>\n",
              "      <td>Overweight</td>\n",
              "      <td></td>\n",
              "      <td>main</td>\n",
              "    </tr>\n",
              "    <tr>\n",
              "      <th>2012-03-14 08:21:00</th>\n",
              "      <td>Canaccord Genuity</td>\n",
              "      <td>Buy</td>\n",
              "      <td></td>\n",
              "      <td>main</td>\n",
              "    </tr>\n",
              "    <tr>\n",
              "      <th>...</th>\n",
              "      <td>...</td>\n",
              "      <td>...</td>\n",
              "      <td>...</td>\n",
              "      <td>...</td>\n",
              "    </tr>\n",
              "    <tr>\n",
              "      <th>2022-01-28 13:01:39</th>\n",
              "      <td>Deutsche Bank</td>\n",
              "      <td>Buy</td>\n",
              "      <td></td>\n",
              "      <td>main</td>\n",
              "    </tr>\n",
              "    <tr>\n",
              "      <th>2022-01-28 14:19:01</th>\n",
              "      <td>New Street Research</td>\n",
              "      <td>Neutral</td>\n",
              "      <td>Sell</td>\n",
              "      <td>up</td>\n",
              "    </tr>\n",
              "    <tr>\n",
              "      <th>2022-01-28 15:10:56</th>\n",
              "      <td>Oppenheimer</td>\n",
              "      <td>Outperform</td>\n",
              "      <td></td>\n",
              "      <td>main</td>\n",
              "    </tr>\n",
              "    <tr>\n",
              "      <th>2022-01-31 15:44:19</th>\n",
              "      <td>Credit Suisse</td>\n",
              "      <td>Neutral</td>\n",
              "      <td></td>\n",
              "      <td>main</td>\n",
              "    </tr>\n",
              "    <tr>\n",
              "      <th>2022-02-15 15:31:58</th>\n",
              "      <td>Tigress Financial</td>\n",
              "      <td>Strong Buy</td>\n",
              "      <td></td>\n",
              "      <td>main</td>\n",
              "    </tr>\n",
              "  </tbody>\n",
              "</table>\n",
              "<p>830 rows × 4 columns</p>\n",
              "</div>\n",
              "      <button class=\"colab-df-convert\" onclick=\"convertToInteractive('df-6f27953f-2e24-4c66-ab90-42eb618da015')\"\n",
              "              title=\"Convert this dataframe to an interactive table.\"\n",
              "              style=\"display:none;\">\n",
              "        \n",
              "  <svg xmlns=\"http://www.w3.org/2000/svg\" height=\"24px\"viewBox=\"0 0 24 24\"\n",
              "       width=\"24px\">\n",
              "    <path d=\"M0 0h24v24H0V0z\" fill=\"none\"/>\n",
              "    <path d=\"M18.56 5.44l.94 2.06.94-2.06 2.06-.94-2.06-.94-.94-2.06-.94 2.06-2.06.94zm-11 1L8.5 8.5l.94-2.06 2.06-.94-2.06-.94L8.5 2.5l-.94 2.06-2.06.94zm10 10l.94 2.06.94-2.06 2.06-.94-2.06-.94-.94-2.06-.94 2.06-2.06.94z\"/><path d=\"M17.41 7.96l-1.37-1.37c-.4-.4-.92-.59-1.43-.59-.52 0-1.04.2-1.43.59L10.3 9.45l-7.72 7.72c-.78.78-.78 2.05 0 2.83L4 21.41c.39.39.9.59 1.41.59.51 0 1.02-.2 1.41-.59l7.78-7.78 2.81-2.81c.8-.78.8-2.07 0-2.86zM5.41 20L4 18.59l7.72-7.72 1.47 1.35L5.41 20z\"/>\n",
              "  </svg>\n",
              "      </button>\n",
              "      \n",
              "  <style>\n",
              "    .colab-df-container {\n",
              "      display:flex;\n",
              "      flex-wrap:wrap;\n",
              "      gap: 12px;\n",
              "    }\n",
              "\n",
              "    .colab-df-convert {\n",
              "      background-color: #E8F0FE;\n",
              "      border: none;\n",
              "      border-radius: 50%;\n",
              "      cursor: pointer;\n",
              "      display: none;\n",
              "      fill: #1967D2;\n",
              "      height: 32px;\n",
              "      padding: 0 0 0 0;\n",
              "      width: 32px;\n",
              "    }\n",
              "\n",
              "    .colab-df-convert:hover {\n",
              "      background-color: #E2EBFA;\n",
              "      box-shadow: 0px 1px 2px rgba(60, 64, 67, 0.3), 0px 1px 3px 1px rgba(60, 64, 67, 0.15);\n",
              "      fill: #174EA6;\n",
              "    }\n",
              "\n",
              "    [theme=dark] .colab-df-convert {\n",
              "      background-color: #3B4455;\n",
              "      fill: #D2E3FC;\n",
              "    }\n",
              "\n",
              "    [theme=dark] .colab-df-convert:hover {\n",
              "      background-color: #434B5C;\n",
              "      box-shadow: 0px 1px 3px 1px rgba(0, 0, 0, 0.15);\n",
              "      filter: drop-shadow(0px 1px 2px rgba(0, 0, 0, 0.3));\n",
              "      fill: #FFFFFF;\n",
              "    }\n",
              "  </style>\n",
              "\n",
              "      <script>\n",
              "        const buttonEl =\n",
              "          document.querySelector('#df-6f27953f-2e24-4c66-ab90-42eb618da015 button.colab-df-convert');\n",
              "        buttonEl.style.display =\n",
              "          google.colab.kernel.accessAllowed ? 'block' : 'none';\n",
              "\n",
              "        async function convertToInteractive(key) {\n",
              "          const element = document.querySelector('#df-6f27953f-2e24-4c66-ab90-42eb618da015');\n",
              "          const dataTable =\n",
              "            await google.colab.kernel.invokeFunction('convertToInteractive',\n",
              "                                                     [key], {});\n",
              "          if (!dataTable) return;\n",
              "\n",
              "          const docLinkHtml = 'Like what you see? Visit the ' +\n",
              "            '<a target=\"_blank\" href=https://colab.research.google.com/notebooks/data_table.ipynb>data table notebook</a>'\n",
              "            + ' to learn more about interactive tables.';\n",
              "          element.innerHTML = '';\n",
              "          dataTable['output_type'] = 'display_data';\n",
              "          await google.colab.output.renderOutput(dataTable, element);\n",
              "          const docLink = document.createElement('div');\n",
              "          docLink.innerHTML = docLinkHtml;\n",
              "          element.appendChild(docLink);\n",
              "        }\n",
              "      </script>\n",
              "    </div>\n",
              "  </div>\n",
              "  "
            ],
            "text/plain": [
              "                                    Firm    To Grade From Grade Action\n",
              "Date                                                                  \n",
              "2012-02-09 08:17:00    Canaccord Genuity         Buy              main\n",
              "2012-03-08 07:33:00       FBN Securities  Outperform              main\n",
              "2012-03-13 06:08:00            Jefferies         Buy              main\n",
              "2012-03-14 06:13:00       Morgan Stanley  Overweight              main\n",
              "2012-03-14 08:21:00    Canaccord Genuity         Buy              main\n",
              "...                                  ...         ...        ...    ...\n",
              "2022-01-28 13:01:39        Deutsche Bank         Buy              main\n",
              "2022-01-28 14:19:01  New Street Research     Neutral       Sell     up\n",
              "2022-01-28 15:10:56          Oppenheimer  Outperform              main\n",
              "2022-01-31 15:44:19        Credit Suisse     Neutral              main\n",
              "2022-02-15 15:31:58    Tigress Financial  Strong Buy              main\n",
              "\n",
              "[830 rows x 4 columns]"
            ]
          },
          "execution_count": 23,
          "metadata": {},
          "output_type": "execute_result"
        }
      ],
      "source": [
        "ticker.recommendations   #used to buying and seeling the diffrent ferm"
      ]
    },
    {
      "cell_type": "code",
      "execution_count": null,
      "metadata": {
        "colab": {
          "base_uri": "https://localhost:8080/",
          "height": 269
        },
        "id": "4Vv-1wVTl_Xa",
        "outputId": "a4a7a4fc-c2fc-4c8e-a820-bae6de2fc8ad"
      },
      "outputs": [
        {
          "data": {
            "text/html": [
              "\n",
              "  <div id=\"df-46b6f0a4-8396-44ea-a955-b15b3e339c2e\">\n",
              "    <div class=\"colab-df-container\">\n",
              "      <div>\n",
              "<style scoped>\n",
              "    .dataframe tbody tr th:only-of-type {\n",
              "        vertical-align: middle;\n",
              "    }\n",
              "\n",
              "    .dataframe tbody tr th {\n",
              "        vertical-align: top;\n",
              "    }\n",
              "\n",
              "    .dataframe thead th {\n",
              "        text-align: right;\n",
              "    }\n",
              "</style>\n",
              "<table border=\"1\" class=\"dataframe\">\n",
              "  <thead>\n",
              "    <tr style=\"text-align: right;\">\n",
              "      <th></th>\n",
              "      <th>0</th>\n",
              "      <th>1</th>\n",
              "    </tr>\n",
              "  </thead>\n",
              "  <tbody>\n",
              "    <tr>\n",
              "      <th>Earnings Date</th>\n",
              "      <td>2022-04-26 20:00:00</td>\n",
              "      <td>2022-05-02 20:00:00</td>\n",
              "    </tr>\n",
              "    <tr>\n",
              "      <th>Earnings Average</th>\n",
              "      <td>1.43</td>\n",
              "      <td>1.43</td>\n",
              "    </tr>\n",
              "    <tr>\n",
              "      <th>Earnings Low</th>\n",
              "      <td>1.34</td>\n",
              "      <td>1.34</td>\n",
              "    </tr>\n",
              "    <tr>\n",
              "      <th>Earnings High</th>\n",
              "      <td>1.56</td>\n",
              "      <td>1.56</td>\n",
              "    </tr>\n",
              "    <tr>\n",
              "      <th>Revenue Average</th>\n",
              "      <td>93981100000</td>\n",
              "      <td>93981100000</td>\n",
              "    </tr>\n",
              "    <tr>\n",
              "      <th>Revenue Low</th>\n",
              "      <td>90042000000</td>\n",
              "      <td>90042000000</td>\n",
              "    </tr>\n",
              "    <tr>\n",
              "      <th>Revenue High</th>\n",
              "      <td>100444000000</td>\n",
              "      <td>100444000000</td>\n",
              "    </tr>\n",
              "  </tbody>\n",
              "</table>\n",
              "</div>\n",
              "      <button class=\"colab-df-convert\" onclick=\"convertToInteractive('df-46b6f0a4-8396-44ea-a955-b15b3e339c2e')\"\n",
              "              title=\"Convert this dataframe to an interactive table.\"\n",
              "              style=\"display:none;\">\n",
              "        \n",
              "  <svg xmlns=\"http://www.w3.org/2000/svg\" height=\"24px\"viewBox=\"0 0 24 24\"\n",
              "       width=\"24px\">\n",
              "    <path d=\"M0 0h24v24H0V0z\" fill=\"none\"/>\n",
              "    <path d=\"M18.56 5.44l.94 2.06.94-2.06 2.06-.94-2.06-.94-.94-2.06-.94 2.06-2.06.94zm-11 1L8.5 8.5l.94-2.06 2.06-.94-2.06-.94L8.5 2.5l-.94 2.06-2.06.94zm10 10l.94 2.06.94-2.06 2.06-.94-2.06-.94-.94-2.06-.94 2.06-2.06.94z\"/><path d=\"M17.41 7.96l-1.37-1.37c-.4-.4-.92-.59-1.43-.59-.52 0-1.04.2-1.43.59L10.3 9.45l-7.72 7.72c-.78.78-.78 2.05 0 2.83L4 21.41c.39.39.9.59 1.41.59.51 0 1.02-.2 1.41-.59l7.78-7.78 2.81-2.81c.8-.78.8-2.07 0-2.86zM5.41 20L4 18.59l7.72-7.72 1.47 1.35L5.41 20z\"/>\n",
              "  </svg>\n",
              "      </button>\n",
              "      \n",
              "  <style>\n",
              "    .colab-df-container {\n",
              "      display:flex;\n",
              "      flex-wrap:wrap;\n",
              "      gap: 12px;\n",
              "    }\n",
              "\n",
              "    .colab-df-convert {\n",
              "      background-color: #E8F0FE;\n",
              "      border: none;\n",
              "      border-radius: 50%;\n",
              "      cursor: pointer;\n",
              "      display: none;\n",
              "      fill: #1967D2;\n",
              "      height: 32px;\n",
              "      padding: 0 0 0 0;\n",
              "      width: 32px;\n",
              "    }\n",
              "\n",
              "    .colab-df-convert:hover {\n",
              "      background-color: #E2EBFA;\n",
              "      box-shadow: 0px 1px 2px rgba(60, 64, 67, 0.3), 0px 1px 3px 1px rgba(60, 64, 67, 0.15);\n",
              "      fill: #174EA6;\n",
              "    }\n",
              "\n",
              "    [theme=dark] .colab-df-convert {\n",
              "      background-color: #3B4455;\n",
              "      fill: #D2E3FC;\n",
              "    }\n",
              "\n",
              "    [theme=dark] .colab-df-convert:hover {\n",
              "      background-color: #434B5C;\n",
              "      box-shadow: 0px 1px 3px 1px rgba(0, 0, 0, 0.15);\n",
              "      filter: drop-shadow(0px 1px 2px rgba(0, 0, 0, 0.3));\n",
              "      fill: #FFFFFF;\n",
              "    }\n",
              "  </style>\n",
              "\n",
              "      <script>\n",
              "        const buttonEl =\n",
              "          document.querySelector('#df-46b6f0a4-8396-44ea-a955-b15b3e339c2e button.colab-df-convert');\n",
              "        buttonEl.style.display =\n",
              "          google.colab.kernel.accessAllowed ? 'block' : 'none';\n",
              "\n",
              "        async function convertToInteractive(key) {\n",
              "          const element = document.querySelector('#df-46b6f0a4-8396-44ea-a955-b15b3e339c2e');\n",
              "          const dataTable =\n",
              "            await google.colab.kernel.invokeFunction('convertToInteractive',\n",
              "                                                     [key], {});\n",
              "          if (!dataTable) return;\n",
              "\n",
              "          const docLinkHtml = 'Like what you see? Visit the ' +\n",
              "            '<a target=\"_blank\" href=https://colab.research.google.com/notebooks/data_table.ipynb>data table notebook</a>'\n",
              "            + ' to learn more about interactive tables.';\n",
              "          element.innerHTML = '';\n",
              "          dataTable['output_type'] = 'display_data';\n",
              "          await google.colab.output.renderOutput(dataTable, element);\n",
              "          const docLink = document.createElement('div');\n",
              "          docLink.innerHTML = docLinkHtml;\n",
              "          element.appendChild(docLink);\n",
              "        }\n",
              "      </script>\n",
              "    </div>\n",
              "  </div>\n",
              "  "
            ],
            "text/plain": [
              "                                    0                    1\n",
              "Earnings Date     2022-04-26 20:00:00  2022-05-02 20:00:00\n",
              "Earnings Average                 1.43                 1.43\n",
              "Earnings Low                     1.34                 1.34\n",
              "Earnings High                    1.56                 1.56\n",
              "Revenue Average           93981100000          93981100000\n",
              "Revenue Low               90042000000          90042000000\n",
              "Revenue High             100444000000         100444000000"
            ]
          },
          "execution_count": 24,
          "metadata": {},
          "output_type": "execute_result"
        }
      ],
      "source": [
        "ticker.calendar  #used to know earning and revenue of comapny"
      ]
    },
    {
      "cell_type": "code",
      "execution_count": null,
      "metadata": {
        "colab": {
          "base_uri": "https://localhost:8080/",
          "height": 174
        },
        "id": "7Y-QTOHFmKLn",
        "outputId": "498370de-eab8-499b-ced8-304da5ae2023"
      },
      "outputs": [
        {
          "data": {
            "text/html": [
              "\n",
              "  <div id=\"df-1381d027-9772-4209-9281-23e495f1e843\">\n",
              "    <div class=\"colab-df-container\">\n",
              "      <div>\n",
              "<style scoped>\n",
              "    .dataframe tbody tr th:only-of-type {\n",
              "        vertical-align: middle;\n",
              "    }\n",
              "\n",
              "    .dataframe tbody tr th {\n",
              "        vertical-align: top;\n",
              "    }\n",
              "\n",
              "    .dataframe thead th {\n",
              "        text-align: right;\n",
              "    }\n",
              "</style>\n",
              "<table border=\"1\" class=\"dataframe\">\n",
              "  <thead>\n",
              "    <tr style=\"text-align: right;\">\n",
              "      <th></th>\n",
              "      <th>0</th>\n",
              "      <th>1</th>\n",
              "    </tr>\n",
              "  </thead>\n",
              "  <tbody>\n",
              "    <tr>\n",
              "      <th>0</th>\n",
              "      <td>0.07%</td>\n",
              "      <td>% of Shares Held by All Insider</td>\n",
              "    </tr>\n",
              "    <tr>\n",
              "      <th>1</th>\n",
              "      <td>59.52%</td>\n",
              "      <td>% of Shares Held by Institutions</td>\n",
              "    </tr>\n",
              "    <tr>\n",
              "      <th>2</th>\n",
              "      <td>59.56%</td>\n",
              "      <td>% of Float Held by Institutions</td>\n",
              "    </tr>\n",
              "    <tr>\n",
              "      <th>3</th>\n",
              "      <td>5403</td>\n",
              "      <td>Number of Institutions Holding Shares</td>\n",
              "    </tr>\n",
              "  </tbody>\n",
              "</table>\n",
              "</div>\n",
              "      <button class=\"colab-df-convert\" onclick=\"convertToInteractive('df-1381d027-9772-4209-9281-23e495f1e843')\"\n",
              "              title=\"Convert this dataframe to an interactive table.\"\n",
              "              style=\"display:none;\">\n",
              "        \n",
              "  <svg xmlns=\"http://www.w3.org/2000/svg\" height=\"24px\"viewBox=\"0 0 24 24\"\n",
              "       width=\"24px\">\n",
              "    <path d=\"M0 0h24v24H0V0z\" fill=\"none\"/>\n",
              "    <path d=\"M18.56 5.44l.94 2.06.94-2.06 2.06-.94-2.06-.94-.94-2.06-.94 2.06-2.06.94zm-11 1L8.5 8.5l.94-2.06 2.06-.94-2.06-.94L8.5 2.5l-.94 2.06-2.06.94zm10 10l.94 2.06.94-2.06 2.06-.94-2.06-.94-.94-2.06-.94 2.06-2.06.94z\"/><path d=\"M17.41 7.96l-1.37-1.37c-.4-.4-.92-.59-1.43-.59-.52 0-1.04.2-1.43.59L10.3 9.45l-7.72 7.72c-.78.78-.78 2.05 0 2.83L4 21.41c.39.39.9.59 1.41.59.51 0 1.02-.2 1.41-.59l7.78-7.78 2.81-2.81c.8-.78.8-2.07 0-2.86zM5.41 20L4 18.59l7.72-7.72 1.47 1.35L5.41 20z\"/>\n",
              "  </svg>\n",
              "      </button>\n",
              "      \n",
              "  <style>\n",
              "    .colab-df-container {\n",
              "      display:flex;\n",
              "      flex-wrap:wrap;\n",
              "      gap: 12px;\n",
              "    }\n",
              "\n",
              "    .colab-df-convert {\n",
              "      background-color: #E8F0FE;\n",
              "      border: none;\n",
              "      border-radius: 50%;\n",
              "      cursor: pointer;\n",
              "      display: none;\n",
              "      fill: #1967D2;\n",
              "      height: 32px;\n",
              "      padding: 0 0 0 0;\n",
              "      width: 32px;\n",
              "    }\n",
              "\n",
              "    .colab-df-convert:hover {\n",
              "      background-color: #E2EBFA;\n",
              "      box-shadow: 0px 1px 2px rgba(60, 64, 67, 0.3), 0px 1px 3px 1px rgba(60, 64, 67, 0.15);\n",
              "      fill: #174EA6;\n",
              "    }\n",
              "\n",
              "    [theme=dark] .colab-df-convert {\n",
              "      background-color: #3B4455;\n",
              "      fill: #D2E3FC;\n",
              "    }\n",
              "\n",
              "    [theme=dark] .colab-df-convert:hover {\n",
              "      background-color: #434B5C;\n",
              "      box-shadow: 0px 1px 3px 1px rgba(0, 0, 0, 0.15);\n",
              "      filter: drop-shadow(0px 1px 2px rgba(0, 0, 0, 0.3));\n",
              "      fill: #FFFFFF;\n",
              "    }\n",
              "  </style>\n",
              "\n",
              "      <script>\n",
              "        const buttonEl =\n",
              "          document.querySelector('#df-1381d027-9772-4209-9281-23e495f1e843 button.colab-df-convert');\n",
              "        buttonEl.style.display =\n",
              "          google.colab.kernel.accessAllowed ? 'block' : 'none';\n",
              "\n",
              "        async function convertToInteractive(key) {\n",
              "          const element = document.querySelector('#df-1381d027-9772-4209-9281-23e495f1e843');\n",
              "          const dataTable =\n",
              "            await google.colab.kernel.invokeFunction('convertToInteractive',\n",
              "                                                     [key], {});\n",
              "          if (!dataTable) return;\n",
              "\n",
              "          const docLinkHtml = 'Like what you see? Visit the ' +\n",
              "            '<a target=\"_blank\" href=https://colab.research.google.com/notebooks/data_table.ipynb>data table notebook</a>'\n",
              "            + ' to learn more about interactive tables.';\n",
              "          element.innerHTML = '';\n",
              "          dataTable['output_type'] = 'display_data';\n",
              "          await google.colab.output.renderOutput(dataTable, element);\n",
              "          const docLink = document.createElement('div');\n",
              "          docLink.innerHTML = docLinkHtml;\n",
              "          element.appendChild(docLink);\n",
              "        }\n",
              "      </script>\n",
              "    </div>\n",
              "  </div>\n",
              "  "
            ],
            "text/plain": [
              "        0                                      1\n",
              "0   0.07%        % of Shares Held by All Insider\n",
              "1  59.52%       % of Shares Held by Institutions\n",
              "2  59.56%        % of Float Held by Institutions\n",
              "3    5403  Number of Institutions Holding Shares"
            ]
          },
          "execution_count": 25,
          "metadata": {},
          "output_type": "execute_result"
        }
      ],
      "source": [
        "ticker.major_holders  #it gives major holders"
      ]
    },
    {
      "cell_type": "code",
      "execution_count": null,
      "metadata": {
        "colab": {
          "base_uri": "https://localhost:8080/",
          "height": 206
        },
        "id": "7sFHEXFAm0vJ",
        "outputId": "f8608aeb-dadd-4cc1-b1ab-8d9f7d7f34a5"
      },
      "outputs": [
        {
          "data": {
            "text/html": [
              "\n",
              "  <div id=\"df-dc59b580-37a8-4440-8155-77f93b0e5213\">\n",
              "    <div class=\"colab-df-container\">\n",
              "      <div>\n",
              "<style scoped>\n",
              "    .dataframe tbody tr th:only-of-type {\n",
              "        vertical-align: middle;\n",
              "    }\n",
              "\n",
              "    .dataframe tbody tr th {\n",
              "        vertical-align: top;\n",
              "    }\n",
              "\n",
              "    .dataframe thead th {\n",
              "        text-align: right;\n",
              "    }\n",
              "</style>\n",
              "<table border=\"1\" class=\"dataframe\">\n",
              "  <thead>\n",
              "    <tr style=\"text-align: right;\">\n",
              "      <th></th>\n",
              "      <th>Date</th>\n",
              "      <th>Open</th>\n",
              "      <th>High</th>\n",
              "      <th>Low</th>\n",
              "      <th>Close</th>\n",
              "      <th>Adj Close</th>\n",
              "      <th>Volume</th>\n",
              "    </tr>\n",
              "  </thead>\n",
              "  <tbody>\n",
              "    <tr>\n",
              "      <th>0</th>\n",
              "      <td>2019-01-02</td>\n",
              "      <td>38.722500</td>\n",
              "      <td>39.712502</td>\n",
              "      <td>38.557499</td>\n",
              "      <td>39.480000</td>\n",
              "      <td>38.277531</td>\n",
              "      <td>148158800</td>\n",
              "    </tr>\n",
              "    <tr>\n",
              "      <th>1</th>\n",
              "      <td>2019-01-03</td>\n",
              "      <td>35.994999</td>\n",
              "      <td>36.430000</td>\n",
              "      <td>35.500000</td>\n",
              "      <td>35.547501</td>\n",
              "      <td>34.464806</td>\n",
              "      <td>365248800</td>\n",
              "    </tr>\n",
              "    <tr>\n",
              "      <th>2</th>\n",
              "      <td>2019-01-04</td>\n",
              "      <td>36.132500</td>\n",
              "      <td>37.137501</td>\n",
              "      <td>35.950001</td>\n",
              "      <td>37.064999</td>\n",
              "      <td>35.936077</td>\n",
              "      <td>234428400</td>\n",
              "    </tr>\n",
              "    <tr>\n",
              "      <th>3</th>\n",
              "      <td>2019-01-07</td>\n",
              "      <td>37.174999</td>\n",
              "      <td>37.207500</td>\n",
              "      <td>36.474998</td>\n",
              "      <td>36.982498</td>\n",
              "      <td>35.856094</td>\n",
              "      <td>219111200</td>\n",
              "    </tr>\n",
              "    <tr>\n",
              "      <th>4</th>\n",
              "      <td>2019-01-08</td>\n",
              "      <td>37.389999</td>\n",
              "      <td>37.955002</td>\n",
              "      <td>37.130001</td>\n",
              "      <td>37.687500</td>\n",
              "      <td>36.539616</td>\n",
              "      <td>164101200</td>\n",
              "    </tr>\n",
              "  </tbody>\n",
              "</table>\n",
              "</div>\n",
              "      <button class=\"colab-df-convert\" onclick=\"convertToInteractive('df-dc59b580-37a8-4440-8155-77f93b0e5213')\"\n",
              "              title=\"Convert this dataframe to an interactive table.\"\n",
              "              style=\"display:none;\">\n",
              "        \n",
              "  <svg xmlns=\"http://www.w3.org/2000/svg\" height=\"24px\"viewBox=\"0 0 24 24\"\n",
              "       width=\"24px\">\n",
              "    <path d=\"M0 0h24v24H0V0z\" fill=\"none\"/>\n",
              "    <path d=\"M18.56 5.44l.94 2.06.94-2.06 2.06-.94-2.06-.94-.94-2.06-.94 2.06-2.06.94zm-11 1L8.5 8.5l.94-2.06 2.06-.94-2.06-.94L8.5 2.5l-.94 2.06-2.06.94zm10 10l.94 2.06.94-2.06 2.06-.94-2.06-.94-.94-2.06-.94 2.06-2.06.94z\"/><path d=\"M17.41 7.96l-1.37-1.37c-.4-.4-.92-.59-1.43-.59-.52 0-1.04.2-1.43.59L10.3 9.45l-7.72 7.72c-.78.78-.78 2.05 0 2.83L4 21.41c.39.39.9.59 1.41.59.51 0 1.02-.2 1.41-.59l7.78-7.78 2.81-2.81c.8-.78.8-2.07 0-2.86zM5.41 20L4 18.59l7.72-7.72 1.47 1.35L5.41 20z\"/>\n",
              "  </svg>\n",
              "      </button>\n",
              "      \n",
              "  <style>\n",
              "    .colab-df-container {\n",
              "      display:flex;\n",
              "      flex-wrap:wrap;\n",
              "      gap: 12px;\n",
              "    }\n",
              "\n",
              "    .colab-df-convert {\n",
              "      background-color: #E8F0FE;\n",
              "      border: none;\n",
              "      border-radius: 50%;\n",
              "      cursor: pointer;\n",
              "      display: none;\n",
              "      fill: #1967D2;\n",
              "      height: 32px;\n",
              "      padding: 0 0 0 0;\n",
              "      width: 32px;\n",
              "    }\n",
              "\n",
              "    .colab-df-convert:hover {\n",
              "      background-color: #E2EBFA;\n",
              "      box-shadow: 0px 1px 2px rgba(60, 64, 67, 0.3), 0px 1px 3px 1px rgba(60, 64, 67, 0.15);\n",
              "      fill: #174EA6;\n",
              "    }\n",
              "\n",
              "    [theme=dark] .colab-df-convert {\n",
              "      background-color: #3B4455;\n",
              "      fill: #D2E3FC;\n",
              "    }\n",
              "\n",
              "    [theme=dark] .colab-df-convert:hover {\n",
              "      background-color: #434B5C;\n",
              "      box-shadow: 0px 1px 3px 1px rgba(0, 0, 0, 0.15);\n",
              "      filter: drop-shadow(0px 1px 2px rgba(0, 0, 0, 0.3));\n",
              "      fill: #FFFFFF;\n",
              "    }\n",
              "  </style>\n",
              "\n",
              "      <script>\n",
              "        const buttonEl =\n",
              "          document.querySelector('#df-dc59b580-37a8-4440-8155-77f93b0e5213 button.colab-df-convert');\n",
              "        buttonEl.style.display =\n",
              "          google.colab.kernel.accessAllowed ? 'block' : 'none';\n",
              "\n",
              "        async function convertToInteractive(key) {\n",
              "          const element = document.querySelector('#df-dc59b580-37a8-4440-8155-77f93b0e5213');\n",
              "          const dataTable =\n",
              "            await google.colab.kernel.invokeFunction('convertToInteractive',\n",
              "                                                     [key], {});\n",
              "          if (!dataTable) return;\n",
              "\n",
              "          const docLinkHtml = 'Like what you see? Visit the ' +\n",
              "            '<a target=\"_blank\" href=https://colab.research.google.com/notebooks/data_table.ipynb>data table notebook</a>'\n",
              "            + ' to learn more about interactive tables.';\n",
              "          element.innerHTML = '';\n",
              "          dataTable['output_type'] = 'display_data';\n",
              "          await google.colab.output.renderOutput(dataTable, element);\n",
              "          const docLink = document.createElement('div');\n",
              "          docLink.innerHTML = docLinkHtml;\n",
              "          element.appendChild(docLink);\n",
              "        }\n",
              "      </script>\n",
              "    </div>\n",
              "  </div>\n",
              "  "
            ],
            "text/plain": [
              "        Date       Open       High        Low      Close  Adj Close     Volume\n",
              "0 2019-01-02  38.722500  39.712502  38.557499  39.480000  38.277531  148158800\n",
              "1 2019-01-03  35.994999  36.430000  35.500000  35.547501  34.464806  365248800\n",
              "2 2019-01-04  36.132500  37.137501  35.950001  37.064999  35.936077  234428400\n",
              "3 2019-01-07  37.174999  37.207500  36.474998  36.982498  35.856094  219111200\n",
              "4 2019-01-08  37.389999  37.955002  37.130001  37.687500  36.539616  164101200"
            ]
          },
          "execution_count": 26,
          "metadata": {},
          "output_type": "execute_result"
        }
      ],
      "source": [
        "stock.head()"
      ]
    },
    {
      "cell_type": "code",
      "execution_count": null,
      "metadata": {
        "id": "OS0RCG-O-nQu"
      },
      "outputs": [],
      "source": [
        ""
      ]
    },
    {
      "cell_type": "markdown",
      "metadata": {
        "id": "s6BhfJ05-pFq"
      },
      "source": [
        "Train_test data"
      ]
    },
    {
      "cell_type": "code",
      "execution_count": null,
      "metadata": {
        "id": "kl1nLeb0-quh"
      },
      "outputs": [],
      "source": [
        "from sklearn.model_selection import train_test_split\n",
        "#from sklearn.model_selection import GridSearchCV"
      ]
    },
    {
      "cell_type": "code",
      "execution_count": null,
      "metadata": {
        "id": "wdxzz7IF-vM8"
      },
      "outputs": [],
      "source": [
        "from sklearn.svm import SVR    #use SVR algorithem "
      ]
    },
    {
      "cell_type": "code",
      "execution_count": null,
      "metadata": {
        "id": "pXg-KBYV-0W8"
      },
      "outputs": [],
      "source": [
        "x = stock['Date']\n",
        "y = stock['Close']"
      ]
    },
    {
      "cell_type": "code",
      "execution_count": null,
      "metadata": {
        "id": "iuB-W7aluruq"
      },
      "outputs": [],
      "source": [
        "from sklearn.preprocessing import StandardScaler"
      ]
    },
    {
      "cell_type": "code",
      "execution_count": null,
      "metadata": {
        "id": "yUVPVoRNuwa3"
      },
      "outputs": [],
      "source": [
        "scale = StandardScaler()\n"
      ]
    },
    {
      "cell_type": "code",
      "execution_count": null,
      "metadata": {
        "id": "fsS3vsWwu2o9"
      },
      "outputs": [],
      "source": [
        "x = scale.fit_transform(x.values.reshape(-1,1))     #it contain 2D array covert into 2D\n",
        "\n"
      ]
    },
    {
      "cell_type": "code",
      "execution_count": null,
      "metadata": {
        "id": "MRQbOSByBumw"
      },
      "outputs": [],
      "source": [
        "y = scale.fit_transform(y.values.reshape(-1,1))  #1D to 2 D"
      ]
    },
    {
      "cell_type": "code",
      "execution_count": null,
      "metadata": {
        "id": "d5Qd6jsE-8BE"
      },
      "outputs": [],
      "source": [
        "x_train,x_test,y_train,y_test = train_test_split(x,y,test_size=0.20,shuffle=False,random_state=0)"
      ]
    },
    {
      "cell_type": "code",
      "execution_count": null,
      "metadata": {
        "colab": {
          "base_uri": "https://localhost:8080/"
        },
        "id": "IyqBE4f9psWU",
        "outputId": "ea42e0ac-fe97-44be-d7c3-fa17a94f2c06"
      },
      "outputs": [
        {
          "name": "stdout",
          "output_type": "stream",
          "text": [
            "(492, 1)\n",
            "(124, 1)\n",
            "(492, 1)\n",
            "(124, 1)\n"
          ]
        }
      ],
      "source": [
        "print(x_train.shape)\n",
        "print(x_test.shape)\n",
        "print(y_train.shape)\n",
        "print(y_test.shape)"
      ]
    },
    {
      "cell_type": "markdown",
      "metadata": {
        "id": "mN5Pv_cSoWNK"
      },
      "source": [
        "**Model fitting**"
      ]
    },
    {
      "cell_type": "code",
      "execution_count": null,
      "metadata": {
        "colab": {
          "background_save": true
        },
        "id": "qXb5R4F0BYc8"
      },
      "outputs": [],
      "source": [
        "model = SVR(kernel='rbf')    "
      ]
    },
    {
      "cell_type": "code",
      "execution_count": null,
      "metadata": {
        "colab": {
          "base_uri": "https://localhost:8080/"
        },
        "id": "Ux_JXSvwBsI8",
        "outputId": "0b48e781-cfd2-49a9-e4e0-78e376eb3349"
      },
      "outputs": [
        {
          "name": "stderr",
          "output_type": "stream",
          "text": [
            "/usr/local/lib/python3.7/dist-packages/sklearn/utils/validation.py:993: DataConversionWarning:\n",
            "\n",
            "A column-vector y was passed when a 1d array was expected. Please change the shape of y to (n_samples, ), for example using ravel().\n",
            "\n"
          ]
        },
        {
          "data": {
            "text/plain": [
              "SVR()"
            ]
          },
          "execution_count": 38,
          "metadata": {},
          "output_type": "execute_result"
        }
      ],
      "source": [
        "model.fit(x_train,y_train)"
      ]
    },
    {
      "cell_type": "code",
      "execution_count": null,
      "metadata": {
        "id": "Dbafb_uYCglE"
      },
      "outputs": [],
      "source": [
        "y_pred = model.predict(x_test)"
      ]
    },
    {
      "cell_type": "markdown",
      "metadata": {
        "id": "gQnStAbIBzuS"
      },
      "source": [
        "**Prediction new result**"
      ]
    },
    {
      "cell_type": "code",
      "execution_count": null,
      "metadata": {
        "colab": {
          "base_uri": "https://localhost:8080/"
        },
        "id": "9alxGPgdCzCf",
        "outputId": "31f06317-e2b4-43d1-e55d-f8d0e7fcdfc2"
      },
      "outputs": [
        {
          "data": {
            "text/plain": [
              "(124,)"
            ]
          },
          "execution_count": 40,
          "metadata": {},
          "output_type": "execute_result"
        }
      ],
      "source": [
        "y_pred.shape"
      ]
    },
    {
      "cell_type": "code",
      "execution_count": null,
      "metadata": {
        "colab": {
          "base_uri": "https://localhost:8080/"
        },
        "id": "Oj7dZ41OBwtc",
        "outputId": "6c6ef395-32a1-4746-9556-4d994459add1"
      },
      "outputs": [
        {
          "data": {
            "text/plain": [
              "(124, 1)"
            ]
          },
          "execution_count": 41,
          "metadata": {},
          "output_type": "execute_result"
        }
      ],
      "source": [
        "y_test.shape"
      ]
    },
    {
      "cell_type": "code",
      "execution_count": null,
      "metadata": {
        "id": "l9CzHw3jvyVN"
      },
      "outputs": [],
      "source": [
        "y_test = scale.inverse_transform(y_test)  "
      ]
    },
    {
      "cell_type": "code",
      "execution_count": null,
      "metadata": {
        "id": "TqvdMhlgEur5"
      },
      "outputs": [],
      "source": [
        "y_pred = y_pred.reshape(-1,1)"
      ]
    },
    {
      "cell_type": "code",
      "execution_count": null,
      "metadata": {
        "colab": {
          "base_uri": "https://localhost:8080/"
        },
        "id": "ukbReJq4E-Yj",
        "outputId": "284fbb44-5542-46b2-ebdb-2218ff1bb78e"
      },
      "outputs": [
        {
          "data": {
            "text/plain": [
              "(124, 1)"
            ]
          },
          "execution_count": 44,
          "metadata": {},
          "output_type": "execute_result"
        }
      ],
      "source": [
        "y_pred.shape"
      ]
    },
    {
      "cell_type": "code",
      "execution_count": null,
      "metadata": {
        "id": "CD2cAA_rvZP3"
      },
      "outputs": [],
      "source": [
        "y_pred = scale.inverse_transform(y_pred)"
      ]
    },
    {
      "cell_type": "code",
      "execution_count": null,
      "metadata": {
        "colab": {
          "base_uri": "https://localhost:8080/",
          "height": 282
        },
        "id": "DVMNqMj5Cw7D",
        "outputId": "a8faaf98-ab71-4034-a5af-578810be6c3c"
      },
      "outputs": [
        {
          "data": {
            "text/plain": [
              "<matplotlib.collections.PathCollection at 0x7ff80aaf4790>"
            ]
          },
          "execution_count": 46,
          "metadata": {},
          "output_type": "execute_result"
        },
        {
          "data": {
            "image/png": "[encoded data removed]",
            "text/plain": [
              "<Figure size 432x288 with 1 Axes>"
            ]
          },
          "metadata": {},
          "output_type": "display_data"
        }
      ],
      "source": [
        "plt.scatter(y_test,y_pred)"
      ]
    },
    {
      "cell_type": "code",
      "execution_count": null,
      "metadata": {
        "colab": {
          "base_uri": "https://localhost:8080/"
        },
        "id": "Su0U4PXRFxZ4",
        "outputId": "43f2e3ac-6245-451b-e07a-7e33131913dd"
      },
      "outputs": [
        {
          "data": {
            "text/plain": [
              "array([[121.77999878],\n",
              "       [127.87999725],\n",
              "       [127.80999756],\n",
              "       [128.69999695],\n",
              "       [126.66000366],\n",
              "       [128.22999573],\n",
              "       [131.88000488],\n",
              "       [130.96000671],\n",
              "       [131.97000122],\n",
              "       [136.69000244],\n",
              "       [134.86999512],\n",
              "       [133.72000122],\n",
              "       [132.69000244],\n",
              "       [129.41000366],\n",
              "       [131.00999451],\n",
              "       [126.59999847],\n",
              "       [130.91999817],\n",
              "       [132.05000305],\n",
              "       [128.97999573],\n",
              "       [128.80000305],\n",
              "       [130.88999939],\n",
              "       [128.91000366],\n",
              "       [127.13999939],\n",
              "       [127.83000183],\n",
              "       [132.02999878],\n",
              "       [136.86999512],\n",
              "       [139.07000732],\n",
              "       [142.91999817],\n",
              "       [143.16000366],\n",
              "       [142.05999756],\n",
              "       [137.08999634],\n",
              "       [131.96000671],\n",
              "       [134.13999939],\n",
              "       [134.99000549],\n",
              "       [133.94000244],\n",
              "       [137.38999939],\n",
              "       [136.75999451],\n",
              "       [136.91000366],\n",
              "       [136.00999451],\n",
              "       [135.38999939],\n",
              "       [135.13000488],\n",
              "       [135.36999512],\n",
              "       [133.19000244],\n",
              "       [130.83999634],\n",
              "       [129.71000671],\n",
              "       [129.86999512],\n",
              "       [126.        ],\n",
              "       [125.86000061],\n",
              "       [125.34999847],\n",
              "       [120.98999786],\n",
              "       [121.26000214],\n",
              "       [127.79000092],\n",
              "       [125.12000275],\n",
              "       [122.05999756],\n",
              "       [120.12999725],\n",
              "       [121.41999817],\n",
              "       [116.36000061],\n",
              "       [121.08999634],\n",
              "       [119.98000336],\n",
              "       [121.95999908],\n",
              "       [121.02999878],\n",
              "       [123.98999786],\n",
              "       [125.56999969],\n",
              "       [124.76000214],\n",
              "       [120.52999878],\n",
              "       [119.98999786],\n",
              "       [123.38999939],\n",
              "       [122.54000092],\n",
              "       [120.08999634],\n",
              "       [120.58999634],\n",
              "       [121.20999908],\n",
              "       [121.38999939],\n",
              "       [119.90000153],\n",
              "       [122.15000153],\n",
              "       [123.        ],\n",
              "       [125.90000153],\n",
              "       [126.20999908],\n",
              "       [127.90000153],\n",
              "       [130.36000061],\n",
              "       [133.        ],\n",
              "       [131.24000549],\n",
              "       [134.42999268],\n",
              "       [132.02999878],\n",
              "       [134.5       ],\n",
              "       [134.16000366],\n",
              "       [134.83999634],\n",
              "       [133.11000061],\n",
              "       [133.5       ],\n",
              "       [131.94000244],\n",
              "       [134.32000732],\n",
              "       [134.72000122],\n",
              "       [134.38999939],\n",
              "       [133.58000183],\n",
              "       [133.47999573],\n",
              "       [131.46000671],\n",
              "       [132.53999329],\n",
              "       [127.84999847],\n",
              "       [128.1000061 ],\n",
              "       [129.74000549],\n",
              "       [130.21000671],\n",
              "       [126.84999847],\n",
              "       [125.91000366],\n",
              "       [122.76999664],\n",
              "       [124.97000122],\n",
              "       [127.44999695],\n",
              "       [126.26999664],\n",
              "       [124.84999847],\n",
              "       [124.69000244],\n",
              "       [127.30999756],\n",
              "       [125.43000031],\n",
              "       [127.09999847],\n",
              "       [126.90000153],\n",
              "       [126.84999847],\n",
              "       [125.27999878],\n",
              "       [124.61000061],\n",
              "       [124.27999878],\n",
              "       [125.05999756],\n",
              "       [123.54000092],\n",
              "       [125.88999939],\n",
              "       [125.90000153],\n",
              "       [126.73999786],\n",
              "       [127.12999725],\n",
              "       [126.11000061],\n",
              "       [127.34999847]])"
            ]
          },
          "execution_count": 88,
          "metadata": {},
          "output_type": "execute_result"
        }
      ],
      "source": [
        "y_test  #y testing data"
      ]
    },
    {
      "cell_type": "code",
      "execution_count": null,
      "metadata": {
        "colab": {
          "base_uri": "https://localhost:8080/"
        },
        "id": "G474CvYlGBxH",
        "outputId": "e9b7a523-ac58-4693-e496-2ab1b65ec338"
      },
      "outputs": [
        {
          "data": {
            "text/plain": [
              "array([[117.9125975 ],\n",
              "       [117.78788001],\n",
              "       [117.66032318],\n",
              "       [117.52997093],\n",
              "       [117.39686743],\n",
              "       [116.98149485],\n",
              "       [116.83783282],\n",
              "       [116.69164378],\n",
              "       [116.54297312],\n",
              "       [115.92438671],\n",
              "       [115.76399318],\n",
              "       [115.60139276],\n",
              "       [115.43663148],\n",
              "       [114.75689897],\n",
              "       [114.58202422],\n",
              "       [114.4052648 ],\n",
              "       [114.2266666 ],\n",
              "       [114.04627543],\n",
              "       [113.49480066],\n",
              "       [113.30769359],\n",
              "       [113.11902089],\n",
              "       [112.9288276 ],\n",
              "       [112.73715858],\n",
              "       [111.95661542],\n",
              "       [111.75823355],\n",
              "       [111.55864069],\n",
              "       [111.35788012],\n",
              "       [110.74902086],\n",
              "       [110.54401669],\n",
              "       [110.33805693],\n",
              "       [110.13118308],\n",
              "       [109.92343631],\n",
              "       [109.29536489],\n",
              "       [109.08453109],\n",
              "       [108.87302488],\n",
              "       [108.66088526],\n",
              "       [108.44815083],\n",
              "       [107.80675859],\n",
              "       [107.5920228 ],\n",
              "       [107.37687907],\n",
              "       [107.16136351],\n",
              "       [106.9455118 ],\n",
              "       [106.07944133],\n",
              "       [105.86242833],\n",
              "       [105.64528377],\n",
              "       [105.42804013],\n",
              "       [104.77603253],\n",
              "       [104.55870796],\n",
              "       [104.34143958],\n",
              "       [104.12425702],\n",
              "       [103.90718938],\n",
              "       [103.25695982],\n",
              "       [103.04063322],\n",
              "       [102.82455975],\n",
              "       [102.60876557],\n",
              "       [102.39327632],\n",
              "       [101.74888737],\n",
              "       [101.53486453],\n",
              "       [101.32126747],\n",
              "       [101.10811887],\n",
              "       [100.8954409 ],\n",
              "       [100.26044532],\n",
              "       [100.04986192],\n",
              "       [ 99.83985271],\n",
              "       [ 99.63043694],\n",
              "       [ 99.42163338],\n",
              "       [ 98.7990764 ],\n",
              "       [ 98.59289975],\n",
              "       [ 98.38742198],\n",
              "       [ 98.18265902],\n",
              "       [ 97.97862633],\n",
              "       [ 97.37105765],\n",
              "       [ 97.17009155],\n",
              "       [ 96.96992622],\n",
              "       [ 96.77057443],\n",
              "       [ 95.98154276],\n",
              "       [ 95.78643503],\n",
              "       [ 95.59220843],\n",
              "       [ 95.39887277],\n",
              "       [ 95.20643746],\n",
              "       [ 94.6346217 ],\n",
              "       [ 94.44587394],\n",
              "       [ 94.25806767],\n",
              "       [ 94.07121001],\n",
              "       [ 93.88530766],\n",
              "       [ 93.33339442],\n",
              "       [ 93.15137348],\n",
              "       [ 92.97033617],\n",
              "       [ 92.79028715],\n",
              "       [ 92.61123072],\n",
              "       [ 92.08005532],\n",
              "       [ 91.90500604],\n",
              "       [ 91.73096621],\n",
              "       [ 91.55793828],\n",
              "       [ 91.38592445],\n",
              "       [ 90.87598513],\n",
              "       [ 90.70804393],\n",
              "       [ 90.54112363],\n",
              "       [ 90.37522479],\n",
              "       [ 90.21034777],\n",
              "       [ 89.7218473 ],\n",
              "       [ 89.56105612],\n",
              "       [ 89.40128493],\n",
              "       [ 89.24253271],\n",
              "       [ 89.08479823],\n",
              "       [ 88.61768599],\n",
              "       [ 88.46400628],\n",
              "       [ 88.31133528],\n",
              "       [ 88.15967065],\n",
              "       [ 88.00900987],\n",
              "       [ 87.56302315],\n",
              "       [ 87.41634951],\n",
              "       [ 87.27066485],\n",
              "       [ 87.12596575],\n",
              "       [ 86.98224869],\n",
              "       [ 86.41712576],\n",
              "       [ 86.2782616 ],\n",
              "       [ 86.14035579],\n",
              "       [ 86.00340403],\n",
              "       [ 85.59822845],\n",
              "       [ 85.46504791],\n",
              "       [ 85.33279853],\n",
              "       [ 85.20147552],\n",
              "       [ 85.07107401]])"
            ]
          },
          "execution_count": 60,
          "metadata": {},
          "output_type": "execute_result"
        }
      ],
      "source": [
        "from sklearn.metrics import accuracy_score,mean_squared_error\n",
        "from sklearn.metrics import confusion_matrix\n",
        "y_pred    #y predict values by the model\n"
      ]
    },
    {
      "cell_type": "markdown",
      "metadata": {
        "id": "iR4V8Jdcskac"
      },
      "source": [
        "The confusion matrix is used to tell you how many predictions were classified correctly or incorrectly. You are looking at a regression model, which gives you a continous output\n",
        "it except expected class predictions, not floating point numbers"
      ]
    },
    {
      "cell_type": "code",
      "execution_count": null,
      "metadata": {
        "id": "ZZbcTg63G1EF"
      },
      "outputs": [],
      "source": [
        "cutoff = 87.00                             # decide on a cutoff limit\n",
        "y_pred_classes = np.zeros_like(y_pred)    # initialise a matrix full with zeros\n",
        "y_pred_classes[y_pred > cutoff] = 1 "
      ]
    },
    {
      "cell_type": "code",
      "execution_count": null,
      "metadata": {
        "id": "otrYgCrZItRj"
      },
      "outputs": [],
      "source": [
        "y_test_classes = np.zeros_like(y_pred)\n",
        "y_test_classes[y_test > cutoff] = 1"
      ]
    },
    {
      "cell_type": "code",
      "execution_count": null,
      "metadata": {
        "id": "ACA502j-IuEU"
      },
      "outputs": [],
      "source": [
        "from sklearn import metrics"
      ]
    },
    {
      "cell_type": "code",
      "execution_count": null,
      "metadata": {
        "colab": {
          "base_uri": "https://localhost:8080/"
        },
        "id": "TMJ-o90xJbdy",
        "outputId": "3f8c7cac-543d-44f8-ccaf-b3a317494d98"
      },
      "outputs": [
        {
          "data": {
            "text/plain": [
              "array([[  0,   0],\n",
              "       [ 10, 114]])"
            ]
          },
          "execution_count": 62,
          "metadata": {},
          "output_type": "execute_result"
        }
      ],
      "source": [
        "metrics.confusion_matrix(y_test_classes,y_pred_classes)"
      ]
    },
    {
      "cell_type": "code",
      "execution_count": null,
      "metadata": {
        "colab": {
          "base_uri": "https://localhost:8080/",
          "height": 261
        },
        "id": "Eu2f9S-JJlJ8",
        "outputId": "25c276bd-2617-486b-a259-21d7d6f23daa"
      },
      "outputs": [
        {
          "name": "stderr",
          "output_type": "stream",
          "text": [
            "/usr/local/lib/python3.7/dist-packages/sklearn/metrics/_classification.py:1318: UndefinedMetricWarning:\n",
            "\n",
            "Recall and F-score are ill-defined and being set to 0.0 in labels with no true samples. Use `zero_division` parameter to control this behavior.\n",
            "\n",
            "/usr/local/lib/python3.7/dist-packages/sklearn/metrics/_classification.py:1318: UndefinedMetricWarning:\n",
            "\n",
            "Recall and F-score are ill-defined and being set to 0.0 in labels with no true samples. Use `zero_division` parameter to control this behavior.\n",
            "\n",
            "/usr/local/lib/python3.7/dist-packages/sklearn/metrics/_classification.py:1318: UndefinedMetricWarning:\n",
            "\n",
            "Recall and F-score are ill-defined and being set to 0.0 in labels with no true samples. Use `zero_division` parameter to control this behavior.\n",
            "\n"
          ]
        },
        {
          "data": {
            "application/vnd.google.colaboratory.intrinsic+json": {
              "type": "string"
            },
            "text/plain": [
              "'              precision    recall  f1-score   support\\n\\n         0.0       0.00      0.00      0.00         0\\n         1.0       1.00      0.92      0.96       124\\n\\n    accuracy                           0.92       124\\n   macro avg       0.50      0.46      0.48       124\\nweighted avg       1.00      0.92      0.96       124\\n'"
            ]
          },
          "execution_count": 63,
          "metadata": {},
          "output_type": "execute_result"
        }
      ],
      "source": [
        "metrics.classification_report(y_test_classes,y_pred_classes)"
      ]
    },
    {
      "cell_type": "code",
      "execution_count": null,
      "metadata": {
        "colab": {
          "base_uri": "https://localhost:8080/"
        },
        "id": "F16yQog0J3ZQ",
        "outputId": "6f5d5ef5-d5dd-4e0d-9710-bbf792dd0671"
      },
      "outputs": [
        {
          "data": {
            "text/plain": [
              "91.93548387096774"
            ]
          },
          "execution_count": 64,
          "metadata": {},
          "output_type": "execute_result"
        }
      ],
      "source": [
        "accuracy_score(y_test_classes,y_pred_classes)*100"
      ]
    },
    {
      "cell_type": "code",
      "execution_count": null,
      "metadata": {
        "id": "_uSmpnh4tyym"
      },
      "outputs": [],
      "source": [
        ""
      ]
    }
  ],
  "metadata": {
    "colab": {
      "collapsed_sections": [],
      "name": "Sanket_suryavanshi_project.ipynb",
      "provenance": [],
      "authorship_tag": "ABX9TyMNcbk4IEujQGIQQ7xUSAVx",
      "include_colab_link": true
    },
    "kernelspec": {
      "display_name": "Python 3",
      "name": "python3"
    },
    "language_info": {
      "name": "python"
    }
  },
  "nbformat": 4,
  "nbformat_minor": 0
}